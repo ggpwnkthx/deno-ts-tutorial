{
 "cells": [
  {
   "cell_type": "markdown",
   "metadata": {},
   "source": [
    "# The `Deno` Namespace\n",
    "\n",
    "The `Deno` namespace is the core of Deno's runtime environment, offering a suite of built-in functionalities for working with files, processes, networking, and more. Unlike traditional JavaScript, which relies on a global `window` object (in browsers) or `global` object (in Node.js), Deno provides the `Deno` namespace as its central runtime API.\n",
    "\n",
    "For a detailed reference guide of the `Deno` namespace, visit the [Deno Docs](https://docs.deno.com/api/deno/)\n",
    "\n",
    "You can access its properties and methods directly without importing anything:"
   ]
  },
  {
   "cell_type": "code",
   "execution_count": 1,
   "metadata": {},
   "outputs": [
    {
     "data": {
      "text/plain": [
       "{ deno: \u001b[32m\"2.1.2\"\u001b[39m, v8: \u001b[32m\"13.0.245.12-rusty\"\u001b[39m, typescript: \u001b[32m\"5.6.2\"\u001b[39m }"
      ]
     },
     "execution_count": 1,
     "metadata": {},
     "output_type": "execute_result"
    }
   ],
   "source": [
    "Deno.version;"
   ]
  },
  {
   "cell_type": "markdown",
   "metadata": {},
   "source": [
    "This logs the current Deno version as an object containing `deno`, `v8`, and `typescript` versions."
   ]
  },
  {
   "cell_type": "markdown",
   "metadata": {},
   "source": [
    "## Environment Variables\n",
    "\n",
    "The `Deno.env` API provides access to environment variables. To ensure security, you must grant explicit permission to access environment variables when running your script (e.g., `--allow-env`).\n",
    "\n",
    "Set an environment variable (`USERNAME`) and read its value using `Deno.env.get`:"
   ]
  },
  {
   "cell_type": "code",
   "execution_count": 2,
   "metadata": {},
   "outputs": [
    {
     "data": {
      "text/plain": [
       "\u001b[32m\"Alice\"\u001b[39m"
      ]
     },
     "execution_count": 2,
     "metadata": {},
     "output_type": "execute_result"
    }
   ],
   "source": [
    "Deno.env.set(\"USERNAME\", \"Alice\");\n",
    "Deno.env.get(\"USERNAME\");"
   ]
  },
  {
   "cell_type": "markdown",
   "metadata": {},
   "source": [
    "## File System\n",
    "\n",
    "Deno provides robust file system APIs for reading, writing, and managing files and directories.\n",
    "\n",
    "### Writing to a File\n",
    "\n",
    "Use `Deno.writeTextFileSync` to write text to a file. If the file doesn’t exist, it will be created."
   ]
  },
  {
   "cell_type": "code",
   "execution_count": 3,
   "metadata": {},
   "outputs": [],
   "source": [
    "Deno.writeTextFileSync(\"example.txt\", \"Hello, Deno!\");"
   ]
  },
  {
   "cell_type": "markdown",
   "metadata": {},
   "source": [
    "### Reading from a File\n",
    "\n",
    "Use `Deno.readTextFileSync` to read the contents of a file."
   ]
  },
  {
   "cell_type": "code",
   "execution_count": 4,
   "metadata": {},
   "outputs": [
    {
     "data": {
      "text/plain": [
       "\u001b[32m\"Hello, Deno!\"\u001b[39m"
      ]
     },
     "execution_count": 4,
     "metadata": {},
     "output_type": "execute_result"
    }
   ],
   "source": [
    "Deno.readTextFileSync(\"example.txt\");"
   ]
  },
  {
   "cell_type": "markdown",
   "metadata": {},
   "source": [
    "### Checking if a File Exists\n",
    "\n",
    "Use `Deno.statSync` to get information about a file or directory. You can use this method to check if a file exists without errors."
   ]
  },
  {
   "cell_type": "code",
   "execution_count": 5,
   "metadata": {},
   "outputs": [
    {
     "data": {
      "text/plain": [
       "{\n",
       "  isFile: \u001b[33mtrue\u001b[39m,\n",
       "  isDirectory: \u001b[33mfalse\u001b[39m,\n",
       "  isSymlink: \u001b[33mfalse\u001b[39m,\n",
       "  size: \u001b[33m12\u001b[39m,\n",
       "  mtime: \u001b[35m2024-12-03T17:48:27.634Z\u001b[39m,\n",
       "  atime: \u001b[35m2024-12-03T17:48:27.634Z\u001b[39m,\n",
       "  birthtime: \u001b[1mnull\u001b[22m,\n",
       "  ctime: \u001b[35m2024-12-03T17:48:27.000Z\u001b[39m,\n",
       "  dev: \u001b[33m84\u001b[39m,\n",
       "  ino: \u001b[33m147774362773104450\u001b[39m,\n",
       "  mode: \u001b[33m33188\u001b[39m,\n",
       "  nlink: \u001b[33m1\u001b[39m,\n",
       "  uid: \u001b[33m1000\u001b[39m,\n",
       "  gid: \u001b[33m1000\u001b[39m,\n",
       "  rdev: \u001b[33m0\u001b[39m,\n",
       "  blksize: \u001b[33m4096\u001b[39m,\n",
       "  blocks: \u001b[33m0\u001b[39m,\n",
       "  isBlockDevice: \u001b[33mfalse\u001b[39m,\n",
       "  isCharDevice: \u001b[33mfalse\u001b[39m,\n",
       "  isFifo: \u001b[33mfalse\u001b[39m,\n",
       "  isSocket: \u001b[33mfalse\u001b[39m\n",
       "}"
      ]
     },
     "execution_count": 5,
     "metadata": {},
     "output_type": "execute_result"
    }
   ],
   "source": [
    "Deno.statSync(\"example.txt\");"
   ]
  },
  {
   "cell_type": "markdown",
   "metadata": {},
   "source": [
    "### Deleting a File\n",
    "\n",
    "Use `Deno.removeSync` to delete a file or directory."
   ]
  },
  {
   "cell_type": "code",
   "execution_count": 6,
   "metadata": {},
   "outputs": [],
   "source": [
    "Deno.removeSync(\"example.txt\");"
   ]
  }
 ],
 "metadata": {
  "kernelspec": {
   "display_name": "Deno",
   "language": "typescript",
   "name": "deno"
  },
  "language_info": {
   "codemirror_mode": "typescript",
   "file_extension": ".ts",
   "mimetype": "text/x.typescript",
   "name": "typescript",
   "nbconvert_exporter": "script",
   "pygments_lexer": "typescript",
   "version": "5.6.2"
  }
 },
 "nbformat": 4,
 "nbformat_minor": 2
}
