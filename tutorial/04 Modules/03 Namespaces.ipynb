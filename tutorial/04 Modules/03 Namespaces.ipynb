{
 "cells": [
  {
   "cell_type": "markdown",
   "metadata": {},
   "source": [
    "# Namespaces\n",
    "\n",
    "**Namespaces** are a concept used to group related functionality together and avoid name conflicts. In Deno, you can achieve this effectively by importing **modules** with the `* as` syntax. The named object serves as a namespace, making it clear that the functionality comes from the module.\n",
    "\n",
    "This approach aligns with modern ES module standards, making your code cleaner and easier to maintain."
   ]
  },
  {
   "cell_type": "code",
   "execution_count": 1,
   "metadata": {},
   "outputs": [
    {
     "data": {
      "text/plain": [
       "\u001b[33m31.41592653589793\u001b[39m"
      ]
     },
     "execution_count": 1,
     "metadata": {},
     "output_type": "execute_result"
    }
   ],
   "source": [
    "import * as MathUtils from '../modules/mathUtils.ts';\n",
    "\n",
    "MathUtils.circumference(5);"
   ]
  }
 ],
 "metadata": {
  "kernelspec": {
   "display_name": "Deno",
   "language": "typescript",
   "name": "deno"
  },
  "language_info": {
   "codemirror_mode": "typescript",
   "file_extension": ".ts",
   "mimetype": "text/x.typescript",
   "name": "typescript",
   "nbconvert_exporter": "script",
   "pygments_lexer": "typescript",
   "version": "5.6.2"
  }
 },
 "nbformat": 4,
 "nbformat_minor": 2
}
