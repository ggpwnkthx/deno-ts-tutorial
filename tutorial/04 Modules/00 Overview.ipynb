{
 "cells": [
  {
   "cell_type": "markdown",
   "metadata": {},
   "source": [
    "# Modules Overview\n",
    "\n",
    "Modules are a way to structure your code into reusable units. By breaking your code into smaller modules, you can:\n",
    "- Keep your codebase organized and manageable.\n",
    "- Share functionality across different parts of your application.\n",
    "- Avoid name conflicts by encapsulating code in its own scope.\n",
    "\n",
    "In Deno, a **module** is any file that contains code. Each `.ts` file is treated as an independent module. \n",
    "\n",
    "Deno relies on **URL-based imports**, meaning you reference modules using file paths or remote URLs.\n",
    "\n",
    "## Topics\n",
    "- Exporting variables, functions, and classes\n",
    "- Importing modules\n",
    "- Namespaces\n",
    "- `Deno`\n",
    "- `console`"
   ]
  }
 ],
 "metadata": {
  "kernelspec": {
   "display_name": "Deno",
   "language": "typescript",
   "name": "deno"
  },
  "language_info": {
   "name": "typescript"
  }
 },
 "nbformat": 4,
 "nbformat_minor": 2
}
