{
 "cells": [
  {
   "cell_type": "markdown",
   "metadata": {},
   "source": [
    "# Handlers\n",
    "\n",
    "Promises have three key methods to handle their states and fates:"
   ]
  },
  {
   "cell_type": "markdown",
   "metadata": {},
   "source": [
    "## `then`\n",
    "The `then` method is used to handle the resolution value of a promise. In the coffee shop analogy, this is like successfully receiving your coffee order and enjoying it.\n",
    "\n",
    "```typescript\n",
    "promise.then(onFulfilled, onRejected);\n",
    "```\n",
    "\n",
    "- `onFulfilled`: A callback function that is executed when the promise is resolved.\n",
    "- `onRejected`: An optional callback function for handling rejections (rarely used, as `catch` is preferred).\n"
   ]
  },
  {
   "cell_type": "markdown",
   "metadata": {},
   "source": [
    "## `catch`\n",
    "The `catch` method is used to handle promise rejections. In the coffee shop analogy, this is like the coffee shop running out of beans or making a mistake with your order.\n",
    "\n",
    "```typescript\n",
    "promise.catch(onRejected);\n",
    "```\n",
    "- `onRejected`: A callback function that is executed when the promise is rejected.\n"
   ]
  },
  {
   "cell_type": "markdown",
   "metadata": {},
   "source": [
    "## `finally`\n",
    "The `finally` method is used to execute code after the promise is settled, regardless of its outcome. In the coffee shop analogy, this is like cleaning up your table and leaving the shop, whether you got your coffee or not.\n",
    "\n",
    "```typescript\n",
    "promise.finally(onFinally);\n",
    "```\n",
    "- `onFinally`: A callback function that is executed once the promise is settled.\n"
   ]
  },
  {
   "cell_type": "code",
   "execution_count": null,
   "metadata": {},
   "outputs": [
    {
     "name": "stdout",
     "output_type": "stream",
     "text": [
      "Order placed. Waiting for the barista...\n"
     ]
    },
    {
     "data": {
      "text/plain": [
       "Promise { \u001b[36m<pending>\u001b[39m }"
      ]
     },
     "execution_count": 1,
     "metadata": {},
     "output_type": "execute_result"
    },
    {
     "name": "stderr",
     "output_type": "stream",
     "text": [
      "Sorry, we ran out of coffee.\n"
     ]
    },
    {
     "name": "stdout",
     "output_type": "stream",
     "text": [
      "Thank you for visiting the coffee shop.\n"
     ]
    }
   ],
   "source": [
    "new Promise<string>((resolve, reject) => {\n",
    "  console.log(\"Order placed. Waiting for the barista...\");\n",
    "\n",
    "  setTimeout(() => {\n",
    "    const coffeeReady = Math.random() > 0.2; // Simulates 80% success\n",
    "    if (coffeeReady) {\n",
    "      resolve(\"Your coffee is ready!\"); // Fulfill the promise (provide a result)\n",
    "    } else {\n",
    "      reject(\"Sorry, we ran out of coffee.\"); // Reject the promise (provide an error)\n",
    "    }\n",
    "  }, 2000); // Simulate a 2-second delay\n",
    "})\n",
    "  .then((result) => {\n",
    "    console.log(result);\n",
    "  })\n",
    "  .catch((error) => {\n",
    "    console.error(error);\n",
    "  })\n",
    "  .finally(() => {\n",
    "    console.log(\"Thank you for visiting the coffee shop.\"); // Always executed\n",
    "  });"
   ]
  }
 ],
 "metadata": {
  "kernelspec": {
   "display_name": "Deno",
   "language": "typescript",
   "name": "deno"
  },
  "language_info": {
   "codemirror_mode": "typescript",
   "file_extension": ".ts",
   "mimetype": "text/x.typescript",
   "name": "typescript",
   "nbconvert_exporter": "script",
   "pygments_lexer": "typescript",
   "version": "5.6.2"
  }
 },
 "nbformat": 4,
 "nbformat_minor": 2
}
