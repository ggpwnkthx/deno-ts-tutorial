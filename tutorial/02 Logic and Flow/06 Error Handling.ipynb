{
 "cells": [
  {
   "cell_type": "markdown",
   "metadata": {},
   "source": [
    "## Error Handling\n",
    "\n",
    "Handle errors gracefully in your code using these keywords:\n",
    "\n",
    "- `try`: Defines a block of code to test for errors.\n",
    "- `catch`: Defines a block to handle errors from the `try` block.\n",
    "- `finally`: Executes code after `try` and `catch`, regardless of whether an error occurred.\n",
    "- `throw`: Used to generate custom errors.\n"
   ]
  },
  {
   "cell_type": "code",
   "execution_count": 1,
   "metadata": {},
   "outputs": [],
   "source": [
    "try {\n",
    "  const age: number = -1;\n",
    "  if (age < 0) {\n",
    "    throw \"Age cannot be negative!\"; // Custom error\n",
    "  }\n",
    "} catch {\n",
    "  // Handle the error here\n",
    "} finally {\n",
    "  // This block always executes\n",
    "}"
   ]
  }
 ],
 "metadata": {
  "kernelspec": {
   "display_name": "Deno",
   "language": "typescript",
   "name": "deno"
  },
  "language_info": {
   "codemirror_mode": "typescript",
   "file_extension": ".ts",
   "mimetype": "text/x.typescript",
   "name": "typescript",
   "nbconvert_exporter": "script",
   "pygments_lexer": "typescript",
   "version": "5.6.2"
  }
 },
 "nbformat": 4,
 "nbformat_minor": 2
}
