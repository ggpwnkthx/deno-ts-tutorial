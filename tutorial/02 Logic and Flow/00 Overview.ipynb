{
 "cells": [
  {
   "cell_type": "markdown",
   "metadata": {},
   "source": [
    "# Programming Logic and Flow\n",
    "\n",
    "In this section, we'll explore the core programming constructs that bring your code to life. You'll learn how to store and manipulate data, group statements into reusable blocks, and control the flow of execution in your programs. By the end of this section, you’ll have the skills to write dynamic TypeScript code.\n",
    "\n",
    "## Topics\n",
    "\n",
    "- Scope\n",
    "- Functions\n",
    "- Hoisting\n",
    "- Loops\n",
    "- Conditions\n",
    "- Error Handling\n"
   ]
  }
 ],
 "metadata": {
  "kernelspec": {
   "display_name": "Deno",
   "language": "typescript",
   "name": "deno"
  },
  "language_info": {
   "codemirror_mode": "typescript",
   "file_extension": ".ts",
   "mimetype": "text/x.typescript",
   "name": "typescript",
   "nbconvert_exporter": "script",
   "pygments_lexer": "typescript",
   "version": "5.6.2"
  }
 },
 "nbformat": 4,
 "nbformat_minor": 2
}
