{
 "cells": [
  {
   "cell_type": "markdown",
   "metadata": {},
   "source": [
    "# Promises\n",
    "\n",
    "In the world of programming, a **Promise** is like a coffee shop order slip. When you order a coffee, the barista gives you a receipt. The receipt doesn’t contain the coffee itself. It’s just a promise that your coffee will be ready eventually.\n",
    "\n",
    "Similarly, in TypeScript, a Promise represents the eventual completion (or failure) of an asynchronous operation and its resulting value.\n",
    "\n",
    "## Anatomy\n",
    "A Promise is an object that provides a way to handle the results of an asynchronous operation. It can be in one of three states:\n",
    "- **Pending**: The promise is still waiting for the operation to complete.\n",
    "- **Fulfilled**: The operation completed successfully, and the promise now has a resulting value.\n",
    "- **Rejected**: The operation failed, and the promise contains an error.\n"
   ]
  },
  {
   "cell_type": "code",
   "execution_count": 1,
   "metadata": {},
   "outputs": [
    {
     "name": "stdout",
     "output_type": "stream",
     "text": [
      "Order placed. Waiting for the barista...\n"
     ]
    },
    {
     "data": {
      "text/plain": [
       "Promise { \u001b[36m<pending>\u001b[39m }"
      ]
     },
     "execution_count": 1,
     "metadata": {},
     "output_type": "execute_result"
    }
   ],
   "source": [
    "new Promise((resolve, reject) => {\n",
    "  console.log(\"Order placed. Waiting for the barista...\");\n",
    "\n",
    "  setTimeout(() => {\n",
    "    const coffeeReady = Math.random() > 0.2; // Simulates 80% success\n",
    "    if (coffeeReady) {\n",
    "      resolve(\"Your coffee is ready!\"); // Fulfill the promise\n",
    "    } else {\n",
    "      reject(\"Sorry, we ran out of coffee.\"); // Reject the promise\n",
    "    }\n",
    "  }, 2000); // Simulate a 2-second delay\n",
    "});"
   ]
  },
  {
   "cell_type": "markdown",
   "metadata": {},
   "source": [
    "Note that we don't see `Your coffee is ready!` or `Sorry, we ran out of coffee`. This is because neither the `resolve` nor `reject` for the promise have actually finished executing before the syncronous portion of the script has completed being executed. \n",
    "\n",
    "You can see in the output that the order is placed but the promise is pending. Although in our example we're simulating a 2-second delay, in real-world asynchronous programming you can't predict with certainty when a promise will actually complete. So we have to explicitly tell our application how to handle the fate of the promise or it won't bother waiting for it to happen."
   ]
  }
 ],
 "metadata": {
  "kernelspec": {
   "display_name": "Deno",
   "language": "typescript",
   "name": "deno"
  },
  "language_info": {
   "codemirror_mode": "typescript",
   "file_extension": ".ts",
   "mimetype": "text/x.typescript",
   "name": "typescript",
   "nbconvert_exporter": "script",
   "pygments_lexer": "typescript",
   "version": "5.6.2"
  }
 },
 "nbformat": 4,
 "nbformat_minor": 2
}
