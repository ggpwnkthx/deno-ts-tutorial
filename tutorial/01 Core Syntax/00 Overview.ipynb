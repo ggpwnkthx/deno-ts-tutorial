{
 "cells": [
  {
   "cell_type": "markdown",
   "metadata": {},
   "source": [
    "# Core Syntax and Building Blocks\n",
    "\n",
    "This section introduces the foundational concepts of TypeScript, helping you understand the basics of writing and structuring code. By the end of this section, you'll have a solid grasp of TypeScript's syntax and be ready to tackle more advanced topics in subsequent sections.\n",
    "\n",
    "## Topics\n",
    "\n",
    "- Statements\n",
    "- Documentation\n",
    "- Expressions\n",
    "- Code Blocks\n",
    "- Types\n",
    "- Keywords\n",
    "- Variables\n"
   ]
  }
 ],
 "metadata": {
  "kernelspec": {
   "display_name": "Deno",
   "language": "typescript",
   "name": "deno"
  },
  "language_info": {
   "codemirror_mode": "typescript",
   "file_extension": ".ts",
   "mimetype": "text/x.typescript",
   "name": "typescript",
   "nbconvert_exporter": "script",
   "pygments_lexer": "typescript",
   "version": "5.6.2"
  }
 },
 "nbformat": 4,
 "nbformat_minor": 2
}
