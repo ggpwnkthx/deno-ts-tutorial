{
  "cells": [
    {
      "cell_type": "markdown",
      "metadata": {},
      "source": [
        "# Expressions\n",
        "\n",
        "An **expression** is a piece of code that evaluates to a value. In TypeScript, expressions are used to perform calculations, assign values, and control program flow. Consider the following example:"
      ]
    },
    {
      "cell_type": "code",
      "execution_count": 1,
      "metadata": {},
      "outputs": [],
      "source": [
        "const result: number = 3 + 5 * 2;"
      ]
    },
    {
      "cell_type": "markdown",
      "metadata": {},
      "source": [
        "This single line of code demonstrates various components of an expression. Let's break it down step by step:\n",
        "\n",
        "### Identifiers\n",
        "These are names used to identify things. They must start with a letter, `_`, or `$` and can include letters, numbers, `_`, or `$`. In the example above:\n",
        "- `result` is an identifier for the variable.\n",
        "- `number` is an identifier for the type annotation.\n",
        "\n",
        "### Keywords\n",
        "These are reserved words in TypeScript that have a specific meaning. You cannot use them as identifiers. In this example:\n",
        "- `const` is used to declare the `result` variable.\n",
        "\n",
        "### Literals\n",
        "These are fixed values written directly in the code. In the example above:\n",
        "- `3`, `5`, and `2` are numeric literals.\n",
        "\n",
        "### Operators\n",
        "These are symbols that perform operations on values. In the example above:\n",
        "- `+` and `*` are arithmetic operators.\n",
        "- `=` is the assignment operator.\n",
        "\n",
        "We'll learn more about these next!\n"
      ]
    },
    {
      "cell_type": "markdown",
      "metadata": {
        "tags": [
          "pagination"
        ]
      },
      "source": [
        "<div style=\"display: flex; justify-content: space-between;\">\n<a href=\"01 Documentation.ipynb\" style=\"float: left;\">← Documentation</a><a href=\"03 Operators.ipynb\" style=\"float: right;\">Operators →</a>\n</div>"
      ]
    }
  ],
  "metadata": {
    "kernelspec": {
      "display_name": "Deno",
      "language": "typescript",
      "name": "deno"
    },
    "language_info": {
      "codemirror_mode": "typescript",
      "file_extension": ".ts",
      "mimetype": "text/x.typescript",
      "name": "typescript",
      "nbconvert_exporter": "script",
      "pygments_lexer": "typescript",
      "version": "5.6.2"
    }
  },
  "nbformat": 4,
  "nbformat_minor": 2
}