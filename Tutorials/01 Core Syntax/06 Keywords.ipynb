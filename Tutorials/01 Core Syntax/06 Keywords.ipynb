{
  "cells": [
    {
      "cell_type": "markdown",
      "metadata": {},
      "source": [
        "# Keywords\n",
        "\n",
        "Building on the concept of statements introduced earlier, **keywords** in TypeScript are reserved words that act as instructions for how the runtime processes a statement. While statements define actions or expressions to execute, keywords provide the structure and rules that enable more complex actions. By understanding keywords and their roles, you can write clear, organized, and functional TypeScript code.\n",
        "\n",
        "## Variables\n",
        "Keywords to define and manage storage locations for data:\n",
        "- `let` - Instantiates variable that can be reassigned and mutated.\n",
        "- `const` - Instantiates variable cannot be reassigned but can be mutated.\n",
        "- `readonly` - Declares a variable as immutable.\n",
        "\n",
        "### Type Annotations\n",
        "Type annotations define the kind of data variables can hold. These are crucial for TypeScript’s static type-checking. *Refer to the \"01-05 Types\" notebook for a detailed discussion on these.*\n",
        "\n",
        "## Functions\n",
        "Functions allow you to encapsulate reusable blocks of code.\n",
        "- `function` - Declares a named function.\n",
        "\n",
        "## Flow Control\n",
        "Control the sequence of execution in your program using flow-control keywords:\n",
        "\n",
        "### Conditional Keywords:\n",
        "- `if`, `else` - Execute certain code blocks based on conditions.\n",
        "- `switch`, `case`, `default` - Handle multiple conditional cases more concisely.\n",
        "\n",
        "### Looping Keywords:\n",
        "- `for`, `while`, `do` - Repeat a code block under specific conditions.\n",
        "- `break`, `continue` - Manage loop execution flow by stopping or skipping iterations.\n",
        "\n",
        "## Error Handling\n",
        "Manage unexpected scenarios gracefully:\n",
        "- `try`, `catch`, `finally` - Handle exceptions and ensure cleanup.\n",
        "- `throw` - Raise custom errors to indicate issues in your code.\n",
        "\n",
        "## Object Orientation\n",
        "- `type`- Used for type annotation aliases.\n",
        "- `class` - Used to define an object blueprint."
      ]
    },
    {
      "cell_type": "markdown",
      "metadata": {
        "tags": [
          "pagination"
        ]
      },
      "source": [
        "<div style=\"display: flex; justify-content: space-between;\">\n<a href=\"05 Types.ipynb\" style=\"float: left;\">← Types</a><a href=\"07 Variables.ipynb\" style=\"float: right;\">Variables →</a>\n</div>"
      ]
    }
  ],
  "metadata": {
    "kernelspec": {
      "display_name": "Deno",
      "language": "typescript",
      "name": "deno"
    },
    "language_info": {
      "codemirror_mode": "typescript",
      "file_extension": ".ts",
      "mimetype": "text/x.typescript",
      "name": "typescript",
      "nbconvert_exporter": "script",
      "pygments_lexer": "typescript",
      "version": "5.6.2"
    }
  },
  "nbformat": 4,
  "nbformat_minor": 2
}