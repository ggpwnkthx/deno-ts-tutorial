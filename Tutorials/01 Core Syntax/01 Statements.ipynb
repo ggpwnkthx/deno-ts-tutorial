{
 "cells": [
  {
   "cell_type": "markdown",
   "metadata": {},
   "source": [
    "# Statements\n",
    "\n",
    "A **statement** in TypeScript is an instruction that performs an action. Statements are the smallest standalone pieces of a program that are executed step by step, in order.\n",
    "\n",
    "Statements in TypeScript are typically written one per line and can optionally end with a semicolon (`;`). While semicolons are not strictly required due to TypeScript's **Automatic Semicolon Insertion (ASI)** feature, using them consistently is a good practice to avoid unintended behavior.\n"
   ]
  },
  {
   "cell_type": "code",
   "execution_count": 1,
   "metadata": {},
   "outputs": [
    {
     "data": {
      "text/plain": [
       "\u001b[33m3.14\u001b[39m"
      ]
     },
     "execution_count": 1,
     "metadata": {},
     "output_type": "execute_result"
    }
   ],
   "source": [
    "3.14;"
   ]
  },
  {
   "cell_type": "code",
   "execution_count": 2,
   "metadata": {},
   "outputs": [
    {
     "data": {
      "text/plain": [
       "\u001b[32m\"Hello, World!\"\u001b[39m"
      ]
     },
     "execution_count": 2,
     "metadata": {},
     "output_type": "execute_result"
    }
   ],
   "source": [
    "\"Hello, World!\";"
   ]
  },
  {
   "cell_type": "code",
   "execution_count": 3,
   "metadata": {},
   "outputs": [
    {
     "data": {
      "text/html": [
       "<a href=\"00 Overview.ipynb\" style=\"float: left;\">← Previous: Overview</a><a href=\"02 Documentation.ipynb\" style=\"float: right;\">Next: Documentation →</a>"
      ]
     },
     "execution_count": 3,
     "metadata": {},
     "output_type": "execute_result"
    }
   ],
   "source": [
    "// Pagination\n",
    "import { pagination } from \"../../modules/notebooks.ts\";\n",
    "Deno.jupyter.html`${pagination(\"01\")}`"
   ]
  }
 ],
 "metadata": {
  "kernelspec": {
   "display_name": "Deno",
   "language": "typescript",
   "name": "deno"
  },
  "language_info": {
   "codemirror_mode": "typescript",
   "file_extension": ".ts",
   "mimetype": "text/x.typescript",
   "name": "typescript",
   "nbconvert_exporter": "script",
   "pygments_lexer": "typescript",
   "version": "5.6.2"
  }
 },
 "nbformat": 4,
 "nbformat_minor": 2
}
