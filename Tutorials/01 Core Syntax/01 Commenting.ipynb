{
  "cells": [
    {
      "cell_type": "markdown",
      "metadata": {},
      "source": [
        "# Commenting\n",
        "\n",
        "**Comments** in TypeScript are used to add helpful notes, documentation, or disable code for debugging.\n",
        "\n",
        "## Line Comments\n",
        "\n",
        "Line comments start with `//` and extend to the end of the current line. They are ideal for short notes or explanations about specific lines of code.\n"
      ]
    },
    {
      "cell_type": "code",
      "execution_count": 1,
      "metadata": {},
      "outputs": [],
      "source": [
        "// Acceleration due to gravity is m/s^2"
      ]
    },
    {
      "cell_type": "markdown",
      "metadata": {},
      "source": [
        "## Block Comments\n",
        "\n",
        "Block comments start with `/*` and end with `*/`. They can span multiple lines and are useful for providing detailed explanations or temporarily disabling large sections of code.\n"
      ]
    },
    {
      "cell_type": "code",
      "execution_count": 2,
      "metadata": {},
      "outputs": [],
      "source": [
        "/*\n",
        "  299792458 is a constant value for the speed of light.\n",
        "  It is defined in meters per second (m/s).\n",
        "*/"
      ]
    },
    {
      "cell_type": "markdown",
      "metadata": {
        "tags": [
          "pagination"
        ]
      },
      "source": [
        "<div style=\"display: flex; justify-content: space-between;\">\n<a href=\"00 Overview.ipynb\" style=\"float: left;\">← Overview</a><a href=\"02 Expressions.ipynb\" style=\"float: right;\">Expressions →</a>\n</div>"
      ]
    }
  ],
  "metadata": {
    "kernelspec": {
      "display_name": "Deno",
      "language": "typescript",
      "name": "deno"
    },
    "language_info": {
      "codemirror_mode": "typescript",
      "file_extension": ".ts",
      "mimetype": "text/x.typescript",
      "name": "typescript",
      "nbconvert_exporter": "script",
      "pygments_lexer": "typescript",
      "version": "5.6.2"
    }
  },
  "nbformat": 4,
  "nbformat_minor": 2
}