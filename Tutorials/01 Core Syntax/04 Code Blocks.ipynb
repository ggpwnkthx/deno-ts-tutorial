{
  "cells": [
    {
      "cell_type": "markdown",
      "metadata": {},
      "source": [
        "# Code Blocks\n",
        "\n",
        "A **code block** is a group of statements enclosed in curly braces `{}`. Code blocks are more flexible than a single expressions because they can contain multiple expressions and statements.\n"
      ]
    },
    {
      "cell_type": "code",
      "execution_count": 1,
      "metadata": {},
      "outputs": [
        {
          "data": {
            "text/plain": [
              "\u001b[33mfalse\u001b[39m"
            ]
          },
          "execution_count": 1,
          "metadata": {},
          "output_type": "execute_result"
        }
      ],
      "source": [
        "{\n",
        "  3 + 4;\n",
        "  { 2 ** 5; }\n",
        "  true && false;\n",
        "}"
      ]
    },
    {
      "cell_type": "markdown",
      "metadata": {},
      "source": [
        "# Note About Jupyter Notebooks\n",
        "\n",
        "In Jupyter notebooks, when you run a code cell, the notebook automatically evaluates the last statement in the cell and displays its value. This behavior can be very helpful for debugging and understanding code because you can see the immediate result of what you've written. While this automatic display of the evaluation result is convenient, it does not mean that the value is stored or accessible elsewhere in the program. It's simply a feature of the notebook to show you what the code has produced. If you need to use the result later in your program, you will need to explicitly store it (we'll cover this in future sections)."
      ]
    },
    {
      "cell_type": "markdown",
      "metadata": {
        "tags": [
          "pagination"
        ]
      },
      "source": [
        "<div style=\"display: flex; justify-content: space-between;\">\n<a href=\"03 Expressions.ipynb\" style=\"float: left;\">← Expressions</a><a href=\"05 Types.ipynb\" style=\"float: right;\">Types →</a>\n</div>"
      ]
    }
  ],
  "metadata": {
    "kernelspec": {
      "display_name": "Deno",
      "language": "typescript",
      "name": "deno"
    },
    "language_info": {
      "codemirror_mode": "typescript",
      "file_extension": ".ts",
      "mimetype": "text/x.typescript",
      "name": "typescript",
      "nbconvert_exporter": "script",
      "pygments_lexer": "typescript",
      "version": "5.6.2"
    }
  },
  "nbformat": 4,
  "nbformat_minor": 2
}