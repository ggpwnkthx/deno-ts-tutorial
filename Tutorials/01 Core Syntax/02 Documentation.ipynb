{
  "cells": [
    {
      "cell_type": "markdown",
      "metadata": {},
      "source": [
        "# Documentation\n",
        "\n",
        "In programming, **documentation** refers to the practice of writing descriptive text within your code to help explain its purpose, functionality, and behavior. In TypeScript, documentation is typically added using **comments**. These comments are ignored by the TypeScript compiler but serve as valuable notes for developers reading or maintaining the code.\n",
        "\n",
        "## Single-Line\n",
        "\n",
        "Single-line comments begin with `//` and extend to the end of the current line. These are often used to describe a single line of code or leave quick notes.\n"
      ]
    },
    {
      "cell_type": "code",
      "execution_count": 1,
      "metadata": {},
      "outputs": [
        {
          "data": {
            "text/plain": [
              "\u001b[33m9.8\u001b[39m"
            ]
          },
          "execution_count": 1,
          "metadata": {},
          "output_type": "execute_result"
        }
      ],
      "source": [
        "9.8; // Acceleration due to gravity in m/s^2"
      ]
    },
    {
      "cell_type": "markdown",
      "metadata": {},
      "source": [
        "## Multi-Line\n",
        "\n",
        "Multi-line comments begin with `/*` and end with `*/`. These are useful for providing more detailed explanations or when commenting out blocks of code temporarily.\n"
      ]
    },
    {
      "cell_type": "code",
      "execution_count": 2,
      "metadata": {},
      "outputs": [
        {
          "data": {
            "text/plain": [
              "\u001b[33m299792458\u001b[39m"
            ]
          },
          "execution_count": 2,
          "metadata": {},
          "output_type": "execute_result"
        }
      ],
      "source": [
        "/*\n",
        "  Below is a constant value for the speed of light.\n",
        "  It is defined in meters per second (m/s).\n",
        "*/\n",
        "299792458;"
      ]
    },
    {
      "cell_type": "markdown",
      "metadata": {},
      "source": [
        "## Docstrings\n",
        "\n",
        "A **docstring** is a special type of multi-line comment used to describe the purpose and functionality of specific parts of your code. While docstrings are not natively enforced in TypeScript, they are a widely adopted practice for improving code readability.\n",
        "\n",
        "Docstrings often follow a structured format and provide more context than regular comments. For example, they may describe what a variable represents, how it is used, or its expected data type.\n"
      ]
    },
    {
      "cell_type": "code",
      "execution_count": 3,
      "metadata": {},
      "outputs": [
        {
          "data": {
            "text/plain": [
              "\u001b[33m6.6743e-11\u001b[39m"
            ]
          },
          "execution_count": 3,
          "metadata": {},
          "output_type": "execute_result"
        }
      ],
      "source": [
        "/**\n",
        " * Represents the gravitational constant.\n",
        " * This value is used to calculate the gravitational force between two objects.\n",
        " * Unit: m^3 kg^-1 s^-2\n",
        " */\n",
        "6.67430e-11;"
      ]
    },
    {
      "cell_type": "markdown",
      "metadata": {
        "tags": [
          "pagination"
        ]
      },
      "source": [
        "<div style=\"display: flex; justify-content: space-between;\">\n<a href=\"01 Statements.ipynb\" style=\"float: left;\">← Statements</a><a href=\"03 Expressions.ipynb\" style=\"float: right;\">Expressions →</a>\n</div>"
      ]
    }
  ],
  "metadata": {
    "kernelspec": {
      "display_name": "Deno",
      "language": "typescript",
      "name": "deno"
    },
    "language_info": {
      "codemirror_mode": "typescript",
      "file_extension": ".ts",
      "mimetype": "text/x.typescript",
      "name": "typescript",
      "nbconvert_exporter": "script",
      "pygments_lexer": "typescript",
      "version": "5.6.2"
    }
  },
  "nbformat": 4,
  "nbformat_minor": 2
}