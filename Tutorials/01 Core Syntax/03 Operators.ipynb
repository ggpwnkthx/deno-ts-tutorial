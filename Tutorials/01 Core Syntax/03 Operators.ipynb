{
  "cells": [
    {
      "cell_type": "markdown",
      "metadata": {},
      "source": [
        "# Operators\n",
        "\n",
        "Expressions use **operators**, which are special symbols that tell the computer what kind of actions to perform. TypeScript has many operators, but let's start simple.\n",
        "\n",
        "## Arithmetic\n",
        "\n",
        "| Operator | Description    | Example  | Evaluates As |\n",
        "|----------|----------------|----------|--------------|\n",
        "| `+`      | Addition       | `5 + 3`  | `8`          |\n",
        "| `-`      | Subtraction    | `10 - 4` | `6`          |\n",
        "| `*`      | Multiplication | `2 * 3`  | `6`          |\n",
        "| `/`      | Division       | `8 / 2`  | `4`          |\n",
        "| `%`      | Modulus        | `7 % 3`  | `1`          |\n",
        "| `**`     | Exponentiation | `2 ** 3` | `8`          |\n",
        "\n",
        "## Assignment\n",
        "\n",
        "| Operator | Description         | Example  | Evaluates As |\n",
        "|----------|---------------------|----------|--------------|\n",
        "| `=`      | Assign              | `x = 10` | `x = 10`     |\n",
        "| `+=`     | Add and assign      | `x += 5` | `x = x + 5`  |\n",
        "| `-=`     | Subtract and assign | `x -= 2` | `x = x - 2`  |\n",
        "| `*=`     | Multiply and assign | `x *= 3` | `x = x * 3`  |\n",
        "| `/=`     | Divide and assign   | `x /= 4` | `x = x / 4`  |\n",
        "| `%=`     | Modulus and assign  | `x %= 2` | `x = x % 2`  |\n",
        "| `++`     | Increment           | `x++`    | `x = x + 1`  |\n",
        "| `--`     | Decrement           | `x--`    | `x = x - 1`  |\n",
        "\n",
        "The `++` (increment) and `--` (decrement) operators can be used in two ways.\n",
        "\n",
        "When the operator comes **before** the variable (**prefix**), the variable is updated **first**, and then the updated value is used in the expression.\n"
      ]
    },
    {
      "cell_type": "code",
      "execution_count": 1,
      "metadata": {},
      "outputs": [
        {
          "data": {
            "text/plain": [
              "\u001b[33m7\u001b[39m"
            ]
          },
          "execution_count": 1,
          "metadata": {},
          "output_type": "execute_result"
        }
      ],
      "source": [
        "let a = 1;\n",
        "++a + 5;"
      ]
    },
    {
      "cell_type": "markdown",
      "metadata": {},
      "source": [
        "When the operator comes **after** the variable (**postfix**), the variable is used in the expression **first**, and then it is updated after the expression has been evaluated.\n"
      ]
    },
    {
      "cell_type": "code",
      "execution_count": 2,
      "metadata": {},
      "outputs": [
        {
          "data": {
            "text/plain": [
              "\u001b[33m6\u001b[39m"
            ]
          },
          "execution_count": 2,
          "metadata": {},
          "output_type": "execute_result"
        }
      ],
      "source": [
        "let a = 1;\n",
        "a++ + 5;"
      ]
    },
    {
      "cell_type": "markdown",
      "metadata": {
        "tags": [
          "pagination"
        ]
      },
      "source": [
        "<div style=\"display: flex; justify-content: space-between;\">\n<a href=\"02 Expressions.ipynb\" style=\"float: left;\">← Expressions</a><a href=\"04 Precedence.ipynb\" style=\"float: right;\">Precedence →</a>\n</div>"
      ]
    }
  ],
  "metadata": {
    "kernelspec": {
      "display_name": "Deno",
      "language": "typescript",
      "name": "deno"
    },
    "language_info": {
      "codemirror_mode": "typescript",
      "file_extension": ".ts",
      "mimetype": "text/x.typescript",
      "name": "typescript",
      "nbconvert_exporter": "script",
      "pygments_lexer": "typescript",
      "version": "5.6.2"
    }
  },
  "nbformat": 4,
  "nbformat_minor": 2
}