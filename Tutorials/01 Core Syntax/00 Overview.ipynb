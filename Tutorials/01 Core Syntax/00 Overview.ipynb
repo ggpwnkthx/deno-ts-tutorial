{
  "cells": [
    {
      "cell_type": "markdown",
      "metadata": {},
      "source": [
        "# Core Syntax\n",
        "\n",
        "This section introduces the foundational syntax and concepts of TypeScript. Whether you're new to TypeScript or refreshing your basics, this guide is structured to help you understand and apply key concepts effectively.\n",
        "\n",
        "## Topics\n",
        "\n",
        "1. [Commenting](01%20Commenting.ipynb): Learn to write meaningful comments and documentation.\n",
        "2. [Expressions](02%20Expressions.ipynb): Understand the building blocks of calculations and logic.\n",
        "3. [Operators](03%20Operators.ipynb): Explore the basic tools for doing things with values.\n",
        "4. [Precedence](04%20Precedence.ipynb): Learn the order in which operations are evaluated.\n",
        "5. [Types](05%20Types.ipynb): Dive into the TypeScript type system for safer, clearer code.\n",
        "6. [Scope](06%20Scope.ipynb): Master the visibility and lifetime of variables in your code.\n",
        "\n",
        "## How It All Fits Together\n",
        "\n",
        "TypeScript's core syntax is the foundation upon which all your programs are built. By starting with **commenting**, you establish a habit of writing clear, maintainable code that explains itself. Moving into **expressions**, you learn how to construct calculations and logic that form the heart of your programs.\n",
        "\n",
        "**Operators** provide tools to combine and manipulate expressions, while **precedence** ensures you understand the order in which these operations occur, preventing subtle bugs. Lastly, **types** and **scope** empower you to define the shape, behavior, and visibility of your data, offering both error prevention and better tooling support.\n",
        "\n",
        "Together, these topics create a strong base for understanding how TypeScript works, setting you up for success in writing robust, maintainable, and efficient code. As you progress, you’ll see how these fundamentals connect to more advanced TypeScript features."
      ]
    },
    {
      "cell_type": "markdown",
      "metadata": {
        "tags": [
          "pagination"
        ]
      },
      "source": [
        "<div style=\"display: flex; justify-content: space-between;\">\n<a href=\"../00 Introduction.ipynb\" style=\"float: left;\">← Introduction</a><a href=\"01 Commenting.ipynb\" style=\"float: right;\">Commenting →</a>\n</div>"
      ]
    }
  ],
  "metadata": {
    "kernelspec": {
      "display_name": "Deno",
      "language": "typescript",
      "name": "deno"
    },
    "language_info": {
      "codemirror_mode": "typescript",
      "file_extension": ".ts",
      "mimetype": "text/x.typescript",
      "name": "typescript",
      "nbconvert_exporter": "script",
      "pygments_lexer": "typescript",
      "version": "5.6.2"
    }
  },
  "nbformat": 4,
  "nbformat_minor": 2
}