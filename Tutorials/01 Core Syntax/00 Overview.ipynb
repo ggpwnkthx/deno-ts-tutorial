{
  "cells": [
    {
      "cell_type": "markdown",
      "metadata": {},
      "source": [
        "# Core Syntax and Building Blocks\n",
        "\n",
        "Welcome to the world of TypeScript's core syntax! This is where your journey begins to master the language. Whether you're completely new to TypeScript or brushing up on your basics, this section is designed to help you build a strong foundation. Think of this as learning the grammar of a new language—once you have the fundamentals down, you’ll be able to express yourself fluently in TypeScript.\n",
        "\n",
        "In this section, we’ll guide you step-by-step through TypeScript’s essential building blocks. Each topic builds on the previous one, ensuring that you learn progressively without feeling overwhelmed.\n",
        "\n",
        "## Topics\n",
        "\n",
        "1. **[Documentation](01%20Documentation.ipynb)**: Discover how to write meaningful comments and document your code like a pro.\n",
        "3. **[Expressions](02%20Expressions.ipynb)**: Understand how expressions calculate values and are the core of operations.\n",
        "5. **[Types](03%20Types.ipynb)**: Dive into TypeScript’s type system to ensure your code behaves as expected.\n",
        "6. **[Keywords](04%20Keywords.ipynb)**: Get to know TypeScript’s reserved words and how they help structure your code.\n",
        "7. **[Variables](05%20Variables.ipynb)**: Master how to store, update, and manage data with variables.\n",
        "\n",
        "## How It All Fits Together\n",
        "\n",
        "Each concept in this section is like a puzzle piece, and together they form the foundation of TypeScript programming. We start with **documentation**, because writing clear and maintainable code is just as important as writing functional code. Then, we explore **expressions**, where you’ll see how TypeScript evaluates values.\n",
        "\n",
        "With a basic understanding of operational structure, we’ll then introduce you to **types**, the heart of TypeScript’s ability to catch errors early. To use types effectively, you’ll need to know about **keywords**, the building blocks that give meaning to your code. Finally, we’ll cap it off with **variables**, the containers that hold your program’s data.\n",
        "\n",
        "By the time you finish this section, you’ll have a strong grasp of the foundational concepts that every TypeScript programmer needs to know. Let’s get started!\n"
      ]
    },
    {
      "cell_type": "markdown",
      "metadata": {
        "tags": [
          "pagination"
        ]
      },
      "source": [
        "<div style=\"display: flex; justify-content: space-between;\">\n<a href=\"../00 Introduction.ipynb\" style=\"float: left;\">← Introduction</a><a href=\"01 Documentation.ipynb\" style=\"float: right;\">Documentation →</a>\n</div>"
      ]
    }
  ],
  "metadata": {
    "kernelspec": {
      "display_name": "Deno",
      "language": "typescript",
      "name": "deno"
    },
    "language_info": {
      "codemirror_mode": "typescript",
      "file_extension": ".ts",
      "mimetype": "text/x.typescript",
      "name": "typescript",
      "nbconvert_exporter": "script",
      "pygments_lexer": "typescript",
      "version": "5.6.2"
    }
  },
  "nbformat": 4,
  "nbformat_minor": 2
}