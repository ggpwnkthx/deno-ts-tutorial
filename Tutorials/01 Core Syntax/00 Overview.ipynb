{
 "cells": [
  {
   "cell_type": "markdown",
   "metadata": {},
   "source": [
    "# Core Syntax and Building Blocks\n",
    "\n",
    "Welcome to the world of TypeScript's core syntax! This is where your journey begins to master the language. Whether you're completely new to TypeScript or brushing up on your basics, this section is designed to help you build a strong foundation. Think of this as learning the grammar of a new language—once you have the fundamentals down, you’ll be able to express yourself fluently in TypeScript.\n",
    "\n",
    "In this section, we’ll guide you step-by-step through TypeScript’s essential building blocks. Each topic builds on the previous one, ensuring that you learn progressively without feeling overwhelmed.\n",
    "\n",
    "## Topics\n",
    "\n",
    "1. **[Statements](01%20Statements.ipynb)**: Learn what statements are and how they execute your instructions.\n",
    "2. **[Documentation](02%20Documentation.ipynb)**: Discover how to write meaningful comments and document your code like a pro.\n",
    "3. **[Expressions](03%20Expressions.ipynb)**: Understand how expressions calculate values and are the core of logical and arithmetic operations.\n",
    "4. **[Code Blocks](04%20Code%20Blocks.ipynb)**: Group multiple statements together to create powerful and reusable pieces of logic.\n",
    "5. **[Types](05%20Types.ipynb)**: Dive into TypeScript’s type system to ensure your code behaves as expected.\n",
    "6. **[Keywords](06%20Keywords.ipynb)**: Get to know TypeScript’s reserved words and how they help structure your code.\n",
    "7. **[Variables](07%20Variables.ipynb)**: Master how to store, update, and manage data with variables.\n",
    "\n",
    "## How It All Fits Together\n",
    "\n",
    "Each concept in this section is like a puzzle piece, and together they form the foundation of TypeScript programming. We start with **statements**, the fundamental units of execution. Then, we explore **documentation**, because writing clear and maintainable code is just as important as writing functional code.\n",
    "\n",
    "From there, we dive into **expressions**, where you’ll see how TypeScript evaluates values. Once you’re comfortable with that, **code blocks** will show you how to combine multiple statements and expressions to do more complex things.\n",
    "\n",
    "With a solid understanding of structure, we’ll then introduce you to **types**, the heart of TypeScript’s ability to catch errors early. To use types effectively, you’ll need to know about **keywords**, the building blocks that give meaning to your code. Finally, we’ll cap it off with **variables**, the containers that hold your program’s data.\n",
    "\n",
    "By the time you finish this section, you’ll have a strong grasp of the foundational concepts that every TypeScript programmer needs to know. Let’s get started!\n",
    "\n",
    "<a href=\"01%20Statements.ipynb\" style=\"float: right;\">Next: Statements →</a>\n"
   ]
  }
 ],
 "metadata": {
  "kernelspec": {
   "display_name": "Deno",
   "language": "typescript",
   "name": "deno"
  },
  "language_info": {
   "codemirror_mode": "typescript",
   "file_extension": ".ts",
   "mimetype": "text/x.typescript",
   "name": "typescript",
   "nbconvert_exporter": "script",
   "pygments_lexer": "typescript",
   "version": "5.6.2"
  }
 },
 "nbformat": 4,
 "nbformat_minor": 2
}
