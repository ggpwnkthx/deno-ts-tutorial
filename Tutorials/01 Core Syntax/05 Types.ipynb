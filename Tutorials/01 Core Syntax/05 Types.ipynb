{
  "cells": [
    {
      "cell_type": "markdown",
      "metadata": {},
      "source": [
        "# Types in TypeScript\n",
        "\n",
        "Types help ensure your code is correct by describing the kinds of data your program will work with, such as numbers, strings, or booleans. They help you catch issues before development, makes it easier for others to understand your intentions, and enables features like auto-completion and inline documentation.\n",
        "\n",
        "## Annotations\n",
        "\n",
        "Explicitly declare the type of variables to make your code clear."
      ]
    },
    {
      "cell_type": "code",
      "execution_count": 1,
      "metadata": {},
      "outputs": [],
      "source": [
        "let age: number = 25;\n",
        "let name: string = \"John\";\n",
        "let isActive: boolean = true;"
      ]
    },
    {
      "cell_type": "markdown",
      "metadata": {},
      "source": [
        "## Inference\n",
        "TypeScript often determines the type automatically based on the assigned value."
      ]
    },
    {
      "cell_type": "code",
      "execution_count": 2,
      "metadata": {},
      "outputs": [],
      "source": [
        "let score = 100;\n",
        "// You don't need to annotate unless clarity is needed"
      ]
    },
    {
      "cell_type": "markdown",
      "metadata": {},
      "source": [
        "## Primatives\n",
        "TypeScript provides many built-in types:\n",
        "\n",
        "| Type       | Example Usage                      |\n",
        "|------------|------------------------------------|\n",
        "| `number`   | `let count: number = 5;`           |\n",
        "| `string`   | `let name: string = 'Alice';`      |\n",
        "| `boolean`  | `let isValid: boolean = true;`     |\n",
        "| `null`     | `let empty: null = null;`          |\n",
        "| `undefined`| `let data: undefined = undefined;` |"
      ]
    },
    {
      "cell_type": "markdown",
      "metadata": {},
      "source": [
        "### `unknown` Type\n",
        "Use `unknown` when you don’t know the type at compile time (try to avoid if possible):"
      ]
    },
    {
      "cell_type": "code",
      "execution_count": 3,
      "metadata": {},
      "outputs": [
        {
          "data": {
            "text/plain": [
              "\u001b[32m\"hello\"\u001b[39m"
            ]
          },
          "execution_count": 3,
          "metadata": {},
          "output_type": "execute_result"
        }
      ],
      "source": [
        "let data: unknown;\n",
        "data = 42; // valid\n",
        "data = 'hello'; // also valid\n",
        "data"
      ]
    },
    {
      "cell_type": "markdown",
      "metadata": {
        "tags": [
          "pagination"
        ]
      },
      "source": [
        "<div style=\"display: flex; justify-content: space-between;\">\n<a href=\"04 Precedence.ipynb\" style=\"float: left;\">← Precedence</a><a href=\"../02 Logic and Flow/00 Overview.ipynb\" style=\"float: right;\">Overview →</a>\n</div>"
      ]
    }
  ],
  "metadata": {
    "kernelspec": {
      "display_name": "Deno",
      "language": "typescript",
      "name": "deno"
    },
    "language_info": {
      "codemirror_mode": "typescript",
      "file_extension": ".ts",
      "mimetype": "text/x.typescript",
      "name": "typescript",
      "nbconvert_exporter": "script",
      "pygments_lexer": "typescript",
      "version": "5.6.2"
    }
  },
  "nbformat": 4,
  "nbformat_minor": 2
}