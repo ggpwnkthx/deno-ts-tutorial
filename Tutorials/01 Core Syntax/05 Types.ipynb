{
  "cells": [
    {
      "cell_type": "markdown",
      "metadata": {},
      "source": [
        "# Types\n",
        "\n",
        "Types help ensure your code works correctly by describing the kind of data your program will use, such as numbers, strings, or booleans. They help:\n",
        "- Catch mistakes during development.\n",
        "- Make your code easier to read and understand.\n",
        "- Enable features like auto-completion and inline documentation.\n"
      ]
    },
    {
      "cell_type": "markdown",
      "metadata": {},
      "source": [
        "## Annotations\n",
        "\n",
        "Annotations specify the type of a variable explicitly. Use a colon (`:`) followed by the type name. This makes the type of a variable clear to you and to TypeScript.\n"
      ]
    },
    {
      "cell_type": "code",
      "execution_count": 1,
      "metadata": {},
      "outputs": [],
      "source": [
        "const age: number = 25;         // 'age' must always be a number\n",
        "const name: string = 'Alice';   // 'name' must always be a string\n",
        "const isOnline: boolean = true; // 'isOnline' must always be true or false\n",
        "let notAssigned: undefined;     // 'notAssigned' is undefined\n",
        "const empty: null = null;       // 'empty' is null"
      ]
    },
    {
      "cell_type": "markdown",
      "metadata": {},
      "source": [
        "Annotations are useful when the type of a variable isn’t obvious from the value or when you want to make it clear for others.\n"
      ]
    },
    {
      "cell_type": "markdown",
      "metadata": {},
      "source": [
        "## Inference\n",
        "\n",
        "TypeScript can often figure out (or \"infer\") the type of a variable based on its **literal** value. This means you don’t need to add explicit annotations for every variable.\n"
      ]
    },
    {
      "cell_type": "code",
      "execution_count": 2,
      "metadata": {},
      "outputs": [],
      "source": [
        "let score = 100;          // Inferred as number\n",
        "let greeting = 'Hello';   // Inferred as string\n",
        "let isActive = false;     // Inferred as boolean"
      ]
    },
    {
      "cell_type": "markdown",
      "metadata": {},
      "source": [
        "Inference keeps your code cleaner and simpler. However, if a variable doesn’t have an initial value, you should use an explicit annotation to avoid ambiguity.\n"
      ]
    },
    {
      "cell_type": "markdown",
      "metadata": {
        "tags": [
          "pagination"
        ]
      },
      "source": [
        "<div style=\"display: flex; justify-content: space-between;\">\n<a href=\"04 Precedence.ipynb\" style=\"float: left;\">← Precedence</a><a href=\"06 Scope.ipynb\" style=\"float: right;\">Scope →</a>\n</div>"
      ]
    }
  ],
  "metadata": {
    "kernelspec": {
      "display_name": "Deno",
      "language": "typescript",
      "name": "deno"
    },
    "language_info": {
      "codemirror_mode": "typescript",
      "file_extension": ".ts",
      "mimetype": "text/x.typescript",
      "name": "typescript",
      "nbconvert_exporter": "script",
      "pygments_lexer": "typescript",
      "version": "5.6.2"
    }
  },
  "nbformat": 4,
  "nbformat_minor": 2
}