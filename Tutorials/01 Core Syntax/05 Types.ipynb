{
  "cells": [
    {
      "cell_type": "markdown",
      "metadata": {},
      "source": [
        "# Types in TypeScript\n",
        "\n",
        "Types help ensure your code is correct by describing the kinds of data your program will work with, such as numbers, strings, or booleans. They help you catch issues before development, makes it easier for others to understand your intentions, and enables features like auto-completion and inline documentation.\n",
        "\n",
        "## Annotations\n",
        "\n",
        "Explicitly declare the type of variables to make your code clear."
      ]
    },
    {
      "cell_type": "code",
      "execution_count": 1,
      "metadata": {},
      "outputs": [
        {
          "data": {
            "text/plain": [
              "\u001b[33m42\u001b[39m"
            ]
          },
          "execution_count": 1,
          "metadata": {},
          "output_type": "execute_result"
        }
      ],
      "source": [
        "const empty:   null    = null;\n",
        "const isValid: boolean = true;\n",
        "const count:   number  = 5;\n",
        "const views:   bigint  = 987654321987654321n;\n",
        "const name:    string  = 'Alice';\n",
        "\n",
        "let data: unknown = undefined; \n",
        "data = 'hello';\n",
        "data = 42;"
      ]
    },
    {
      "cell_type": "markdown",
      "metadata": {},
      "source": [
        "## Inference\n",
        "TypeScript often determines the type automatically based on the assigned value. You don't need to annotate unless clarity is needed."
      ]
    },
    {
      "cell_type": "code",
      "execution_count": 2,
      "metadata": {},
      "outputs": [],
      "source": [
        "let score = 100;"
      ]
    },
    {
      "cell_type": "markdown",
      "metadata": {
        "tags": [
          "pagination"
        ]
      },
      "source": [
        "<div style=\"display: flex; justify-content: space-between;\">\n<a href=\"04 Precedence.ipynb\" style=\"float: left;\">← Precedence</a><a href=\"../02 Logic and Flow/00 Overview.ipynb\" style=\"float: right;\">Overview →</a>\n</div>"
      ]
    }
  ],
  "metadata": {
    "kernelspec": {
      "display_name": "Deno",
      "language": "typescript",
      "name": "deno"
    },
    "language_info": {
      "codemirror_mode": "typescript",
      "file_extension": ".ts",
      "mimetype": "text/x.typescript",
      "name": "typescript",
      "nbconvert_exporter": "script",
      "pygments_lexer": "typescript",
      "version": "5.6.2"
    }
  },
  "nbformat": 4,
  "nbformat_minor": 2
}