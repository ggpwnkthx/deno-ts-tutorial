{
  "cells": [
    {
      "cell_type": "code",
      "execution_count": null,
      "metadata": {},
      "outputs": [
        {
          "data": {
            "text/plain": [
              "\u001b[32m\"A circle with radius 7 has a circumference of 43.96 and an area of 153.86\"\u001b[39m"
            ]
          },
          "execution_count": 1,
          "metadata": {},
          "output_type": "execute_result"
        }
      ],
      "source": [
        "/*\n",
        " * This code calculates the circumference of a circle\n",
        " * and demonstrates various TypeScript features, \n",
        " * including logical and comparison operators.\n",
        " */\n",
        "\n",
        "// Type annotations for variables\n",
        "let message: string = \"A circle\";\n",
        "const pi: number = 3.14;\n",
        "\n",
        "// Code block to define the scope\n",
        "{\n",
        "  // Variable with type annotation and block-scoped declaration\n",
        "  const radius: number = 7;\n",
        "\n",
        "  // Update the message string\n",
        "  message += ` with radius ${radius}`\n",
        "\n",
        "  /* \n",
        "   * Expression to calculate the circumference.\n",
        "   * This demonstrates how mathematical operations are evaluated\n",
        "   * based on operator precedence. \n",
        "   */\n",
        "  const circumference: number = 2 * pi * radius;\n",
        "\n",
        "  // Update the message string\n",
        "  message += ` has a circumference of ${circumference}`\n",
        "\n",
        "  /* \n",
        "   * Expression to calculate the area using parentheses to control precedence.\n",
        "   * Without parentheses, multiplication and division have higher precedence than addition.\n",
        "   */\n",
        "  const area: number = pi * (radius ** 2);\n",
        "\n",
        "  // Update the message string\n",
        "  message += ` and an area of ${area}`\n",
        "}\n",
        "\n",
        "// Explicit return of the message\n",
        "message;\n"
      ]
    },
    {
      "cell_type": "markdown",
      "metadata": {
        "tags": [
          "pagination"
        ]
      },
      "source": [
        "<div style=\"display: flex; justify-content: space-between;\">\n<a href=\"06 Scope.ipynb\" style=\"float: left;\">← Scope</a><a href=\"../02 Logic and Flow/00 Overview.ipynb\" style=\"float: right;\">Overview →</a>\n</div>"
      ]
    }
  ],
  "metadata": {
    "kernelspec": {
      "display_name": "Deno",
      "language": "typescript",
      "name": "deno"
    },
    "language_info": {
      "codemirror_mode": "typescript",
      "file_extension": ".ts",
      "mimetype": "text/x.typescript",
      "name": "typescript",
      "nbconvert_exporter": "script",
      "pygments_lexer": "typescript",
      "version": "5.6.2"
    }
  },
  "nbformat": 4,
  "nbformat_minor": 2
}