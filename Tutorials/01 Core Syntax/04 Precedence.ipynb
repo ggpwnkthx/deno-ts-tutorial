{
  "cells": [
    {
      "cell_type": "markdown",
      "metadata": {},
      "source": [
        "# Precedence\n",
        "\n",
        "Operator **precedence** determines the order in which operations are performed when an expression contains multiple operators. Operators with higher precedence are evaluated before those with lower precedence.\n",
        "\n",
        "For example, in the expression `3 + 10 * 2`, multiplication (`*`) has a higher precedence than addition (`+`), so the result is `23`.\n",
        "\n",
        "Parentheses `()` can be used to override the default precedence and enforce a specific order of operations.\n",
        "\n",
        "## Associativity\n",
        "\n",
        "When operators have the same precedence, their **associativity** determines the direction in which they are grouped. Operators can be:\n",
        "\n",
        "- Left-associative\n",
        "  - Most arithmetic operators like `+`, `-`, `*`, and `/`\n",
        "- Right-associative\n",
        "  - Assignment operators\n",
        "  - Exponentiation operator `**`\n",
        "\n",
        "\n",
        "## Table\n",
        "\n",
        "Here is a simplified table for common operators. We'll expand on this as we progress through the tutorials.\n",
        "\n",
        "| Precedence | Operators                     | Associativity |\n",
        "|------------|-------------------------------|---------------|\n",
        "| 1          | `()` (parentheses)            | N/A           |\n",
        "| 2          | `**` (exponentiation)         | Right-to-left |\n",
        "| 3          | `*`, `/`, `%` (multiplicative)| Left-to-right |\n",
        "| 4          | `+`, `-` (additive)           | Left-to-right |\n",
        "| 5          | `=` (assignment)              | Right-to-left |"
      ]
    },
    {
      "cell_type": "markdown",
      "metadata": {
        "tags": [
          "pagination"
        ]
      },
      "source": [
        "<div style=\"display: flex; justify-content: space-between;\">\n<a href=\"03 Operators.ipynb\" style=\"float: left;\">← Operators</a><a href=\"05 Types.ipynb\" style=\"float: right;\">Types →</a>\n</div>"
      ]
    }
  ],
  "metadata": {
    "language_info": {
      "name": "python"
    }
  },
  "nbformat": 4,
  "nbformat_minor": 2
}