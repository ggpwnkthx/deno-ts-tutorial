{
  "cells": [
    {
      "cell_type": "markdown",
      "metadata": {},
      "source": [
        "# Precedence\n",
        "\n",
        "Operator **precedence** determines the order in which operations are performed when an expression contains multiple operators. Operators with higher precedence are evaluated before those with lower precedence.\n",
        "\n",
        "For example, in the expression `3 + 10 * 2`, multiplication (`*`) has a higher precedence than addition (`+`), so the result is `23`.\n",
        "\n",
        "Parentheses `()` can be used to override the default precedence and enforce a specific order of operations.\n",
        "\n",
        "## Associativity\n",
        "\n",
        "When operators have the same precedence, their **associativity** determines the direction in which they are grouped. Operators can be:\n",
        "\n",
        "- Left-associative\n",
        "  - Most arithmetic operators like `+`, `-`, `*`, and `/`\n",
        "- Right-associative\n",
        "  - Assignment operators\n",
        "  - Exponentiation operator `**`\n",
        "\n",
        "\n",
        "## Table\n",
        "\n",
        "Here is a simplified table for common operators. We'll expand on this as we progress through the tutorials.\n",
        "\n",
        "<table>\n",
        "  <thead>\n",
        "    <tr>\n",
        "      <th>Precedence</th>\n",
        "      <th>Operators</th>\n",
        "      <th>Associativity</th>\n",
        "    </tr>\n",
        "  </thead>\n",
        "  <tbody>\n",
        "    <tr>\n",
        "      <td>1</td>\n",
        "      <td><code>()</code> (parentheses)</td>\n",
        "      <td>N/A</td>\n",
        "    </tr>\n",
        "    <tr>\n",
        "      <td>2</td>\n",
        "      <td><code>++</code> <code>--</code> (Postfix)</td>\n",
        "      <td>N/A</td>\n",
        "    </tr>\n",
        "    <tr>\n",
        "      <td>3</td>\n",
        "      <td><code>++</code> <code>--</code> (Prefix)</td>\n",
        "      <td>N/A</td>\n",
        "    </tr>\n",
        "    <tr>\n",
        "      <td>4</td>\n",
        "      <td><code>**</code> (Exponentiation)</td>\n",
        "      <td>Right-to-left</td>\n",
        "    </tr>\n",
        "    <tr>\n",
        "      <td>5</td>\n",
        "      <td><code>*</code> <code>/</code> <code>%</code> (Multiplicative)</td>\n",
        "      <td>Left-to-right</td>\n",
        "    </tr>\n",
        "    <tr>\n",
        "      <td>6</td>\n",
        "      <td><code>+</code> <code>-</code> (Additive)</td>\n",
        "      <td>Left-to-right</td>\n",
        "    </tr>\n",
        "    <tr>\n",
        "      <td>10</td>\n",
        "      <td><code>=</code> (Assignments [operative assignments follow the same precedence])</td>\n",
        "      <td>Right-to-left</td>\n",
        "    </tr>\n",
        "  </tbody>\n",
        "</table>"
      ]
    },
    {
      "cell_type": "markdown",
      "metadata": {
        "tags": [
          "pagination"
        ]
      },
      "source": [
        "<div style=\"display: flex; justify-content: space-between;\">\n<a href=\"03 Operators.ipynb\" style=\"float: left;\">← Operators</a><a href=\"05 Types.ipynb\" style=\"float: right;\">Types →</a>\n</div>"
      ]
    }
  ],
  "metadata": {
    "kernelspec": {
      "display_name": "Deno",
      "language": "typescript",
      "name": "deno"
    },
    "language_info": {
      "name": "typescript"
    }
  },
  "nbformat": 4,
  "nbformat_minor": 2
}