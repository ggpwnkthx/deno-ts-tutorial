{
  "cells": [
    {
      "cell_type": "markdown",
      "metadata": {},
      "source": [
        "# Expressions\n",
        "\n",
        "An **expression** is a small piece of code that performs an action when it runs. There are two main types:\n",
        "\n",
        "- Calculations: These take existing values, perform operations on them, and produce a new value.\n",
        "- Assignments: These store a value so they can be recalled later.\n",
        "\n",
        "Expressions are like the individual steps in a recipe, forming the core of any program and enabling it to carry out tasks one step at a time.\n",
        "\n",
        "## Operators\n",
        "\n",
        "Expressions use **operators**, which are special symbols that tell the computer what kind of actions to perform. TypeScript has many operators, but let's start simple/\n",
        "\n",
        "### Arithmetic\n",
        "\n",
        "Operator | Description    | Example  | Evaluates As\n",
        "-------- | -------------- | -------- | ------------\n",
        "`+`      | Addition       | `5 + 3`  | `8`\n",
        "`-`      | Subtraction    | `10 - 4` | `6`\n",
        "`*`      | Multiplication | `2 * 3`  | `6`\n",
        "`/`      | Division       | `8 / 2`  | `4`\n",
        "`%`      | Modulus        | `7 % 3`  | `1`\n",
        "`**`     | Exponentiation | `2 ** 3` | `8`\n",
        "\n",
        "### Assignment\n",
        "\n",
        "Operator | Description         | Example  | Evaluates As\n",
        "-------- | ------------------- | -------- | ------------\n",
        "`=`      | Assign              | `x = 10` | `10`\n",
        "`+=`     | Add and assign      | `x += 5` | `x = x + 5`\n",
        "`-=`     | Subtract and assign | `x -= 2` | `x = x - 2`\n",
        "`*=`     | Multiply and assign | `x *= 3` | `x = x * 3`\n",
        "`/=`     | Divide and assign   | `x /= 4` | `x = x / 4`\n",
        "`%=`     | Modulus and assign  | `x %= 2` | `x = x % 2`\n",
        "\n",
        "## Precedence\n",
        "\n",
        "Operator **precedence** determines the order in which operations are performed when an expression contains multiple operators. Operators with higher precedence are evaluated before those with lower precedence.\n",
        "\n",
        "For example, in the expression `3 + 10 * 2`, multiplication (`*`) has a higher precedence than addition (`+`), so the result is `23`.\n",
        "\n",
        "Parentheses `()` can be used to override the default precedence and enforce a specific order of operations.\n",
        "\n",
        "## Associativity\n",
        "\n",
        "When operators have the same precedence, their **associativity** determines the direction in which they are grouped. Operators can be:\n",
        "\n",
        "- Left-associative\n",
        "  - Most arithmetic operators like `+`, `-`, `*`, and `/`\n",
        "- Right-associative\n",
        "  - Assignment operators\n",
        "  - Exponentiation operator `**`\n",
        "\n",
        "\n",
        "### Table\n",
        "\n",
        "Here is a simplified table for common operators. We'll expand on this as we progress through the tutorials.\n",
        "\n",
        "| Precedence | Operators                     | Associativity |\n",
        "|------------|-------------------------------|---------------|\n",
        "| 1          | `()` (parentheses)            | N/A           |\n",
        "| 2          | `**` (exponentiation)         | Right-to-left |\n",
        "| 3          | `*`, `/`, `%` (multiplicative)| Left-to-right |\n",
        "| 4          | `+`, `-` (additive)           | Left-to-right |\n",
        "| 5          | `=` (assignment)              | Right-to-left |"
      ]
    },
    {
      "cell_type": "markdown",
      "metadata": {
        "tags": [
          "pagination"
        ]
      },
      "source": [
        "<div style=\"display: flex; justify-content: space-between;\">\n<a href=\"02 Statements.ipynb\" style=\"float: left;\">← Statements</a><a href=\"04 Code Blocks.ipynb\" style=\"float: right;\">Code Blocks →</a>\n</div>"
      ]
    }
  ],
  "metadata": {
    "kernelspec": {
      "display_name": "Deno",
      "language": "typescript",
      "name": "deno"
    },
    "language_info": {
      "name": "typescript"
    }
  },
  "nbformat": 4,
  "nbformat_minor": 2
}