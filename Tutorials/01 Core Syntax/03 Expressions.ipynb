{
  "cells": [
    {
      "cell_type": "markdown",
      "metadata": {},
      "source": [
        "# Expressions\n",
        "\n",
        "An **expression** is a piece of code that the programming language evaluates to produce a value. Expressions are the building blocks of TypeScript logic, and understanding them is critical to writing reliable, efficient code."
      ]
    },
    {
      "cell_type": "markdown",
      "metadata": {},
      "source": [
        "## Logical\n",
        "Logical operators combine boolean values to produce a new boolean result. These are commonly used in conditions to decide the flow of your program.\n",
        "\n",
        "<table>\n",
        "  <tr>\n",
        "    <th>Operator</th>\n",
        "    <th>Description</th>\n",
        "    <th>Example</th>\n",
        "    <th>Evaluates As</th>\n",
        "  </tr>\n",
        "  <tr>\n",
        "    <td><code>&amp;&amp;</code></td>\n",
        "    <td>Logical AND</td>\n",
        "    <td><code>true &amp;&amp; false</code></td>\n",
        "    <td><code>false</code></td>\n",
        "  </tr>\n",
        "  <tr>\n",
        "    <td><code>&#124;&#124;</code></td>\n",
        "    <td>Logical OR</td>\n",
        "    <td><code>true &#124;&#124; false</code></td>\n",
        "    <td><code>true</code></td>\n",
        "  </tr>\n",
        "  <tr>\n",
        "    <td><code>!</code></td>\n",
        "    <td>Logical NOT</td>\n",
        "    <td><code>!true</code></td>\n",
        "    <td><code>false</code></td>\n",
        "  </tr>\n",
        "</table>"
      ]
    },
    {
      "cell_type": "markdown",
      "metadata": {},
      "source": [
        "## Comparison\n",
        "Comparison operators compare two values and return a boolean (`true` or `false`).\n",
        "\n",
        "| Operator | Description             | Example          | Evaluates As |\n",
        "|----------|-------------------------|------------------|--------------|\n",
        "| `>`      | Greater than            | `5 > 3`          | `true`       |\n",
        "| `<`      | Less than               | `5 < 3`          | `false`      |\n",
        "| `>=`     | Greater than or equal   | `5 >= 5`         | `true`       |\n",
        "| `<=`     | Less than or equal      | `3 <= 4`         | `true`       |\n",
        "| `===`    | Strict equality         | `5 === 5`        | `true`       |\n",
        "| `!==`    | Strict inequality       | `5 !== 3`        | `true`       |"
      ]
    },
    {
      "cell_type": "markdown",
      "metadata": {},
      "source": [
        "## Arithmetic\n",
        "Arithmetic operators perform mathematical operations on numeric values.\n",
        "\n",
        "| Operator | Description         | Example         | Evaluates As |\n",
        "|----------|---------------------|-----------------|--------------|\n",
        "| `+`      | Addition            | `5 + 3`         | `8`          |\n",
        "| `-`      | Subtraction         | `10 - 4`        | `6`          |\n",
        "| `*`      | Multiplication      | `2 * 3`         | `6`          |\n",
        "| `/`      | Division            | `8 / 2`         | `4`          |\n",
        "| `%`      | Modulus (remainder) | `7 % 3`         | `1`          |\n",
        "| `**`     | Exponentiation      | `2 ** 3`        | `8`          |"
      ]
    },
    {
      "cell_type": "markdown",
      "metadata": {},
      "source": [
        "## Order of Operations\n",
        "When writing complex expressions, TypeScript uses **operator precedence** to decide the order of evaluation. Operators with higher precedence are evaluated before those with lower precedence. If operators have the same precedence, **associativity** determines the order of evaluation.\n",
        "\n",
        "### Operator Precedence\n",
        "| Precedence | Operator         | Description          |\n",
        "|------------|------------------|----------------------|\n",
        "| Highest    | `()`             | Parentheses          |\n",
        "| 2nd        | `**`             | Exponentiation       |\n",
        "| 3rd        | `*`, `/`, `%`    | Multiplication, etc. |\n",
        "| Lowest     | `+`, `-`         | Addition, Subtraction|\n",
        "\n",
        "### Associativity\n",
        "- **Left-to-right**: Most operators (e.g., `+`, `-`, `*`, `/`).\n",
        "- **Right-to-left**: Assignment (`=`) and exponentiation (`**`).\n"
      ]
    },
    {
      "cell_type": "code",
      "execution_count": 4,
      "metadata": {},
      "outputs": [
        {
          "data": {
            "text/plain": [
              "\u001b[33m224\u001b[39m"
            ]
          },
          "execution_count": 4,
          "metadata": {},
          "output_type": "execute_result"
        }
      ],
      "source": [
        "2 ** 5 * (3 + 4);\n",
        "\n",
        "// (3 + 4) = 7\n",
        "// 2 ** 5 = 32\n",
        "// 32 * 7 = 224"
      ]
    },
    {
      "cell_type": "markdown",
      "metadata": {
        "tags": [
          "pagination"
        ]
      },
      "source": [
        "<div style=\"display: flex; justify-content: space-between;\">\n<a href=\"02 Documentation.ipynb\" style=\"float: left;\">← Documentation</a><a href=\"04 Code Blocks.ipynb\" style=\"float: right;\">Code Blocks →</a>\n</div>"
      ]
    }
  ],
  "metadata": {
    "kernelspec": {
      "display_name": "Deno",
      "language": "typescript",
      "name": "deno"
    },
    "language_info": {
      "codemirror_mode": "typescript",
      "file_extension": ".ts",
      "mimetype": "text/x.typescript",
      "name": "typescript",
      "nbconvert_exporter": "script",
      "pygments_lexer": "typescript",
      "version": "5.6.2"
    }
  },
  "nbformat": 4,
  "nbformat_minor": 2
}