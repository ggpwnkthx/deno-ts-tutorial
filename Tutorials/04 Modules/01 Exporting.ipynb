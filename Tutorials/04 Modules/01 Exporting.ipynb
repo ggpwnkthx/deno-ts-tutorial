{
  "cells": [
    {
      "cell_type": "markdown",
      "metadata": {},
      "source": [
        "# Exporting Modules\n"
      ]
    },
    {
      "cell_type": "markdown",
      "metadata": {},
      "source": [
        "## Named Exports\n",
        "Use `export` to make a variable, function, or class available to other modules."
      ]
    },
    {
      "cell_type": "code",
      "execution_count": 1,
      "metadata": {},
      "outputs": [],
      "source": [
        "export const pi = 3.14159;\n",
        "export function square(x: number): number {\n",
        "  return x * x;\n",
        "}"
      ]
    },
    {
      "cell_type": "markdown",
      "metadata": {},
      "source": [
        "## Default Export\n",
        "A module can have one default export, often used for the main functionality of the module."
      ]
    },
    {
      "cell_type": "code",
      "execution_count": 2,
      "metadata": {},
      "outputs": [],
      "source": [
        "export default function greet(name: string): string {\n",
        "  return `Hello, ${name}!`;\n",
        "}"
      ]
    },
    {
      "cell_type": "markdown",
      "metadata": {},
      "source": [
        "## Aliases\n",
        "\n",
        "Sometimes you want to give an exported variable or function a different name when importing it elsewhere. This can be done using the `as` keyword.\n"
      ]
    },
    {
      "cell_type": "code",
      "execution_count": 3,
      "metadata": {},
      "outputs": [],
      "source": [
        "export const pi = 3.14159;\n",
        "export function square(x: number): number {\n",
        "  return x * x;\n",
        "}\n",
        "export { pi as circleConstant };"
      ]
    },
    {
      "cell_type": "markdown",
      "metadata": {},
      "source": [
        "## Exporting All at Once\n",
        "\n",
        "Instead of exporting each item individually, you can export them collectively at the end of the module."
      ]
    },
    {
      "cell_type": "code",
      "execution_count": 4,
      "metadata": {},
      "outputs": [],
      "source": [
        "const pi = 3.14159;\n",
        "const circle = (r: number): number => pi * r ** 2;\n",
        "const rectangle = (l: number, w: number): number => l * w;\n",
        "\n",
        "export { circle, rectangle };"
      ]
    },
    {
      "cell_type": "markdown",
      "metadata": {},
      "source": [
        "## Exporting Types\n",
        "\n",
        "You can export types and interfaces alongside variables, functions, and classes.\n"
      ]
    },
    {
      "cell_type": "code",
      "execution_count": 5,
      "metadata": {},
      "outputs": [],
      "source": [
        "export type User = {\n",
        "  id: number;\n",
        "  name: string;\n",
        "};\n",
        "\n",
        "export interface Admin extends User {\n",
        "  privileges: string[];\n",
        "}"
      ]
    },
    {
      "cell_type": "markdown",
      "metadata": {
        "tags": [
          "pagination"
        ]
      },
      "source": [
        "<div style=\"display: flex; justify-content: space-between;\">\n<a href=\"00 Overview.ipynb\" style=\"float: left;\">← Overview</a><a href=\"02 Importing.ipynb\" style=\"float: right;\">Importing →</a>\n</div>"
      ]
    }
  ],
  "metadata": {
    "kernelspec": {
      "display_name": "Deno",
      "language": "typescript",
      "name": "deno"
    },
    "language_info": {
      "codemirror_mode": "typescript",
      "file_extension": ".ts",
      "mimetype": "text/x.typescript",
      "name": "typescript",
      "nbconvert_exporter": "script",
      "pygments_lexer": "typescript",
      "version": "5.6.2"
    }
  },
  "nbformat": 4,
  "nbformat_minor": 2
}