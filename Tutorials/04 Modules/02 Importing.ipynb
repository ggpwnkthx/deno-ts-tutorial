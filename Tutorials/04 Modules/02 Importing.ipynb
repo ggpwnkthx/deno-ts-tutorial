{
 "cells": [
  {
   "cell_type": "markdown",
   "metadata": {},
   "source": [
    "# Importing Modules\n",
    "\n",
    "Once a module exports something, you can import it into another file to use its functionality. Imports in Deno rely on **URL-based imports**, where the path after the `from` keyword points to the location of the module. This can be a relative file path, an absolute file path, or a remote URL.\n",
    "\n",
    "## Named Imports\n",
    "Use curly braces `{}` to import specific named exports from a module. Named imports allow you to pick only the functions, variables, or classes you need, reducing unnecessary clutter in your code."
   ]
  },
  {
   "cell_type": "code",
   "execution_count": 1,
   "metadata": {},
   "outputs": [
    {
     "data": {
      "text/plain": [
       "\u001b[32m\"The area of a circle with radius 5 is 78.53975\"\u001b[39m"
      ]
     },
     "execution_count": 1,
     "metadata": {},
     "output_type": "execute_result"
    }
   ],
   "source": [
    "import { pi, square } from '../../modules/mathUtils.ts';\n",
    "`The area of a circle with radius 5 is ${pi * square(5)}`;"
   ]
  },
  {
   "cell_type": "markdown",
   "metadata": {},
   "source": [
    "### Path After `from`\n",
    "\n",
    "- **Relative Paths**: When importing a module stored locally, the path must start with `./` (current directory) or `../` (parent directory). For example:\n",
    "  ```typescript\n",
    "  import { square } from './mathUtils.ts';\n",
    "  ```\n",
    "- **Absolute Paths**: Start from the root directory with `/`. Avoid this for portability across systems.\n",
    "  ```typescript\n",
    "  import { square } from '/home/user/project/mathUtils.ts';\n",
    "  ```\n",
    "- **Remote URLs**: Deno allows importing modules directly from the web using HTTPS or module registries (e.g., `jsr:` or `npm:`). These URLs are cached locally, so they are downloaded only once.\n",
    "  ```typescript\n",
    "  import { camelCase } from \"jsr:@luca/cases@1.0.0\";\n",
    "  import { say } from \"npm:cowsay@1.6.0\";\n",
    "  import { pascalCase } from \"https://deno.land/x/case/mod.ts\";\n",
    "  ```"
   ]
  },
  {
   "cell_type": "markdown",
   "metadata": {},
   "source": [
    "## Default Imports\n",
    "When a module has a `default` export, you can import it without curly braces. This is useful for modules that provide a primary function or class.\n"
   ]
  },
  {
   "cell_type": "code",
   "execution_count": 2,
   "metadata": {},
   "outputs": [
    {
     "data": {
      "text/plain": [
       "\u001b[32m\"Hello, Alice!\"\u001b[39m"
      ]
     },
     "execution_count": 2,
     "metadata": {},
     "output_type": "execute_result"
    }
   ],
   "source": [
    "import greet from '../../modules/greeter.ts';\n",
    "greet('Alice');"
   ]
  }
 ],
 "metadata": {
  "kernelspec": {
   "display_name": "Deno",
   "language": "typescript",
   "name": "deno"
  },
  "language_info": {
   "codemirror_mode": "typescript",
   "file_extension": ".ts",
   "mimetype": "text/x.typescript",
   "name": "typescript",
   "nbconvert_exporter": "script",
   "pygments_lexer": "typescript",
   "version": "5.6.2"
  }
 },
 "nbformat": 4,
 "nbformat_minor": 2
}
