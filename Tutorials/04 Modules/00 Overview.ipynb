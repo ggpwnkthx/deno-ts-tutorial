{
 "cells": [
  {
   "cell_type": "markdown",
   "metadata": {},
   "source": [
    "# Modules Overview\n",
    "\n",
    "Modules are a way to structure your code into reusable units. By breaking your code into smaller modules, you can:\n",
    "- Keep your codebase organized and manageable.\n",
    "- Share functionality across different parts of your application.\n",
    "- Avoid name conflicts by encapsulating code in its own scope.\n",
    "\n",
    "In Deno, a **module** is any file that contains code. Each `.ts` file is treated as an independent module. \n",
    "\n",
    "Deno relies on **URL-based imports**, meaning you reference modules using file paths or remote URLs.\n",
    "\n",
    "## Topics\n",
    "- [Exporting](01%20Exporting.ipynb)\n",
    "- [Importing](02%20Importing.ipynb)\n",
    "- [Namespaces](03%20Namespaces.ipynb)\n",
    "- [`Deno`](04%20Deno.ipynb)\n",
    "- [`console`](05%20Console.ipynb)"
   ]
  }
 ],
 "metadata": {
  "kernelspec": {
   "display_name": "Deno",
   "language": "typescript",
   "name": "deno"
  },
  "language_info": {
   "name": "typescript"
  }
 },
 "nbformat": 4,
 "nbformat_minor": 2
}
