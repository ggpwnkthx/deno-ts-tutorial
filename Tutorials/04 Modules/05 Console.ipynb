{
  "cells": [
    {
      "cell_type": "markdown",
      "metadata": {},
      "source": [
        "# `console`\n",
        "\n",
        "The `console` object is a built-in global in Deno that provides methods for debugging and logging information to the terminal. It is commonly used to display messages, inspect objects, and trace execution paths in your code.\n",
        "\n",
        "## Methods\n",
        "\n",
        "The most commonly used `console` methods include:\n",
        "\n",
        "- `console.log`: Prints a message or object to the console.\n",
        "- `console.error`: Logs error messages to the console.\n",
        "- `console.warn`: Logs warning messages to the console.\n",
        "- `console.table`: Displays tabular data in a table format.\n",
        "- `console.time` and `console.timeEnd`: Measures time taken by a code block.\n",
        "\n",
        "### Logging Messages\n"
      ]
    },
    {
      "cell_type": "code",
      "execution_count": 1,
      "metadata": {},
      "outputs": [
        {
          "name": "stdout",
          "output_type": "stream",
          "text": [
            "Hello, Deno!\n"
          ]
        },
        {
          "name": "stderr",
          "output_type": "stream",
          "text": [
            "This is an error.\n",
            "This is a warning.\n"
          ]
        }
      ],
      "source": [
        "console.log(\"Hello, Deno!\");\n",
        "console.error(\"This is an error.\");\n",
        "console.warn(\"This is a warning.\");"
      ]
    },
    {
      "cell_type": "markdown",
      "metadata": {},
      "source": [
        "### Tabular Data\n"
      ]
    },
    {
      "cell_type": "code",
      "execution_count": 2,
      "metadata": {},
      "outputs": [
        {
          "name": "stdout",
          "output_type": "stream",
          "text": [
            "┌───────┬────┬─────────┐\n",
            "│ (idx) │ id │ name    │\n",
            "├───────┼────┼─────────┤\n",
            "│     0 │  1 │ \"Alice\" │\n",
            "│     1 │  2 │ \"Bob\"   │\n",
            "└───────┴────┴─────────┘\n"
          ]
        }
      ],
      "source": [
        "const users = [\n",
        "  { id: 1, name: \"Alice\" },\n",
        "  { id: 2, name: \"Bob\" },\n",
        "];\n",
        "console.table(users);"
      ]
    },
    {
      "cell_type": "markdown",
      "metadata": {},
      "source": [
        "### Timing Code Execution\n"
      ]
    },
    {
      "cell_type": "code",
      "execution_count": 3,
      "metadata": {},
      "outputs": [
        {
          "name": "stdout",
          "output_type": "stream",
          "text": [
            "Processing Time: 1.45ms\n"
          ]
        }
      ],
      "source": [
        "console.time(\"Processing Time\");\n",
        "// Perform some operations\n",
        "for (let i = 0; i < 100000; i++) {}\n",
        "console.timeEnd(\"Processing Time\");"
      ]
    },
    {
      "cell_type": "markdown",
      "metadata": {
        "tags": [
          "pagination"
        ]
      },
      "source": [
        "<div style=\"display: flex; justify-content: space-between;\">\n<a href=\"04 Deno.ipynb\" style=\"float: left;\">← Deno</a><a href=\"../05 Synchrony/00 Overview.ipynb\" style=\"float: right;\">Overview →</a>\n</div>"
      ]
    }
  ],
  "metadata": {
    "kernelspec": {
      "display_name": "Deno",
      "language": "typescript",
      "name": "deno"
    },
    "language_info": {
      "codemirror_mode": "typescript",
      "file_extension": ".ts",
      "mimetype": "text/x.typescript",
      "name": "typescript",
      "nbconvert_exporter": "script",
      "pygments_lexer": "typescript",
      "version": "5.6.2"
    }
  },
  "nbformat": 4,
  "nbformat_minor": 2
}