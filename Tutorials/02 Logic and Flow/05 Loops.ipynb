{
  "cells": [
    {
      "cell_type": "markdown",
      "metadata": {},
      "source": [
        "# Loops\n",
        "\n",
        "Loops allow you to repeat a block of code multiple times based on a condition or over a range of values.\n",
        "\n",
        "## `while`\n",
        "Use `while` to repeat as long as a condition is `true`."
      ]
    },
    {
      "cell_type": "code",
      "execution_count": 1,
      "metadata": {},
      "outputs": [
        {
          "data": {
            "text/plain": [
              "\u001b[33m0\u001b[39m"
            ]
          },
          "execution_count": 1,
          "metadata": {},
          "output_type": "execute_result"
        }
      ],
      "source": [
        "let countdown = 5;\n",
        "while (countdown > 0) { countdown = countdown - 1; }\n",
        "countdown;"
      ]
    },
    {
      "cell_type": "markdown",
      "metadata": {},
      "source": [
        "## `for`\n",
        "Use `for` to iterate over a sequence."
      ]
    },
    {
      "cell_type": "code",
      "execution_count": 2,
      "metadata": {},
      "outputs": [
        {
          "data": {
            "text/plain": [
              "\u001b[33m5\u001b[39m"
            ]
          },
          "execution_count": 2,
          "metadata": {},
          "output_type": "execute_result"
        }
      ],
      "source": [
        "let counter: number = 0;\n",
        "for (let i: number = 1; i <= 5; i++) { counter = i; }\n",
        "counter;"
      ]
    },
    {
      "cell_type": "markdown",
      "metadata": {},
      "source": [
        "## Control\n",
        "\n",
        "Control the flow of loops with these keywords:\n",
        "\n",
        "- `break`: Exits the loop immediately.\n",
        "- `continue`: Skips the current iteration and moves to the next one."
      ]
    },
    {
      "cell_type": "code",
      "execution_count": 3,
      "metadata": {},
      "outputs": [],
      "source": [
        "// Break example: Exit loop at a specific point\n",
        "for (let i: number = 0; i < 10; i++) {\n",
        "  if (i === 5) {\n",
        "    break; // Exit the loop when i is 5\n",
        "  }\n",
        "}\n",
        "\n",
        "// Continue example: Skip specific iterations\n",
        "let i: number = 0\n",
        "while (true) {\n",
        "  if (i === 5) {\n",
        "    break; // Exit the loop when i is 5\n",
        "  }\n",
        "  i = i + 1\n",
        "}"
      ]
    },
    {
      "cell_type": "markdown",
      "metadata": {
        "tags": [
          "pagination"
        ]
      },
      "source": [
        "<div style=\"display: flex; justify-content: space-between;\">\n<a href=\"04 Conditions.ipynb\" style=\"float: left;\">← Conditions</a><a href=\"06 Error Handling.ipynb\" style=\"float: right;\">Error Handling →</a>\n</div>"
      ]
    }
  ],
  "metadata": {
    "kernelspec": {
      "display_name": "Deno",
      "language": "typescript",
      "name": "deno"
    },
    "language_info": {
      "codemirror_mode": "typescript",
      "file_extension": ".ts",
      "mimetype": "text/x.typescript",
      "name": "typescript",
      "nbconvert_exporter": "script",
      "pygments_lexer": "typescript",
      "version": "5.6.2"
    }
  },
  "nbformat": 4,
  "nbformat_minor": 2
}