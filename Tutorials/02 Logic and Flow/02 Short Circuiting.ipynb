{
  "cells": [
    {
      "cell_type": "markdown",
      "metadata": {},
      "source": [
        "# Short-Circuiting\n",
        "\n",
        "Short-circuiting is a concept in which some operators stop evaluating expressions as soon as the outcome is determined. This is a performance optimization and ensures unnecessary code is not executed.\n",
        "\n",
        "## Logical AND (`&&`)\n",
        "If the left-hand operand of the `&&` operator is falsy, the entire expression evaluates to that falsy value, and the right-hand operand is not evaluated.\n"
      ]
    },
    {
      "cell_type": "code",
      "execution_count": 1,
      "metadata": {},
      "outputs": [
        {
          "data": {
            "text/plain": [
              "\u001b[33mfalse\u001b[39m"
            ]
          },
          "execution_count": 1,
          "metadata": {},
          "output_type": "execute_result"
        }
      ],
      "source": [
        "false && (5 + 10); // Left-hand operand is falsy, so (5 + 10) is not evaluated."
      ]
    },
    {
      "cell_type": "code",
      "execution_count": 2,
      "metadata": {},
      "outputs": [
        {
          "data": {
            "text/plain": [
              "\u001b[33m15\u001b[39m"
            ]
          },
          "execution_count": 2,
          "metadata": {},
          "output_type": "execute_result"
        }
      ],
      "source": [
        "true  && (5 + 10); // Left-hand operand is truthy, so (5 + 10) is evaluated."
      ]
    },
    {
      "cell_type": "markdown",
      "metadata": {},
      "source": [
        "## Logical OR (`||`)\n",
        "If the left-hand operand of the `||` operator is truthy, the entire expression evaluates to that value, and the right-hand operand is not evaluated.\n"
      ]
    },
    {
      "cell_type": "code",
      "execution_count": 3,
      "metadata": {},
      "outputs": [
        {
          "data": {
            "text/plain": [
              "\u001b[33mtrue\u001b[39m"
            ]
          },
          "execution_count": 3,
          "metadata": {},
          "output_type": "execute_result"
        }
      ],
      "source": [
        "true  || (5 + 10); // Left-hand operand is truthy, so (5 + 10) is not evaluated."
      ]
    },
    {
      "cell_type": "code",
      "execution_count": 4,
      "metadata": {},
      "outputs": [
        {
          "data": {
            "text/plain": [
              "\u001b[33m15\u001b[39m"
            ]
          },
          "execution_count": 4,
          "metadata": {},
          "output_type": "execute_result"
        }
      ],
      "source": [
        "false || (5 + 10); // Left-hand operand is falsy, so (5 + 10) is evaluated."
      ]
    },
    {
      "cell_type": "markdown",
      "metadata": {},
      "source": [
        "## Nullish Coalescing (`??`)\n",
        "The `??` operator evaluates to the right-hand operand only if the left-hand operand is `null` or `undefined`. Otherwise, it evaluates to the left-hand operand.\n"
      ]
    },
    {
      "cell_type": "code",
      "execution_count": 5,
      "metadata": {},
      "outputs": [
        {
          "data": {
            "text/plain": [
              "\u001b[32m\"Fallback\"\u001b[39m"
            ]
          },
          "execution_count": 5,
          "metadata": {},
          "output_type": "execute_result"
        }
      ],
      "source": [
        "null ?? 'Fallback'; // Left-hand operand is null, so right-hand operand is returned."
      ]
    },
    {
      "cell_type": "code",
      "execution_count": 6,
      "metadata": {},
      "outputs": [
        {
          "data": {
            "text/plain": [
              "\u001b[33m0\u001b[39m"
            ]
          },
          "execution_count": 6,
          "metadata": {},
          "output_type": "execute_result"
        }
      ],
      "source": [
        "0 ?? 'Fallback'; // Left-hand operand is not null or undefined, so it is returned."
      ]
    },
    {
      "cell_type": "markdown",
      "metadata": {},
      "source": [
        "Short-circuiting is particularly useful in preventing unnecessary computation or avoiding runtime errors when accessing properties of potentially `null` or `undefined` values."
      ]
    },
    {
      "cell_type": "markdown",
      "metadata": {
        "tags": [
          "pagination"
        ]
      },
      "source": [
        "<div style=\"display: flex; justify-content: space-between;\">\n<a href=\"01 Logic.ipynb\" style=\"float: left;\">← Logic</a><a href=\"03 Functions.ipynb\" style=\"float: right;\">Functions →</a>\n</div>"
      ]
    }
  ],
  "metadata": {
    "kernelspec": {
      "display_name": "Deno",
      "language": "typescript",
      "name": "deno"
    },
    "language_info": {
      "codemirror_mode": "typescript",
      "file_extension": ".ts",
      "mimetype": "text/x.typescript",
      "name": "typescript",
      "nbconvert_exporter": "script",
      "pygments_lexer": "typescript",
      "version": "5.6.2"
    }
  },
  "nbformat": 4,
  "nbformat_minor": 2
}