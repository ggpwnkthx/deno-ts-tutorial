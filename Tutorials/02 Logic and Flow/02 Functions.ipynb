{
 "cells": [
  {
   "cell_type": "markdown",
   "metadata": {},
   "source": [
    "# Functions\n",
    "\n",
    "**Functions** are a fundamental concept in programming that allow you to encapsulate and reuse logic efficiently. While code blocks (`{}`) allow you to group multiple statements together, functions extend this concept by accepting **parameters**, which act as placeholders for input values that can vary each time the function is executed. Functions also produce an output value, known as the **return** value, which is the result of the executed code block. This combination of dynamic input and reusable output makes functions highly versatile and essential for structuring and simplifying complex programs.\n",
    "\n",
    "## Defining\n",
    "\n",
    "A function can be defined in-place using the `function` keyword and can used directly wherever any expression can be used, like in variable assignment statements.\n",
    "\n",
    "### Syntax\n",
    "```typescript\n",
    "function(parameters: Type): ReturnType {\n",
    "  // Code block\n",
    "  return value; // Optional\n",
    "};\n",
    "```\n",
    "\n",
    "They're often assigned to variables, like this:"
   ]
  },
  {
   "cell_type": "code",
   "execution_count": 1,
   "metadata": {},
   "outputs": [],
   "source": [
    "const subtract = function(a: number, b: number): number {\n",
    "  const total = a - b;\n",
    "  return total;\n",
    "};"
   ]
  },
  {
   "cell_type": "markdown",
   "metadata": {},
   "source": [
    "## Calling\n",
    "\n",
    "Once a function is defined, you can **call** it following its reference by parentheses `()`. This action triggers the function's execution, evaluating its code block. Any data you want to pass to the function is provided inside the parentheses as **arguments**. These arguments are matched to the function's **parameters** based on their order in the function definition.\n",
    "\n",
    "### Syntax\n",
    "```typescript\n",
    "functionName(argument1, argument2, ...);\n",
    "```\n"
   ]
  },
  {
   "cell_type": "code",
   "execution_count": 2,
   "metadata": {},
   "outputs": [
    {
     "data": {
      "text/plain": [
       "\u001b[33m-1\u001b[39m"
      ]
     },
     "execution_count": 2,
     "metadata": {},
     "output_type": "execute_result"
    }
   ],
   "source": [
    "subtract(3, 4);"
   ]
  },
  {
   "cell_type": "markdown",
   "metadata": {},
   "source": [
    "## Arrow Functions\n",
    "\n",
    "Arrow functions are named for their use of the `=>` symbol, which provides a concise way to define functions. They are generally preferred in modern TypeScript due to their simplicity and predictable behavior. Unlike traditional functions, arrow functions do not create a new context when called. Instead, they operate within the existing scope where they were defined. This makes them particularly useful in scenarios like callbacks, where maintaining access to the outer environment's variables is essential. These characteristics will be explored further in later sections.\n",
    "\n",
    "### Syntax\n",
    "```typescript\n",
    "(parameters: Type): ReturnType => {\n",
    "  // Code block\n",
    "  return value; // Optional\n",
    "};\n",
    "```\n"
   ]
  },
  {
   "cell_type": "code",
   "execution_count": 3,
   "metadata": {},
   "outputs": [
    {
     "data": {
      "text/plain": [
       "\u001b[33m12\u001b[39m"
      ]
     },
     "execution_count": 3,
     "metadata": {},
     "output_type": "execute_result"
    }
   ],
   "source": [
    "const multiply = (a: number, b: number): number => {\n",
    "  const total = a * b;\n",
    "  return total;\n",
    "};\n",
    "\n",
    "multiply(3, 4);"
   ]
  },
  {
   "cell_type": "markdown",
   "metadata": {},
   "source": [
    "If the code block has just one expression, you can make it even shorter by omitting the curly braces `{}` and the `return` keyword. The value of the single expression is returned:"
   ]
  },
  {
   "cell_type": "code",
   "execution_count": 4,
   "metadata": {},
   "outputs": [
    {
     "data": {
      "text/plain": [
       "\u001b[33m0.75\u001b[39m"
      ]
     },
     "execution_count": 4,
     "metadata": {},
     "output_type": "execute_result"
    }
   ],
   "source": [
    "const divide = (a: number, b: number): number => a / b;\n",
    "\n",
    "divide(3, 4);"
   ]
  }
 ],
 "metadata": {
  "kernelspec": {
   "display_name": "Deno",
   "language": "typescript",
   "name": "deno"
  },
  "language_info": {
   "codemirror_mode": "typescript",
   "file_extension": ".ts",
   "mimetype": "text/x.typescript",
   "name": "typescript",
   "nbconvert_exporter": "script",
   "pygments_lexer": "typescript",
   "version": "5.6.2"
  }
 },
 "nbformat": 4,
 "nbformat_minor": 2
}
