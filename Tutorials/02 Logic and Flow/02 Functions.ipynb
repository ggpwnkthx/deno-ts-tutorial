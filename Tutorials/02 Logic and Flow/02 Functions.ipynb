{
  "cells": [
    {
      "cell_type": "markdown",
      "metadata": {},
      "source": [
        "# Functions\n",
        "\n",
        "Functions are reusable blocks of logic that accept input (parameters), perform an operation, and return an output. This allows us to write cleaner and modular code. Consider the following:\n"
      ]
    },
    {
      "cell_type": "code",
      "execution_count": 1,
      "metadata": {},
      "outputs": [],
      "source": [
        "function add(a: number, b: number): number { return a + b; }"
      ]
    },
    {
      "cell_type": "markdown",
      "metadata": {},
      "source": [
        "| Syntax                   | Explanation                                                                                |\n",
        "|--------------------------|--------------------------------------------------------------------------------------------|\n",
        "| `function`               | The **keyword** indicating a new function declaration.                                     |\n",
        "| `add`                    | The **identifier** for the new function.                                                   |\n",
        "| `(a: number, b: number)` | Parameter list where each parameter has a variable **identifier** and type **identifier**. |\n",
        "| `: number`               | The return type **identifier** of the evaluated function.                                  |\n",
        "| `{ return a * b; }`      | The **code block** evaluated when the function is called.                                  |"
      ]
    },
    {
      "cell_type": "markdown",
      "metadata": {},
      "source": [
        "You can also declare a **function** as an **expression**. Consider the following:"
      ]
    },
    {
      "cell_type": "code",
      "execution_count": 2,
      "metadata": {},
      "outputs": [],
      "source": [
        "const multiply = function(a: number, b: number): number { return a * b; };"
      ]
    },
    {
      "cell_type": "markdown",
      "metadata": {},
      "source": [
        "| Syntax                   | Explanation                                                                                |\n",
        "|--------------------------|--------------------------------------------------------------------------------------------|\n",
        "| `const`                  | The **keyword** used to declare a variable.                                                |\n",
        "| `multiply`               | The **identifier** for the new function.                                                   |\n",
        "| `=`                      | The assignment **operator**.                                                               |\n",
        "| `function`               | The **keyword** indicating a new function declaration.                                     |\n",
        "| `(a: number, b: number)` | Parameter list where each parameter has a variable **identifier** and type **identifier**. |\n",
        "| `: number`               | The return type **identifier** of the evaluated function.                                  |\n",
        "| `{ return a * b; }`      | The **code block** evaluated when the function is called.                                  |\n",
        "\n",
        "## Evaluation\n",
        "\n",
        "You can **call** a function by using its **identifier** followed by parentheses `()`. Pass arguments inside the parentheses to match the parameters."
      ]
    },
    {
      "cell_type": "code",
      "execution_count": 3,
      "metadata": {},
      "outputs": [
        {
          "data": {
            "text/plain": [
              "\u001b[33m10\u001b[39m"
            ]
          },
          "execution_count": 3,
          "metadata": {},
          "output_type": "execute_result"
        }
      ],
      "source": [
        "multiply(5, 2);"
      ]
    },
    {
      "cell_type": "markdown",
      "metadata": {},
      "source": [
        "## Arrow Expression\n",
        "\n",
        "Arrow functions provide a concise way to write functions using the `=>` syntax. They are especially useful for shorter functions."
      ]
    },
    {
      "cell_type": "code",
      "execution_count": 4,
      "metadata": {},
      "outputs": [
        {
          "data": {
            "text/plain": [
              "\u001b[33m25\u001b[39m"
            ]
          },
          "execution_count": 4,
          "metadata": {},
          "output_type": "execute_result"
        }
      ],
      "source": [
        "const square = (a: number) => a ** 2;\n",
        "square(5);"
      ]
    },
    {
      "cell_type": "markdown",
      "metadata": {},
      "source": [
        "## Precedence\n",
        "\n",
        "<table>\n",
        "  <thead>\n",
        "    <tr>\n",
        "      <th>Precedence</th>\n",
        "      <th>Operators</th>\n",
        "      <th>Associativity</th>\n",
        "    </tr>\n",
        "  </thead>\n",
        "  <tbody>\n",
        "    <tr>\n",
        "      <td>1</td>\n",
        "      <td><code>()</code> (Grouping)</td>\n",
        "      <td>N/A</td>\n",
        "    </tr>\n",
        "    <tr>\n",
        "      <td>2</td>\n",
        "      <td><code>x(y)</code> (Calls)</td>\n",
        "      <td>N/A</td>\n",
        "    </tr>\n",
        "    <tr>\n",
        "      <td>3</td>\n",
        "      <td><code>x++</code> <code>x--</code> (Postfix)</td>\n",
        "      <td>N/A</td>\n",
        "    </tr>\n",
        "    <tr>\n",
        "      <td>4</td>\n",
        "      <td><code>++x</code> <code>--x</code> <code>!x</code> (Prefix)</td>\n",
        "      <td>N/A</td>\n",
        "    </tr>\n",
        "    <tr>\n",
        "      <td>5</td>\n",
        "      <td><code>**</code> (Exponentiation)</td>\n",
        "      <td>Right-to-left</td>\n",
        "    </tr>\n",
        "    <tr>\n",
        "      <td>6</td>\n",
        "      <td><code>*</code> <code>/</code> <code>%</code> (Multiplicative)</td>\n",
        "      <td>Left-to-right</td>\n",
        "    </tr>\n",
        "    <tr>\n",
        "      <td>7</td>\n",
        "      <td><code>+</code> <code>-</code> (Additive)</td>\n",
        "      <td>Left-to-right</td>\n",
        "    </tr>\n",
        "    <tr>\n",
        "      <td>8</td>\n",
        "      <td><code><</code> <code><=</code> <code>></code> <code>>=</code> (Relational)</td>\n",
        "      <td>Left-to-right</td>\n",
        "    </tr>\n",
        "    <tr>\n",
        "      <td>9</td>\n",
        "      <td><code>==</code> <code>!=</code> <code>===</code> <code>!==</code> (Equality)</td>\n",
        "      <td>Left-to-right</td>\n",
        "    </tr>\n",
        "    <tr>\n",
        "      <td>10</td>\n",
        "      <td><code>&&</code> <code>||</code> <code>??</code> (Logical)</td>\n",
        "      <td>Right-to-left</td>\n",
        "    </tr>\n",
        "    <tr>\n",
        "      <td>11</td>\n",
        "      <td><code>=</code> (Assignments)†</td>\n",
        "      <td>Right-to-left</td>\n",
        "    </tr>\n",
        "  </tbody>\n",
        "</table>\n",
        "\n",
        "† *Note: operative precedence still applies (`x = y`, `x **= y`, `x +=y`, ...etc).*\n"
      ]
    },
    {
      "cell_type": "markdown",
      "metadata": {
        "tags": [
          "pagination"
        ]
      },
      "source": [
        "<div style=\"display: flex; justify-content: space-between;\">\n<a href=\"01 Logic.ipynb\" style=\"float: left;\">← Logic</a><a href=\"03 Hoisting.ipynb\" style=\"float: right;\">Hoisting →</a>\n</div>"
      ]
    }
  ],
  "metadata": {
    "kernelspec": {
      "display_name": "Deno",
      "language": "typescript",
      "name": "deno"
    },
    "language_info": {
      "codemirror_mode": "typescript",
      "file_extension": ".ts",
      "mimetype": "text/x.typescript",
      "name": "typescript",
      "nbconvert_exporter": "script",
      "pygments_lexer": "typescript",
      "version": "5.6.2"
    }
  },
  "nbformat": 4,
  "nbformat_minor": 2
}