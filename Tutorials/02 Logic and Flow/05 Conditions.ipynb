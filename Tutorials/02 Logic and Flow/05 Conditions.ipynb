{
 "cells": [
  {
   "cell_type": "markdown",
   "metadata": {},
   "source": [
    "# Conditional Statements\n",
    "\n",
    "Conditional statements let you control your program's behavior by executing specific blocks of code based on conditions.\n",
    "\n",
    "## `if` Statements\n",
    "Use `if`/`else` for simple, binary decisions."
   ]
  },
  {
   "cell_type": "code",
   "execution_count": 1,
   "metadata": {},
   "outputs": [
    {
     "data": {
      "text/plain": [
       "\u001b[32m\"Welcome back!\"\u001b[39m"
      ]
     },
     "execution_count": 1,
     "metadata": {},
     "output_type": "execute_result"
    }
   ],
   "source": [
    "const isLoggedIn: boolean = true;\n",
    "let message: string;\n",
    "if (isLoggedIn) {\n",
    "  message = \"Welcome back!\"; // Stores the welcome message\n",
    "} else {\n",
    "  message = \"Please log in.\"; // Stores the prompt to log in\n",
    "}\n",
    "message;"
   ]
  },
  {
   "cell_type": "markdown",
   "metadata": {},
   "source": [
    "## `switch` Statements\n",
    "Use `switch` for multiple potential outcomes."
   ]
  },
  {
   "cell_type": "code",
   "execution_count": 2,
   "metadata": {},
   "outputs": [
    {
     "data": {
      "text/plain": [
       "\u001b[32m\"You have full access.\"\u001b[39m"
      ]
     },
     "execution_count": 2,
     "metadata": {},
     "output_type": "execute_result"
    }
   ],
   "source": [
    "const userRole: string = \"admin\";\n",
    "let accessMessage: string;\n",
    "switch (userRole) {\n",
    "  case \"admin\":\n",
    "    accessMessage = \"You have full access.\";\n",
    "    break;\n",
    "  case \"editor\":\n",
    "    accessMessage = \"You can edit content.\";\n",
    "    break;\n",
    "  case \"viewer\":\n",
    "    accessMessage = \"You can view content.\";\n",
    "    break;\n",
    "  default:\n",
    "    accessMessage = \"Unknown role.\";\n",
    "}\n",
    "accessMessage;"
   ]
  }
 ],
 "metadata": {
  "kernelspec": {
   "display_name": "Deno",
   "language": "typescript",
   "name": "deno"
  },
  "language_info": {
   "codemirror_mode": "typescript",
   "file_extension": ".ts",
   "mimetype": "text/x.typescript",
   "name": "typescript",
   "nbconvert_exporter": "script",
   "pygments_lexer": "typescript",
   "version": "5.6.2"
  }
 },
 "nbformat": 4,
 "nbformat_minor": 2
}
