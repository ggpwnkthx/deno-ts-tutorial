{
  "cells": [
    {
      "cell_type": "markdown",
      "metadata": {},
      "source": [
        "# Conditional Statements\n",
        "\n",
        "Conditional statements let you control your program's behavior by executing specific blocks of code based on conditions.\n",
        "\n",
        "## Operators\n",
        "\n",
        "### Comparison\n",
        "\n",
        "<table>\n",
        "  <tr>\n",
        "    <th>Operator</th>\n",
        "    <th>Description</th>\n",
        "    <th>Example</th>\n",
        "    <th>Evaluates As</th>\n",
        "  </tr>\n",
        "  <tr>\n",
        "    <td><code>===</code></td>\n",
        "    <td>Strict equality</td>\n",
        "    <td><code>5 === 5</code></td>\n",
        "    <td><code>true</code></td>\n",
        "  </tr>\n",
        "  <tr>\n",
        "    <td><code>!==</code></td>\n",
        "    <td>Strict inequality</td>\n",
        "    <td><code>5 !== 3</code></td>\n",
        "    <td><code>true</code></td>\n",
        "  </tr>\n",
        "  <tr>\n",
        "    <td><code>==</code></td>\n",
        "    <td>Equality (type-converting)</td>\n",
        "    <td><code>5 == '5'</code></td>\n",
        "    <td><code>true</code></td>\n",
        "  </tr>\n",
        "  <tr>\n",
        "    <td><code>!=</code></td>\n",
        "    <td>Inequality (type-converting)</td>\n",
        "    <td><code>5 != '5'</code></td>\n",
        "    <td><code>false</code></td>\n",
        "  </tr>\n",
        "  <tr>\n",
        "    <td><code>></code></td>\n",
        "    <td>Greater than</td>\n",
        "    <td><code>5 > 3</code></td>\n",
        "    <td><code>true</code></td>\n",
        "  </tr>\n",
        "  <tr>\n",
        "    <td><code><</code></td>\n",
        "    <td>Less than</td>\n",
        "    <td><code>5 < 3</code></td>\n",
        "    <td><code>false</code></td>\n",
        "  </tr>\n",
        "  <tr>\n",
        "    <td><code>>=</code></td>\n",
        "    <td>Greater than or equal</td>\n",
        "    <td><code>5 >= 5</code></td>\n",
        "    <td><code>true</code></td>\n",
        "  </tr>\n",
        "  <tr>\n",
        "    <td><code><=</code></td>\n",
        "    <td>Less than or equal</td>\n",
        "    <td><code>3 <= 4</code></td>\n",
        "    <td><code>true</code></td>\n",
        "  </tr>\n",
        "</table>\n",
        "\n",
        "### Logical\n",
        "\n",
        "<table>\n",
        "  <tr>\n",
        "    <th>Operator</th>\n",
        "    <th>Description</th>\n",
        "    <th>Example</th>\n",
        "    <th>Evaluates As</th>\n",
        "  </tr>\n",
        "  <tr>\n",
        "    <td><code>&&</code></td>\n",
        "    <td>Logical AND</td>\n",
        "    <td><code>true && false</code></td>\n",
        "    <td><code>false</code></td>\n",
        "  </tr>\n",
        "  <tr>\n",
        "    <td><code>||</code></td>\n",
        "    <td>Logical OR</td>\n",
        "    <td><code>true || false</code></td>\n",
        "    <td><code>true</code></td>\n",
        "  </tr>\n",
        "</table>\n",
        "\n",
        "### Ternary\n",
        "\n",
        "<table>\n",
        "  <tr>\n",
        "    <th>Operator</th>\n",
        "    <th>Description</th>\n",
        "    <th>Example</th>\n",
        "    <th>Evaluates As</th>\n",
        "  </tr>\n",
        "  <tr>\n",
        "    <td><code>condition ? expr1 : expr2</code></td>\n",
        "    <td>Conditional</td>\n",
        "    <td><code>5 > 3 ? 'yes' : 'no'</code></td>\n",
        "    <td><code>'yes'</code></td>\n",
        "  </tr>\n",
        "</table>\n",
        "\n",
        "## Statements\n",
        "\n",
        "###  `if`/`else`"
      ]
    },
    {
      "cell_type": "code",
      "execution_count": 1,
      "metadata": {},
      "outputs": [
        {
          "data": {
            "text/plain": [
              "\u001b[32m\"Welcome back!\"\u001b[39m"
            ]
          },
          "execution_count": 1,
          "metadata": {},
          "output_type": "execute_result"
        }
      ],
      "source": [
        "const isLoggedIn: boolean = true;\n",
        "let message: string;\n",
        "if (isLoggedIn === true) {\n",
        "  message = \"Welcome back!\"; // Stores the welcome message\n",
        "} else {\n",
        "  message = \"Please log in.\"; // Stores the prompt to log in\n",
        "}\n",
        "message;"
      ]
    },
    {
      "cell_type": "markdown",
      "metadata": {},
      "source": [
        "### `switch`"
      ]
    },
    {
      "cell_type": "code",
      "execution_count": 2,
      "metadata": {},
      "outputs": [
        {
          "data": {
            "text/plain": [
              "\u001b[32m\"You have full access.\"\u001b[39m"
            ]
          },
          "execution_count": 2,
          "metadata": {},
          "output_type": "execute_result"
        }
      ],
      "source": [
        "const userRole: string = \"admin\";\n",
        "let accessMessage: string;\n",
        "switch (userRole) {\n",
        "  case \"admin\":\n",
        "    accessMessage = \"You have full access.\";\n",
        "    break;\n",
        "  case \"editor\":\n",
        "    accessMessage = \"You can edit content.\";\n",
        "    break;\n",
        "  case \"viewer\":\n",
        "    accessMessage = \"You can view content.\";\n",
        "    break;\n",
        "  default:\n",
        "    accessMessage = \"Unknown role.\";\n",
        "}\n",
        "accessMessage;"
      ]
    },
    {
      "cell_type": "markdown",
      "metadata": {
        "tags": [
          "pagination"
        ]
      },
      "source": [
        "<div style=\"display: flex; justify-content: space-between;\">\n<a href=\"03 Hoisting.ipynb\" style=\"float: left;\">← Hoisting</a><a href=\"05 Loops.ipynb\" style=\"float: right;\">Loops →</a>\n</div>"
      ]
    }
  ],
  "metadata": {
    "kernelspec": {
      "display_name": "Deno",
      "language": "typescript",
      "name": "deno"
    },
    "language_info": {
      "codemirror_mode": "typescript",
      "file_extension": ".ts",
      "mimetype": "text/x.typescript",
      "name": "typescript",
      "nbconvert_exporter": "script",
      "pygments_lexer": "typescript",
      "version": "5.6.2"
    }
  },
  "nbformat": 4,
  "nbformat_minor": 2
}