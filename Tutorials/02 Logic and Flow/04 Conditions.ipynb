{
  "cells": [
    {
      "cell_type": "markdown",
      "metadata": {},
      "source": [
        "# Conditional Statements\n",
        "\n",
        "Conditional statements let you control your program's behavior by executing specific blocks of code based on conditions.\n",
        "\n",
        "## Ternary Operator\n",
        "\n",
        "This is the most simple conditional statement.\n",
        "\n",
        "```typescript\n",
        "const result = condition ? expressionIfTrue : expressionIfFalse;\n",
        "```\n"
      ]
    },
    {
      "cell_type": "code",
      "execution_count": 1,
      "metadata": {},
      "outputs": [
        {
          "data": {
            "text/plain": [
              "\u001b[32m\"Junior\"\u001b[39m"
            ]
          },
          "execution_count": 1,
          "metadata": {},
          "output_type": "execute_result"
        }
      ],
      "source": [
        "const age = 42;\n",
        "age >= 65 ? 'Senior' : 'Junior';"
      ]
    },
    {
      "cell_type": "markdown",
      "metadata": {},
      "source": [
        "## `if`, `else if`, and `else`\n",
        "\n",
        "These keywords are used for conditional branching.\n"
      ]
    },
    {
      "cell_type": "code",
      "execution_count": 2,
      "metadata": {},
      "outputs": [
        {
          "data": {
            "text/plain": [
              "\u001b[32m\"It is hot!\"\u001b[39m"
            ]
          },
          "execution_count": 2,
          "metadata": {},
          "output_type": "execute_result"
        }
      ],
      "source": [
        "const temperature = 35;\n",
        "if (temperature > 30) {\n",
        "  'It is hot!';\n",
        "} else if (temperature > 20) {\n",
        "  'It is warm.';\n",
        "} else {\n",
        "  'It is cold.';\n",
        "}"
      ]
    },
    {
      "cell_type": "markdown",
      "metadata": {},
      "source": [
        "## `switch` and `case`\n",
        "\n",
        "These keywords are used to evaluate one expression against multiple possible values.\n"
      ]
    },
    {
      "cell_type": "code",
      "execution_count": 3,
      "metadata": {},
      "outputs": [
        {
          "data": {
            "text/plain": [
              "\u001b[32m\"You can edit content.\"\u001b[39m"
            ]
          },
          "execution_count": 3,
          "metadata": {},
          "output_type": "execute_result"
        }
      ],
      "source": [
        "const role: string = 'editor';\n",
        "switch (role) {\n",
        "  case 'admin':\n",
        "    'You have full access.';\n",
        "    break;\n",
        "  case 'editor':\n",
        "    'You can edit content.';\n",
        "    break;\n",
        "  case 'viewer':\n",
        "    'You can view content.';\n",
        "    break;\n",
        "  default:\n",
        "    'Role not recognized.';\n",
        "}"
      ]
    },
    {
      "cell_type": "markdown",
      "metadata": {},
      "source": [
        "## Comparison Operators\n",
        "\n",
        "<table>\n",
        "  <tr>\n",
        "    <th>Operator</th>\n",
        "    <th>Description</th>\n",
        "    <th>Example</th>\n",
        "    <th>Evaluates As</th>\n",
        "  </tr>\n",
        "  <tr>\n",
        "    <td><code>===</code></td>\n",
        "    <td>Strict equality</td>\n",
        "    <td><code>5 === 5</code></td>\n",
        "    <td><code>true</code></td>\n",
        "  </tr>\n",
        "  <tr>\n",
        "    <td><code>!==</code></td>\n",
        "    <td>Strict inequality</td>\n",
        "    <td><code>5 !== 3</code></td>\n",
        "    <td><code>true</code></td>\n",
        "  </tr>\n",
        "  <tr>\n",
        "    <td><code>==</code></td>\n",
        "    <td>Equality (type-converting)</td>\n",
        "    <td><code>5 == '5'</code></td>\n",
        "    <td><code>true</code></td>\n",
        "  </tr>\n",
        "  <tr>\n",
        "    <td><code>!=</code></td>\n",
        "    <td>Inequality (type-converting)</td>\n",
        "    <td><code>5 != '5'</code></td>\n",
        "    <td><code>false</code></td>\n",
        "  </tr>\n",
        "  <tr>\n",
        "    <td><code>></code></td>\n",
        "    <td>Greater than</td>\n",
        "    <td><code>5 > 3</code></td>\n",
        "    <td><code>true</code></td>\n",
        "  </tr>\n",
        "  <tr>\n",
        "    <td><code><</code></td>\n",
        "    <td>Less than</td>\n",
        "    <td><code>5 < 3</code></td>\n",
        "    <td><code>false</code></td>\n",
        "  </tr>\n",
        "  <tr>\n",
        "    <td><code>>=</code></td>\n",
        "    <td>Greater than or equal</td>\n",
        "    <td><code>5 >= 5</code></td>\n",
        "    <td><code>true</code></td>\n",
        "  </tr>\n",
        "  <tr>\n",
        "    <td><code><=</code></td>\n",
        "    <td>Less than or equal</td>\n",
        "    <td><code>3 <= 4</code></td>\n",
        "    <td><code>true</code></td>\n",
        "  </tr>\n",
        "</table>\n",
        "\n",
        "## Logical Operators\n",
        "\n",
        "<table>\n",
        "  <tr>\n",
        "    <th>Operator</th>\n",
        "    <th>Description</th>\n",
        "    <th>Example</th>\n",
        "    <th>Evaluates As</th>\n",
        "  </tr>\n",
        "  <tr>\n",
        "    <td><code>&&</code></td>\n",
        "    <td>Logical AND</td>\n",
        "    <td><code>true && false</code></td>\n",
        "    <td><code>false</code></td>\n",
        "  </tr>\n",
        "  <tr>\n",
        "    <td><code>||</code></td>\n",
        "    <td>Logical OR</td>\n",
        "    <td><code>true || false</code></td>\n",
        "    <td><code>true</code></td>\n",
        "  </tr>\n",
        "</table>"
      ]
    },
    {
      "cell_type": "markdown",
      "metadata": {
        "tags": [
          "pagination"
        ]
      },
      "source": [
        "<div style=\"display: flex; justify-content: space-between;\">\n<a href=\"03 Hoisting.ipynb\" style=\"float: left;\">← Hoisting</a><a href=\"05 Loops.ipynb\" style=\"float: right;\">Loops →</a>\n</div>"
      ]
    }
  ],
  "metadata": {
    "kernelspec": {
      "display_name": "Deno",
      "language": "typescript",
      "name": "deno"
    },
    "language_info": {
      "codemirror_mode": "typescript",
      "file_extension": ".ts",
      "mimetype": "text/x.typescript",
      "name": "typescript",
      "nbconvert_exporter": "script",
      "pygments_lexer": "typescript",
      "version": "5.6.2"
    }
  },
  "nbformat": 4,
  "nbformat_minor": 2
}