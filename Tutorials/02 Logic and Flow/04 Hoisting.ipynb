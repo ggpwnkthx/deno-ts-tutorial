{
  "cells": [
    {
      "cell_type": "markdown",
      "metadata": {},
      "source": [
        "# Hoisting\n",
        "\n",
        "Hoisting is a behavior in TypeScript where certain declarations are processed before the code is executed. This means you can use functions and variables in your code **before** they are formally defined.\n",
        "\n",
        "For example, functions declared with the `function` keyword are available throughout their scope even if called earlier in the code."
      ]
    },
    {
      "cell_type": "code",
      "execution_count": 1,
      "metadata": {},
      "outputs": [
        {
          "data": {
            "text/plain": [
              "\u001b[33m9\u001b[39m"
            ]
          },
          "execution_count": 1,
          "metadata": {},
          "output_type": "execute_result"
        }
      ],
      "source": [
        "square(3);\n",
        "function square(a: number): number { return a ** 2; }"
      ]
    },
    {
      "cell_type": "markdown",
      "metadata": {},
      "source": [
        "In this example, `square(3)` works even though the `square` function is defined later. This is because the function declaration is **hoisted** to the top of the scope during runtime."
      ]
    },
    {
      "cell_type": "markdown",
      "metadata": {},
      "source": [
        "## Expressions\n",
        "\n",
        "Functions assigned to variables are not hoisted in the same way. You cannot call them before their definition because only the variable is hoisted, not its value.\n"
      ]
    },
    {
      "cell_type": "code",
      "execution_count": 2,
      "metadata": {},
      "outputs": [
        {
          "ename": "ReferenceError",
          "evalue": "cube is not defined",
          "output_type": "error",
          "traceback": [
            "Stack trace:",
            "ReferenceError: cube is not defined",
            "    at <anonymous>:1:22"
          ]
        }
      ],
      "source": [
        "cube(3);\n",
        "const cube = function(a: number): number { return a ** 3; };"
      ]
    },
    {
      "cell_type": "markdown",
      "metadata": {},
      "source": [
        "In this example, `cube` cannot be called before its assignment because the function is part of the variable's value, and only the variable name is hoisted."
      ]
    },
    {
      "cell_type": "markdown",
      "metadata": {
        "tags": [
          "pagination"
        ]
      },
      "source": [
        "<div style=\"display: flex; justify-content: space-between;\">\n<a href=\"03 Functions.ipynb\" style=\"float: left;\">← Functions</a><a href=\"05 Conditions.ipynb\" style=\"float: right;\">Conditions →</a>\n</div>"
      ]
    }
  ],
  "metadata": {
    "kernelspec": {
      "display_name": "Deno",
      "language": "typescript",
      "name": "deno"
    },
    "language_info": {
      "codemirror_mode": "typescript",
      "file_extension": ".ts",
      "mimetype": "text/x.typescript",
      "name": "typescript",
      "nbconvert_exporter": "script",
      "pygments_lexer": "typescript",
      "version": "5.6.2"
    }
  },
  "nbformat": 4,
  "nbformat_minor": 2
}