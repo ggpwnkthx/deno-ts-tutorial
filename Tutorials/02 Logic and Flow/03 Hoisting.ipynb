{
  "cells": [
    {
      "cell_type": "markdown",
      "metadata": {},
      "source": [
        "# Hoisting\n",
        "\n",
        "We can use the `function` keyword followed by a name to create a reusable reference (similar to a variable). Due to a runtime concept called **hoisting**, it's important to make a distinction between named function statements and variable declaration statements (where the variable's value is assigned to an anonymous function).\n",
        "\n",
        "Hoisting refers to how the TypeScript runtime processes code before execution. It's like the way a teacher might organize a classroom before a lesson starts. Imagine you have notes scattered throughout your notebook, but before the class begins, the teacher arranges all the important definitions and declarations at the front so everyone knows they're there.\n",
        "\n",
        "## Syntax\n",
        "\n",
        "```typescript\n",
        "function functionName(parameter: Type): ReturnType {\n",
        "  // Code block\n",
        "  return value; // Optional\n",
        "}\n",
        "```\n",
        "\n",
        "The following example works just fine despite calling the function before it's declared in the code:\n"
      ]
    },
    {
      "cell_type": "code",
      "execution_count": 1,
      "metadata": {},
      "outputs": [
        {
          "data": {
            "text/plain": [
              "\u001b[33m9\u001b[39m"
            ]
          },
          "execution_count": 1,
          "metadata": {},
          "output_type": "execute_result"
        }
      ],
      "source": [
        "square(3);\n",
        "\n",
        "function square(a: number): number {\n",
        "  const total = a ** 2;\n",
        "  return total\n",
        "} "
      ]
    },
    {
      "cell_type": "markdown",
      "metadata": {},
      "source": [
        "The reason for this is because the runtime compiler \"hoists\" (or moves) all the named functions to the top of their containing scope before the other statements are evaluated.\n",
        "\n",
        "However, note that the following does **NOT** work:"
      ]
    },
    {
      "cell_type": "code",
      "execution_count": 2,
      "metadata": {},
      "outputs": [
        {
          "ename": "ReferenceError",
          "evalue": "cube is not defined",
          "output_type": "error",
          "traceback": [
            "Stack trace:",
            "ReferenceError: cube is not defined",
            "    at <anonymous>:1:22"
          ]
        }
      ],
      "source": [
        "cube(3);\n",
        "\n",
        "const cube = function(a: number): number {\n",
        "  const total = a ** 3;\n",
        "  return total\n",
        "}"
      ]
    },
    {
      "cell_type": "markdown",
      "metadata": {},
      "source": [
        "At runtime, the primary difference lies in when and how references are available:\n",
        "\n",
        "- Declared function references are immediately accessible throughout their scope due to hoisting, regardless of its position in the code.\n",
        "- Assigned variable references are accessible only after the statement has been evaluated.\n",
        "\n",
        "Understanding hoisting and named functions is important, as they play a crucial role in how TypeScript organizes and executes code. While modern practices often favor anonymous or arrow functions due to their simplicity and predictable behavior, named functions remain valuable for creating reusable and self-documenting code. Choose the function style that best suits the readability and maintainability needs of your codebase, being mindful of hoisting behavior."
      ]
    },
    {
      "cell_type": "markdown",
      "metadata": {
        "tags": [
          "pagination"
        ]
      },
      "source": [
        "<div style=\"display: flex; justify-content: space-between;\">\n<a href=\"02 Functions.ipynb\" style=\"float: left;\">← Functions</a><a href=\"04 Conditions.ipynb\" style=\"float: right;\">Conditions →</a>\n</div>"
      ]
    }
  ],
  "metadata": {
    "kernelspec": {
      "display_name": "Deno",
      "language": "typescript",
      "name": "deno"
    },
    "language_info": {
      "codemirror_mode": "typescript",
      "file_extension": ".ts",
      "mimetype": "text/x.typescript",
      "name": "typescript",
      "nbconvert_exporter": "script",
      "pygments_lexer": "typescript",
      "version": "5.6.2"
    }
  },
  "nbformat": 4,
  "nbformat_minor": 2
}