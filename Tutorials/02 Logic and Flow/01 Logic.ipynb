{
  "cells": [
    {
      "cell_type": "markdown",
      "metadata": {},
      "source": [
        "# Logic\n",
        "\n",
        "Logic helps your code make decisions by comparing and/or combining conditions to determine truthiness.\n"
      ]
    },
    {
      "cell_type": "markdown",
      "metadata": {},
      "source": [
        "## Operators\n",
        "\n",
        "Logical operators evaluate to a `true` or `false`.\n",
        "\n",
        "### Relational\n",
        "\n",
        "| Operator | Description                  | Example    | Evaluates As |\n",
        "|----------|------------------------------|------------|--------------|\n",
        "| `>`      | Greater than                 | `5 > 3`    | `true`       |\n",
        "| `<`      | Less than                    | `5 < 3`    | `false`      |\n",
        "| `>=`     | Greater than or equal        | `5 >= 5`   | `true`       |\n",
        "| `<=`     | Less than or equal           | `3 <= 4`   | `true`       |\n",
        "\n",
        "### Equality\n",
        "\n",
        "| Operator | Description                  | Example    | Evaluates As |\n",
        "|----------|------------------------------|------------|--------------|\n",
        "| `==`     | Equality (type-converting)   | `5 == '5'` | `true`       |\n",
        "| `!=`     | Inequality (type-converting) | `5 != '5'` | `false`      |\n",
        "| `===`    | Strict equality              | `5 === 5`  | `true`       |\n",
        "| `!==`    | Strict inequality            | `5 !== 3`  | `true`       |\n",
        "\n",
        "### Logical\n",
        "\n",
        "<table>\n",
        "  <tr>\n",
        "    <th>Operator</th>\n",
        "    <th>Description</th>\n",
        "    <th>Example</th>\n",
        "    <th>Evaluates As</th>\n",
        "  </tr>\n",
        "  <tr>\n",
        "    <td><code>!</code></td>\n",
        "    <td>Logical NOT (Prefix that reverses the condition)</td>\n",
        "    <td><code>!true</code></td>\n",
        "    <td><code>false</code></td>\n",
        "  </tr>\n",
        "  <tr>\n",
        "    <td><code>&&</code></td>\n",
        "    <td>Logical AND (<code>true</code> if <b>both</b> conditions are <code>true</code>)</td>\n",
        "    <td><code>true && false</code></td>\n",
        "    <td><code>false</code></td>\n",
        "  </tr>\n",
        "  <tr>\n",
        "    <td><code>||</code></td>\n",
        "    <td>Logical OR (<code>true</code> if <b>at least one</b> condition is <code>true</code>)</td>\n",
        "    <td><code>true || false</code></td>\n",
        "    <td><code>true</code></td>\n",
        "  </tr>\n",
        "  <tr>\n",
        "    <td><code>??</code></td>\n",
        "    <td>Nullish coalescing</td>\n",
        "    <td><code>null ?? 'A'</code></td>\n",
        "    <td><code>'A'</code></td>\n",
        "  </tr>\n",
        "</table>\n"
      ]
    },
    {
      "cell_type": "markdown",
      "metadata": {},
      "source": [
        "## Precedence\n",
        "\n",
        "<table>\n",
        "  <thead>\n",
        "    <tr>\n",
        "      <th>Precedence</th>\n",
        "      <th>Operators</th>\n",
        "      <th>Associativity</th>\n",
        "    </tr>\n",
        "  </thead>\n",
        "  <tbody>\n",
        "    <tr>\n",
        "      <td>1</td>\n",
        "      <td><code>()</code> (Grouping)</td>\n",
        "      <td>N/A</td>\n",
        "    </tr>\n",
        "    <tr>\n",
        "      <td>2</td>\n",
        "      <td><code>x++</code> <code>x--</code> (Postfix)</td>\n",
        "      <td>N/A</td>\n",
        "    </tr>\n",
        "    <tr>\n",
        "      <td>3</td>\n",
        "      <td><code>++x</code> <code>--x</code> <code>!x</code> (Prefix)</td>\n",
        "      <td>N/A</td>\n",
        "    </tr>\n",
        "    <tr>\n",
        "      <td>4</td>\n",
        "      <td><code>**</code> (Exponentiation)</td>\n",
        "      <td>Right-to-left</td>\n",
        "    </tr>\n",
        "    <tr>\n",
        "      <td>5</td>\n",
        "      <td><code>*</code> <code>/</code> <code>%</code> (Multiplicative)</td>\n",
        "      <td>Left-to-right</td>\n",
        "    </tr>\n",
        "    <tr>\n",
        "      <td>6</td>\n",
        "      <td><code>+</code> <code>-</code> (Additive)</td>\n",
        "      <td>Left-to-right</td>\n",
        "    </tr>\n",
        "    <tr>\n",
        "      <td>7</td>\n",
        "      <td><code><</code> <code><=</code> <code>></code> <code>>=</code> (Relational)</td>\n",
        "      <td>Left-to-right</td>\n",
        "    </tr>\n",
        "    <tr>\n",
        "      <td>8</td>\n",
        "      <td><code>==</code> <code>!=</code> <code>===</code> <code>!==</code> (Equality)</td>\n",
        "      <td>Left-to-right</td>\n",
        "    </tr>\n",
        "    <tr>\n",
        "      <td>9</td>\n",
        "      <td><code>&&</code> <code>||</code> <code>??</code> (Logical)</td>\n",
        "      <td>Right-to-left</td>\n",
        "    </tr>\n",
        "    <tr>\n",
        "      <td>10</td>\n",
        "      <td><code>=</code> (Assignments)†</td>\n",
        "      <td>Right-to-left</td>\n",
        "    </tr>\n",
        "  </tbody>\n",
        "</table>\n",
        "\n",
        "† *Note: operative precedence still applies (`x = y`, `x **= y`, `x +=y`, ...etc).*\n"
      ]
    },
    {
      "cell_type": "markdown",
      "metadata": {},
      "source": [
        "## Short-Circuiting\n",
        "\n",
        "Short-circuiting is a concept in which some operators stop evaluating expressions as soon as the outcome is determined. This is a performance optimization and ensures unnecessary code is not executed.\n",
        "\n",
        "### Logical AND (`&&`)\n",
        "If the left-hand operand of the `&&` operator is falsy, the entire expression evaluates to that falsy value, and the right-hand operand is not evaluated.\n"
      ]
    },
    {
      "cell_type": "code",
      "execution_count": 1,
      "metadata": {},
      "outputs": [],
      "source": [
        "const result1 = false && (5 + 10); // Left-hand operand is falsy, so (5 + 10) is not evaluated.\n",
        "result1; // Evaluates as: false\n",
        "\n",
        "const result2 = true && (5 + 10); // Left-hand operand is truthy, so (5 + 10) is evaluated.\n",
        "result2; // Evaluates as: 15"
      ]
    },
    {
      "cell_type": "markdown",
      "metadata": {},
      "source": [
        "### Logical OR (`||`)\n",
        "If the left-hand operand of the `||` operator is truthy, the entire expression evaluates to that value, and the right-hand operand is not evaluated.\n"
      ]
    },
    {
      "cell_type": "code",
      "execution_count": 2,
      "metadata": {},
      "outputs": [],
      "source": [
        "const result3 = true || (5 + 10); // Left-hand operand is truthy, so (5 + 10) is not evaluated.\n",
        "result3; // Evaluates as: true\n",
        "\n",
        "const result4 = false || (5 + 10); // Left-hand operand is falsy, so (5 + 10) is evaluated.\n",
        "result4; // Evaluates as: 15"
      ]
    },
    {
      "cell_type": "markdown",
      "metadata": {},
      "source": [
        "### Nullish Coalescing (`??`)\n",
        "The `??` operator evaluates to the right-hand operand only if the left-hand operand is `null` or `undefined`. Otherwise, it evaluates to the left-hand operand.\n"
      ]
    },
    {
      "cell_type": "code",
      "execution_count": 3,
      "metadata": {},
      "outputs": [],
      "source": [
        "const result5 = null ?? 'Fallback'; // Left-hand operand is null, so right-hand operand is returned.\n",
        "result5; // Evaluates as: 'Fallback'\n",
        "\n",
        "const result6 = 0 ?? 'Fallback'; // Left-hand operand is not null or undefined, so it is returned.\n",
        "result6; // Evaluates as: 0"
      ]
    },
    {
      "cell_type": "markdown",
      "metadata": {},
      "source": [
        "Short-circuiting is particularly useful in preventing unnecessary computation or avoiding runtime errors when accessing properties of potentially `null` or `undefined` values."
      ]
    },
    {
      "cell_type": "markdown",
      "metadata": {
        "tags": [
          "pagination"
        ]
      },
      "source": [
        "<div style=\"display: flex; justify-content: space-between;\">\n<a href=\"00 Overview.ipynb\" style=\"float: left;\">← Overview</a><a href=\"02 Short Circuiting.ipynb\" style=\"float: right;\">Short Circuiting →</a>\n</div>"
      ]
    }
  ],
  "metadata": {
    "kernelspec": {
      "display_name": "Deno",
      "language": "typescript",
      "name": "deno"
    },
    "language_info": {
      "codemirror_mode": "typescript",
      "file_extension": ".ts",
      "mimetype": "text/x.typescript",
      "name": "typescript",
      "nbconvert_exporter": "script",
      "pygments_lexer": "typescript",
      "version": "5.6.2"
    }
  },
  "nbformat": 4,
  "nbformat_minor": 2
}