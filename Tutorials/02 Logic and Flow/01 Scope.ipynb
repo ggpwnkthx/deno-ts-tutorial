{
  "cells": [
    {
      "cell_type": "markdown",
      "metadata": {},
      "source": [
        "# Scope\n",
        "\n",
        "Scope defines the accessibility of things in different parts of your program. It is determined by where and how you declare variables. To create scopes, we use **code blocks** to group of statements together.\n",
        "\n",
        "## Types\n",
        "\n",
        "- **Global**: Variables declared outside any block or function are accessible from anywhere in the program.\n",
        "- **Block**: Variables declared within a code block `{}` are only accessible within that block.\n"
      ]
    },
    {
      "cell_type": "markdown",
      "metadata": {},
      "source": [
        "## Code Blocks\n",
        "\n",
        "**Code blocks** are the primary tool for creating scopes to prevent variable collisions by limiting the scope of variables to the block where they're defined.\n"
      ]
    },
    {
      "cell_type": "code",
      "execution_count": 1,
      "metadata": {},
      "outputs": [
        {
          "data": {
            "text/plain": [
              "\u001b[32m\"I am global\"\u001b[39m"
            ]
          },
          "execution_count": 1,
          "metadata": {},
          "output_type": "execute_result"
        }
      ],
      "source": [
        "// Global scope\n",
        "const globalVar = 'I am global';\n",
        "{\n",
        "  // Block scope\n",
        "  const blockVar = 'I am in a block';\n",
        "  {\n",
        "    // Nested block scope\n",
        "    const nestedVar = 'I am in a nested block';\n",
        "    // globalVar is accessible here\n",
        "    // blockVar is accessible here\n",
        "    // nestedVar is accessible here\n",
        "    globalVar\n",
        "  }\n",
        "  // globalVar is accessible here\n",
        "  // blockVar is accessible here\n",
        "  // nestedVar is not accessible here\n",
        "}\n",
        "// globalVar is accessible here\n",
        "// blockVar is not accessible here\n",
        "// nestedVar is not accessible here\n"
      ]
    },
    {
      "cell_type": "markdown",
      "metadata": {},
      "source": [
        "# Note About Jupyter Notebooks\n",
        "\n",
        "In Jupyter notebooks, when you run a code cell, the notebook automatically evaluates the last statement in the cell and displays its value. This behavior can be very helpful for debugging and understanding code because you can see the immediate result of what you've written. While this automatic display of the evaluation result is convenient, it does not mean that the value is stored or accessible elsewhere in the program. It's simply a feature of the notebook to show you what the code has produced. If you need to use the result later in your program, you will need to explicitly store it (we'll cover this in future sections)."
      ]
    },
    {
      "cell_type": "markdown",
      "metadata": {
        "tags": [
          "pagination"
        ]
      },
      "source": [
        "<div style=\"display: flex; justify-content: space-between;\">\n<a href=\"00 Overview.ipynb\" style=\"float: left;\">← Overview</a><a href=\"02 Functions.ipynb\" style=\"float: right;\">Functions →</a>\n</div>"
      ]
    }
  ],
  "metadata": {
    "kernelspec": {
      "display_name": "Deno",
      "language": "typescript",
      "name": "deno"
    },
    "language_info": {
      "codemirror_mode": "typescript",
      "file_extension": ".ts",
      "mimetype": "text/x.typescript",
      "name": "typescript",
      "nbconvert_exporter": "script",
      "pygments_lexer": "typescript",
      "version": "5.6.2"
    }
  },
  "nbformat": 4,
  "nbformat_minor": 2
}