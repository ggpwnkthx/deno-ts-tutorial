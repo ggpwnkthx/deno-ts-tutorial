{
  "cells": [
    {
      "cell_type": "markdown",
      "metadata": {},
      "source": [
        "# Scope\n",
        "\n",
        "Code blocks can contain other code blocks inside them, forming **nested blocks**. This nesting creates **scopes**, which determine where variables can be accessed in your program. The **scope** of a variable is the region in your code where the variable is defined and can be used. When working with nested blocks, it's important to understand three kinds of scope:\n",
        "\n",
        "- **Global Scope**: Variables declared outside any block or function are in the global scope. They are accessible from anywhere in the program.\n",
        "- **Block Scope**: Variables declared inside a code block (`{}`) are only accessible within that block and its nested blocks.\n",
        "- **Inner (Nested) Scope**: When one block is inside another, the inner block has access to variables from the outer block. However, the reverse is not true—variables declared in the inner block are not accessible in the outer block.\n"
      ]
    },
    {
      "cell_type": "code",
      "execution_count": 1,
      "metadata": {},
      "outputs": [],
      "source": [
        "// Global scope\n",
        "const globalVar = \"I am global\";\n",
        "{\n",
        "  // Outer block scope\n",
        "  const outerVar = \"I am in the outer block\";\n",
        "  {\n",
        "    // Inner block scope\n",
        "    const innerVar = \"I am in the inner block\";\n",
        "    // Access variables from inner and outer blocks\n",
        "    const message = `${globalVar}, ${outerVar}, and ${innerVar}`; // Produces: \"I am global, I am in the outer block, and I am in the inner block\"\n",
        "  }\n",
        "  // innerVar is NOT accessible here\n",
        "}\n",
        "// outerVar is NOT accessible here"
      ]
    },
    {
      "cell_type": "markdown",
      "metadata": {
        "tags": [
          "pagination"
        ]
      },
      "source": [
        "<div style=\"display: flex; justify-content: space-between;\">\n<a href=\"00 Overview.ipynb\" style=\"float: left;\">← Overview</a><a href=\"02 Functions.ipynb\" style=\"float: right;\">Functions →</a>\n</div>"
      ]
    }
  ],
  "metadata": {
    "kernelspec": {
      "display_name": "Deno",
      "language": "typescript",
      "name": "deno"
    },
    "language_info": {
      "codemirror_mode": "typescript",
      "file_extension": ".ts",
      "mimetype": "text/x.typescript",
      "name": "typescript",
      "nbconvert_exporter": "script",
      "pygments_lexer": "typescript",
      "version": "5.6.2"
    }
  },
  "nbformat": 4,
  "nbformat_minor": 2
}