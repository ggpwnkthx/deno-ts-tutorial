{
 "cells": [
  {
   "cell_type": "markdown",
   "metadata": {},
   "source": [
    "# Programming Logic and Flow\n",
    "\n",
    "In this section, we'll explore the core programming constructs that bring your code to life. You'll learn how to store and manipulate data, group statements into reusable blocks, and control the flow of execution in your programs. By the end of this section, you’ll have the skills to write dynamic TypeScript code.\n",
    "\n",
    "## Topics\n",
    "\n",
    "- [Scope](01%20Scope.ipynb)\n",
    "- [Functions](02%20Functions.ipynb)\n",
    "- [Hoisting](03%20Hoisting.ipynb)\n",
    "- [Loops](04%20Loops.ipynb)\n",
    "- [Conditions](05%20Conditions.ipynb)\n",
    "- [Error Handling](06%20Error%20Handling.ipynb)\n"
   ]
  }
 ],
 "metadata": {
  "kernelspec": {
   "display_name": "Deno",
   "language": "typescript",
   "name": "deno"
  },
  "language_info": {
   "codemirror_mode": "typescript",
   "file_extension": ".ts",
   "mimetype": "text/x.typescript",
   "name": "typescript",
   "nbconvert_exporter": "script",
   "pygments_lexer": "typescript",
   "version": "5.6.2"
  }
 },
 "nbformat": 4,
 "nbformat_minor": 2
}
