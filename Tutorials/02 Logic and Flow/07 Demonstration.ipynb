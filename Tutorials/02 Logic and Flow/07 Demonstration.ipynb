{
  "cells": [
    {
      "cell_type": "code",
      "execution_count": 1,
      "metadata": {},
      "outputs": [
        {
          "data": {
            "text/plain": [
              "\u001b[32m\"Circle Analysis:\\n\"\u001b[39m +\n",
              "  \u001b[32m\"A circle with radius 1 has circumference 6.28 and area 3.14\\n\"\u001b[39m +\n",
              "  \u001b[32m\"A circle with radius 2 has circumference 12.56 and area 12.56\\n\"\u001b[39m +\n",
              "  \u001b[32m\"A circle with radius 3 has circumference 18.84 and area 28.259999999999998\\n\"\u001b[39m +\n",
              "  \u001b[32m\"A circle with radius 4 has circumference 25.12 and area 50.24\\n\"\u001b[39m +\n",
              "  \u001b[32m\"A circle with radius 5 has circumference 31.400000000000002 and area 78.5\\n\"\u001b[39m +\n",
              "  \u001b[32m\"The smallest radius with a circumference exceeding 30 is 5.\"\u001b[39m"
            ]
          },
          "execution_count": 1,
          "metadata": {},
          "output_type": "execute_result"
        }
      ],
      "source": [
        "/* \n",
        " * Define the mathematical constant \"pi\" with a type annotation to enforce its type as a number.\n",
        " * \"pi\" is used in calculations involving circles, such as area and circumference.\n",
        " */\n",
        "const pi: number = 3.14;\n",
        "\n",
        "/*\n",
        " * Define a non-hoisted function as a function expression.\n",
        " * This function calculates the area of a circle given its radius.\n",
        " * The function uses the formula: area = π × radius².\n",
        " */\n",
        "const calculateCircleArea = function (radius: number): number {\n",
        "  return pi * radius * radius; // Apply the formula for the area of a circle.\n",
        "};\n",
        "\n",
        "/*\n",
        " * Define an arrow function which describes a circle in a textual format.\n",
        " * This function takes the radius as input and returns a string description.\n",
        " */\n",
        "const describeCircle = (radius: number): string => {\n",
        "  return `A circle with radius ${radius}`; // String template for output.\n",
        "};\n",
        "\n",
        "// Main function demonstrating key TypeScript features like loops, conditionals, and error handling.\n",
        "function main() {\n",
        "  try {\n",
        "    // Initialize a string to store the results of the circle analysis.\n",
        "    let results = \"Circle Analysis:\\n\";\n",
        "\n",
        "    // For each radius, calculate the circumference and area of the circle.\n",
        "    for (let radius = 1; radius <= 5; radius++) {\n",
        "      // Call the function to calculate the circumference of the circle.\n",
        "      const circumference = calculateCircleCircumference(radius);\n",
        "\n",
        "      // Call the function to calculate the area of the circle.\n",
        "      const area = calculateCircleArea(radius);\n",
        "\n",
        "      // Append the descriptive details of the circle to the results string.\n",
        "      results += `${describeCircle(radius)} has circumference ${circumference} and area ${area}\\n`;\n",
        "    }\n",
        "\n",
        "    // Define a threshold value for circumference.\n",
        "    const circumferenceThreshold = 30;\n",
        "\n",
        "    // Use a while loop to find the smallest radius where the circle's circumference exceeds the threshold.\n",
        "    let radius = 1;\n",
        "    while (calculateCircleCircumference(radius) <= circumferenceThreshold) {\n",
        "      radius++; // Increment the radius until the condition is met.\n",
        "    }\n",
        "\n",
        "    // Append the result of the while loop analysis to the results string.\n",
        "    results += `The smallest radius with a circumference exceeding ${circumferenceThreshold} is ${radius}.`;\n",
        "\n",
        "    // Return the results string to the caller.\n",
        "    return results;\n",
        "  } catch (error) {\n",
        "    // Catch and handle any errors that may occur during execution.\n",
        "    return `An error occurred: ${error}`;\n",
        "  }\n",
        "}\n",
        "\n",
        "// Call the main function to execute the demonstration logic and store its output.\n",
        "const finalMessage = main();\n",
        "\n",
        "/* \n",
        " * Define a hoisted function to calculate the circumference of a circle given its radius.\n",
        " * This function uses the formula: circumference = 2 × π × radius.\n",
        " */\n",
        "function calculateCircleCircumference(radius: number): number {\n",
        "  return 2 * pi * radius; // Apply the formula for the circumference of a circle.\n",
        "}\n",
        "\n",
        "// Output the final result of the main function.\n",
        "finalMessage;"
      ]
    },
    {
      "cell_type": "markdown",
      "metadata": {
        "tags": [
          "pagination"
        ]
      },
      "source": [
        "<div style=\"display: flex; justify-content: space-between;\">\n<a href=\"06 Error Handling.ipynb\" style=\"float: left;\">← Error Handling</a><a href=\"../03 Data Structure/00 Overview.ipynb\" style=\"float: right;\">Overview →</a>\n</div>"
      ]
    }
  ],
  "metadata": {
    "kernelspec": {
      "display_name": "Deno",
      "language": "typescript",
      "name": "deno"
    },
    "language_info": {
      "codemirror_mode": "typescript",
      "file_extension": ".ts",
      "mimetype": "text/x.typescript",
      "name": "typescript",
      "nbconvert_exporter": "script",
      "pygments_lexer": "typescript",
      "version": "5.6.2"
    }
  },
  "nbformat": 4,
  "nbformat_minor": 2
}