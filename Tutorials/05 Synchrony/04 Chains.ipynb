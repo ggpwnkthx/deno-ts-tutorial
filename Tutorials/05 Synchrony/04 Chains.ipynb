{
 "cells": [
  {
   "cell_type": "markdown",
   "metadata": {},
   "source": [
    "# Chains\n",
    "\n",
    "Although a whole process may be asynchronous, sometimes the steps inside that process depend on the completion of the previous ones:\n",
    "\n",
    "- Taking the Order: The customer's order must be recorded before anything else can proceed.\n",
    "- Preparing the Base Drink: The drink's base must be ready before add-ons are applied.\n",
    "- Adding Add-ons: Each add-on is applied sequentially to ensure the order is correct.\n",
    "- Serving the Drink: Only once everything is prepared can the drink be served.\n",
    "\n",
    "By using promise chaining, each step waits for the previous step to complete before proceeding, ensuring the process occurs in the required order while still being asynchronous. This approach simplifies the code and maintains clarity.\n",
    "\n",
    "First let's define what an `Order` really is:"
   ]
  },
  {
   "cell_type": "code",
   "execution_count": 1,
   "metadata": {},
   "outputs": [],
   "source": [
    "type Order = {\n",
    "  id: number;\n",
    "  customer: string;\n",
    "  baseDrink: \"Coffee\" | \"Fruit Juice\" | \"Smoothie\";\n",
    "  addOns: (\"Ice\" | \"Syrup\" | \"Blending\" | \"Milk\" | \"Whipped Cream\")[];\n",
    "};\n"
   ]
  },
  {
   "cell_type": "markdown",
   "metadata": {},
   "source": [
    "Now let's define all the individual steps involved in processing processing an order:"
   ]
  },
  {
   "cell_type": "code",
   "execution_count": 2,
   "metadata": {},
   "outputs": [],
   "source": [
    "function takeOrder(order: Order): Promise<Order> {\n",
    "  console.log(`Taking order from ${order.customer}: ${order.baseDrink} with ${order.addOns.join(\", \")}`);\n",
    "  return new Promise((resolve) =>\n",
    "    setTimeout(() => resolve(order), 1500)\n",
    "  );\n",
    "}\n",
    "\n",
    "function prepareBaseDrink(order: Order): Promise<Order> {\n",
    "  console.log(`Preparing base drink (${order.baseDrink}) for ${order.customer}...`);\n",
    "  let time = 1000\n",
    "  switch (order.baseDrink) {\n",
    "    case \"Fruit Juice\":\n",
    "      time = 2000;\n",
    "      break;\n",
    "    case \"Smoothie\":\n",
    "      time = 3000;\n",
    "      break;\n",
    "  }\n",
    "  return new Promise((resolve) =>\n",
    "    setTimeout(() => resolve(order), time)\n",
    "  );\n",
    "}\n",
    "\n",
    "function handleAddOns(order: Order): Promise<Order> {\n",
    "  return order.addOns.reduce((promise, addOn) => {\n",
    "    return promise.then(() => {\n",
    "      console.log(`Adding ${addOn} to ${order.customer}'s ${order.baseDrink}...`);\n",
    "      return new Promise((resolve) => setTimeout(resolve, 500));\n",
    "    });\n",
    "  }, Promise.resolve()).then(() => order);\n",
    "}\n",
    "\n",
    "function serveDrink(order: Order): Promise<void> {\n",
    "  console.log(`Serving ${order.baseDrink} with ${order.addOns.join(\", \")} to ${order.customer}.`);\n",
    "  return new Promise((resolve) =>\n",
    "    setTimeout(() => resolve(), 800));\n",
    "}\n"
   ]
  },
  {
   "cell_type": "markdown",
   "metadata": {},
   "source": [
    "Finally, let's handle the proper order of these steps by chaining them together:"
   ]
  },
  {
   "cell_type": "code",
   "execution_count": 3,
   "metadata": {},
   "outputs": [],
   "source": [
    "function processOrder(order: Order): Promise<void> {\n",
    "  return takeOrder(order)\n",
    "    .then(prepareBaseDrink)\n",
    "    .then(handleAddOns)\n",
    "    .then(serveDrink)\n",
    "    .then(() => {\n",
    "      console.log(`Order ${order.id} for ${order.customer} is complete.`);\n",
    "    })\n",
    "    .catch((error) => {\n",
    "      console.error(`Failed to process order ${order.id}:`, error);\n",
    "    });\n",
    "}\n"
   ]
  },
  {
   "cell_type": "markdown",
   "metadata": {},
   "source": [
    "Now let's see how that works out in practice:"
   ]
  },
  {
   "cell_type": "code",
   "execution_count": 4,
   "metadata": {},
   "outputs": [
    {
     "name": "stdout",
     "output_type": "stream",
     "text": [
      "Taking order from Alice: Smoothie with Blending, Whipped Cream\n",
      "Taking order from Bob: Coffee with Milk, Syrup\n",
      "Taking order from Charlie: Fruit Juice with Ice\n"
     ]
    },
    {
     "data": {
      "text/plain": [
       "Promise { \u001b[36m<pending>\u001b[39m }"
      ]
     },
     "execution_count": 4,
     "metadata": {},
     "output_type": "execute_result"
    },
    {
     "name": "stdout",
     "output_type": "stream",
     "text": [
      "Preparing base drink (Smoothie) for Alice...\n",
      "Preparing base drink (Coffee) for Bob...\n",
      "Preparing base drink (Fruit Juice) for Charlie...\n",
      "Adding Milk to Bob's Coffee...\n",
      "Adding Syrup to Bob's Coffee...\n",
      "Adding Ice to Charlie's Fruit Juice...\n",
      "Serving Coffee with Milk, Syrup to Bob.\n",
      "Serving Fruit Juice with Ice to Charlie.\n",
      "Order 2 for Bob is complete.\n",
      "Adding Blending to Alice's Smoothie...\n",
      "Order 3 for Charlie is complete.\n",
      "Adding Whipped Cream to Alice's Smoothie...\n",
      "Serving Smoothie with Blending, Whipped Cream to Alice.\n",
      "Order 1 for Alice is complete.\n",
      "All orders are completed.\n"
     ]
    }
   ],
   "source": [
    "const orders: Order[] = [\n",
    "  { id: 1, customer: \"Alice\", baseDrink: \"Smoothie\", addOns: [\"Blending\", \"Whipped Cream\"] },\n",
    "  { id: 2, customer: \"Bob\", baseDrink: \"Coffee\", addOns: [\"Milk\", \"Syrup\"] },\n",
    "  { id: 3, customer: \"Charlie\", baseDrink: \"Fruit Juice\", addOns: [\"Ice\"] },\n",
    "];\n",
    "\n",
    "Promise.all(orders.map(processOrder))\n",
    "  .then(() => {\n",
    "    console.log(\"All orders are completed.\");\n",
    "  });"
   ]
  }
 ],
 "metadata": {
  "kernelspec": {
   "display_name": "Deno",
   "language": "typescript",
   "name": "deno"
  },
  "language_info": {
   "codemirror_mode": "typescript",
   "file_extension": ".ts",
   "mimetype": "text/x.typescript",
   "name": "typescript",
   "nbconvert_exporter": "script",
   "pygments_lexer": "typescript",
   "version": "5.6.2"
  }
 },
 "nbformat": 4,
 "nbformat_minor": 4
}
