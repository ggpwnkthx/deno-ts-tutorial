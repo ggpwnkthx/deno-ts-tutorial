{
  "cells": [
    {
      "cell_type": "markdown",
      "metadata": {},
      "source": [
        "# Synchrony\n",
        "\n",
        "Welcome to the **Synchrony** section! TypeScript applications often interact with APIs, handle user inputs, or perform operations that take time to complete, like fetching data over the network. Understanding how to manage tasks that may not complete immediately is critical to writing responsive, efficient programs.\n",
        "\n",
        "This section introduces you to **asynchronous programming**, a technique that allows your programs to remain responsive and efficient, even while waiting for tasks to complete. You'll learn to think in terms of tasks that happen **now**, **later**, or **in response** to some event. By mastering these concepts, you'll be equipped to handle real-world challenges, from managing simple delays to orchestrating complex workflows.\n",
        "\n",
        "## Topics\n",
        "\n",
        "1. **[The Coffee Shop](01%20The%20Coffee%20Shop.ipynb)**: Learn the basics of synchronous and asynchronous thinking through a relatable analogy.\n",
        "2. **[Promises](02%20Promises.ipynb)**: Understand how Promises represent future values and how they form the backbone of modern asynchronous programming.\n",
        "3. **[Handlers](03%20Handlers.ipynb)**: Dive into `then`, `catch`, and `finally` to manage success, error, and cleanup scenarios.\n",
        "4. **[Chains](04%20Chains.ipynb)**: Discover how to combine multiple asynchronous tasks using promise chaining.\n",
        "5. **[`async` and `await`](05%20async%20and%20await.ipynb)**: Simplify asynchronous code with `async` functions and the `await` keyword, making it look and feel synchronous.\n",
        "\n",
        "## How It All Fits Together\n",
        "\n",
        "This section starts with **The Coffee Shop**, a simple analogy to help you understand the difference between synchronous and asynchronous behavior. From there, we dive into **Promises**, the foundational building block for handling asynchronous tasks. You’ll learn how to use **Handlers** to respond to success, failure, or cleanup actions and explore **Chains**, which allow you to combine multiple asynchronous operations into a single workflow.\n",
        "\n",
        "Finally, we introduce **`async` and `await`**, a modern and elegant way to write asynchronous code that’s both readable and maintainable. By the end of this section, you'll understand not just how to handle asynchronous operations, but also how to design systems that work efficiently in real-world environments.\n",
        "\n",
        "Get ready to take control of time in your programs and make asynchronous programming a natural part of your toolkit!"
      ]
    },
    {
      "cell_type": "markdown",
      "metadata": {
        "tags": [
          "pagination"
        ]
      },
      "source": [
        "<div style=\"display: flex; justify-content: space-between;\">\n<a href=\"../04 Modules/05 Console.ipynb\" style=\"float: left;\">← Console</a><a href=\"01 The Coffee Shop.ipynb\" style=\"float: right;\">The Coffee Shop →</a>\n</div>"
      ]
    }
  ],
  "metadata": {
    "kernelspec": {
      "display_name": "Deno",
      "language": "typescript",
      "name": "deno"
    },
    "language_info": {
      "codemirror_mode": "typescript",
      "file_extension": ".ts",
      "mimetype": "text/x.typescript",
      "name": "typescript",
      "nbconvert_exporter": "script",
      "pygments_lexer": "typescript",
      "version": "5.6.2"
    }
  },
  "nbformat": 4,
  "nbformat_minor": 2
}