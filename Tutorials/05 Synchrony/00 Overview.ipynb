{
 "cells": [
  {
   "cell_type": "markdown",
   "metadata": {},
   "source": [
    "# **A**synchronous Programming\n",
    "\n",
    "Until this point, all the tutorials you’ve followed have been **synchronous**. This means every task in the program was completed one at a time, in the order they were written. Once a task started, the program waited for it to finish before moving on to the next task.\n",
    "\n",
    "## Topics\n",
    "\n",
    "- [The Coffee Shop](./01%20The%20Coffee%20Shop.ipynb)\n",
    "- [Promises](./02%20Promises.ipynb)\n",
    "- [Handlers](./03%20Handlers.ipynb)\n",
    "- [Chains](./04%20Chains.ipynb)\n",
    "- [`async` and `await`](./05%20Async%20and%20Await.ipynb)"
   ]
  }
 ],
 "metadata": {
  "kernelspec": {
   "display_name": "Deno",
   "language": "typescript",
   "name": "deno"
  },
  "language_info": {
   "name": "typescript"
  }
 },
 "nbformat": 4,
 "nbformat_minor": 2
}
