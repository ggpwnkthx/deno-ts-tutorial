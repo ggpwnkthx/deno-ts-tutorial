{
 "cells": [
  {
   "cell_type": "markdown",
   "metadata": {},
   "source": [
    "# `async` and `await`\n",
    "\n",
    "The `async` and `await` keywords in TypeScript provide a powerful way to work with asynchronous operations, making code easier to read and understand.\n",
    "\n",
    "- `async` is used to declare an asynchronous function. It ensures that the function returns a `Promise`.\n",
    "- `await` pauses the execution of an asynchronous function until the `Promise` is resolved or rejected.\n",
    "\n",
    "Here's a fairly complex use of our coffee shop analogy to demonstrate how `async` and `await` can be used to handle asynchronous operations effectively."
   ]
  },
  {
   "cell_type": "code",
   "execution_count": null,
   "metadata": {},
   "outputs": [],
   "source": [
    "// Represents an order in the coffee shop\n",
    "type AddOn = \"Ice\" | \"Syrup\" | \"Blending\" | \"Milk\" | \"Whipped Cream\";\n",
    "\n",
    "type Order = {\n",
    "  id: number;\n",
    "  customer: string;\n",
    "  baseDrink: \"Coffee\" | \"Fruit Juice\" | \"Smoothie\";\n",
    "  addOns: AddOn[];\n",
    "};\n",
    "\n",
    "function takeOrder(order: Order): Promise<Order> {\n",
    "  console.log(`Taking order from ${order.customer}: ${order.baseDrink} with ${order.addOns.join(\", \")}`);\n",
    "  return new Promise((resolve) => setTimeout(() => resolve(order), Math.random() * 5 * 1500));\n",
    "}\n",
    "\n",
    "function prepareBaseDrink(order: Order): Promise<Order> {\n",
    "  console.log(`Preparing base drink (${order.baseDrink}) for ${order.customer}...`);\n",
    "  const time = order.baseDrink === \"Smoothie\" ? 2500 : order.baseDrink === \"Fruit Juice\" ? 2000 : 1500;\n",
    "  return new Promise((resolve) => setTimeout(() => resolve(order), time));\n",
    "}\n",
    "\n",
    "async function handleAddOns(order: Order): Promise<Order> {\n",
    "  for (const addOn of order.addOns) {\n",
    "    console.log(`Adding ${addOn} to ${order.customer}'s ${order.baseDrink}...`);\n",
    "    const time = addOn === \"Ice\" ? 800 : addOn === \"Syrup\" ? 1000 : addOn === \"Blending\" ? 2000 : 1200;\n",
    "    await new Promise((resolve) => setTimeout(resolve, time));\n",
    "  }\n",
    "  return order;\n",
    "}\n",
    "\n",
    "function serveDrink(order: Order): Promise<void> {\n",
    "  console.log(`Serving ${order.baseDrink} with ${order.addOns.join(\", \")} to ${order.customer}.`);\n",
    "  return new Promise((resolve) => setTimeout(() => resolve(), 800));\n",
    "}\n",
    "\n",
    "async function processOrder(order: Order): Promise<void> {\n",
    "  try {\n",
    "    const takenOrder = await takeOrder(order);\n",
    "    const baseReady = await prepareBaseDrink(takenOrder);\n",
    "    const withAddOns = await handleAddOns(baseReady);\n",
    "    await serveDrink(withAddOns);\n",
    "    console.log(`Order ${order.id} for ${order.customer} is complete.`);\n",
    "  } catch (error) {\n",
    "    console.error(`Failed to process order ${order.id}:`, error);\n",
    "  }\n",
    "}"
   ]
  },
  {
   "cell_type": "markdown",
   "metadata": {},
   "source": [
    "### Handling Multiple Orders Simultaneously\n",
    "\n",
    "The `processOrder` function processes a single order. To handle multiple orders, we use a loop and process them concurrently."
   ]
  },
  {
   "cell_type": "code",
   "execution_count": null,
   "metadata": {},
   "outputs": [
    {
     "name": "stdout",
     "output_type": "stream",
     "text": [
      "Taking order from Alice: Coffee with Milk, Syrup\n",
      "Taking order from Bob: Fruit Juice with Ice\n",
      "Taking order from Charlie: Smoothie with Blending, Whipped Cream\n"
     ]
    },
    {
     "data": {
      "text/plain": [
       "Promise { \u001b[36m<pending>\u001b[39m }"
      ]
     },
     "execution_count": 2,
     "metadata": {},
     "output_type": "execute_result"
    },
    {
     "name": "stdout",
     "output_type": "stream",
     "text": [
      "Preparing base drink (Smoothie) for Charlie...\n",
      "Preparing base drink (Coffee) for Alice...\n",
      "Preparing base drink (Fruit Juice) for Bob...\n",
      "Adding Milk to Alice's Coffee...\n",
      "Adding Blending to Charlie's Smoothie...\n",
      "Adding Ice to Bob's Fruit Juice...\n",
      "Adding Syrup to Alice's Coffee...\n",
      "Serving Fruit Juice with Ice to Bob.\n",
      "Serving Coffee with Milk, Syrup to Alice.\n",
      "Order 2 for Bob is complete.\n",
      "Adding Whipped Cream to Charlie's Smoothie...\n",
      "Order 1 for Alice is complete.\n",
      "Serving Smoothie with Blending, Whipped Cream to Charlie.\n",
      "Order 3 for Charlie is complete.\n",
      "All orders are completed.\n"
     ]
    }
   ],
   "source": [
    "// Example orders\n",
    "const orders: Order[] = [\n",
    "  { id: 1, customer: \"Alice\", baseDrink: \"Coffee\", addOns: [\"Milk\", \"Syrup\"] },\n",
    "  { id: 2, customer: \"Bob\", baseDrink: \"Fruit Juice\", addOns: [\"Ice\"] },\n",
    "  { id: 3, customer: \"Charlie\", baseDrink: \"Smoothie\", addOns: [\"Blending\", \"Whipped Cream\"] }\n",
    "];\n",
    "\n",
    "// Process all orders concurrently\n",
    "async function processAllOrders() {\n",
    "  const promises = orders.map(processOrder);\n",
    "  await Promise.all(promises);\n",
    "  console.log(\"All orders are completed.\");\n",
    "}\n",
    "\n",
    "processAllOrders();"
   ]
  }
 ],
 "metadata": {
  "kernelspec": {
   "display_name": "Deno",
   "language": "typescript",
   "name": "deno"
  },
  "language_info": {
   "codemirror_mode": "typescript",
   "file_extension": ".ts",
   "mimetype": "text/x.typescript",
   "name": "typescript",
   "nbconvert_exporter": "script",
   "pygments_lexer": "typescript",
   "version": "5.6.2"
  }
 },
 "nbformat": 4,
 "nbformat_minor": 2
}
