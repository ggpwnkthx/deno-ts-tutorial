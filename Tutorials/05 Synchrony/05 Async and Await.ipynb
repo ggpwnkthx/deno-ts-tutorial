{
  "cells": [
    {
      "cell_type": "markdown",
      "metadata": {},
      "source": [
        "# `async` and `await`\n",
        "\n",
        "The `async` and `await` keywords in TypeScript provide a powerful way to work with asynchronous operations, making code easier to read and understand.\n",
        "\n",
        "- `async` is used to declare an asynchronous function. It ensures that the function returns a `Promise`.\n",
        "- `await` pauses the execution of an asynchronous function until the `Promise` is resolved or rejected.\n",
        "\n",
        "Here's the same example from the previous tutorial, but refactored to use `async` and `await`:"
      ]
    },
    {
      "cell_type": "code",
      "execution_count": null,
      "metadata": {},
      "outputs": [
        {
          "name": "stdout",
          "output_type": "stream",
          "text": [
            "Taking order from Alice: Smoothie with Blending, Whipped Cream\n",
            "Taking order from Bob: Coffee with Milk, Syrup\n",
            "Taking order from Charlie: Fruit Juice with Ice\n"
          ]
        },
        {
          "data": {
            "text/plain": [
              "Promise { \u001b[36m<pending>\u001b[39m }"
            ]
          },
          "execution_count": 1,
          "metadata": {},
          "output_type": "execute_result"
        },
        {
          "name": "stdout",
          "output_type": "stream",
          "text": [
            "Preparing base drink (Smoothie) for Alice...\n",
            "Preparing base drink (Coffee) for Bob...\n",
            "Preparing base drink (Fruit Juice) for Charlie...\n",
            "Adding Milk to Bob's Coffee...\n",
            "Adding Syrup to Bob's Coffee...\n",
            "Adding Ice to Charlie's Fruit Juice...\n",
            "Serving Coffee with Milk, Syrup to Bob.\n",
            "Serving Fruit Juice with Ice to Charlie.\n",
            "Order 2 for Bob is complete.\n",
            "Adding Blending to Alice's Smoothie...\n",
            "Order 3 for Charlie is complete.\n",
            "Adding Whipped Cream to Alice's Smoothie...\n",
            "Serving Smoothie with Blending, Whipped Cream to Alice.\n",
            "Order 1 for Alice is complete.\n",
            "All orders are completed.\n"
          ]
        }
      ],
      "source": [
        "type Order = {\n",
        "  id: number;\n",
        "  customer: string;\n",
        "  baseDrink: \"Coffee\" | \"Fruit Juice\" | \"Smoothie\";\n",
        "  addOns: (\"Ice\" | \"Syrup\" | \"Blending\" | \"Milk\" | \"Whipped Cream\")[];\n",
        "};\n",
        "\n",
        "// We'll use this to simulate the time it takes to do the work\n",
        "async function doSomeWork(time: number): Promise<void> {\n",
        "  await new Promise((resolve) => setTimeout(resolve, time));\n",
        "}\n",
        "\n",
        "async function takeOrder(order: Order): Promise<Order> {\n",
        "  console.log(`Taking order from ${order.customer}: ${order.baseDrink} with ${order.addOns.join(\", \")}`);\n",
        "  await doSomeWork(1500);\n",
        "  return order;\n",
        "}\n",
        "\n",
        "async function prepareBaseDrink(order: Order): Promise<Order> {\n",
        "  console.log(`Preparing base drink (${order.baseDrink}) for ${order.customer}...`);\n",
        "  let time = 1000\n",
        "  switch (order.baseDrink) {\n",
        "    case \"Fruit Juice\":\n",
        "      time = 2000;\n",
        "      break;\n",
        "    case \"Smoothie\":\n",
        "      time = 3000;\n",
        "      break;\n",
        "  }\n",
        "  await doSomeWork(time);\n",
        "  return order;\n",
        "}\n",
        "\n",
        "async function handleAddOns(order: Order): Promise<Order> {\n",
        "  for (const addOn of order.addOns) {\n",
        "    console.log(`Adding ${addOn} to ${order.customer}'s ${order.baseDrink}...`);\n",
        "    await doSomeWork(500);\n",
        "  }\n",
        "  return order;\n",
        "}\n",
        "\n",
        "async function serveDrink(order: Order): Promise<void> {\n",
        "  console.log(`Serving ${order.baseDrink} with ${order.addOns.join(\", \")} to ${order.customer}.`);\n",
        "  await doSomeWork(800);\n",
        "}\n",
        "\n",
        "async function processOrder(order: Order): Promise<void> {\n",
        "  try {\n",
        "    const takenOrder = await takeOrder(order);\n",
        "    const baseReady = await prepareBaseDrink(takenOrder);\n",
        "    const withAddOns = await handleAddOns(baseReady);\n",
        "    await serveDrink(withAddOns);\n",
        "    console.log(`Order ${order.id} for ${order.customer} is complete.`);\n",
        "  } catch (error) {\n",
        "    console.error(`Failed to process order ${order.id}:`, error);\n",
        "  }\n",
        "}\n",
        "\n",
        "const orders: Order[] = [\n",
        "  { id: 1, customer: \"Alice\", baseDrink: \"Smoothie\", addOns: [\"Blending\", \"Whipped Cream\"] },\n",
        "  { id: 2, customer: \"Bob\", baseDrink: \"Coffee\", addOns: [\"Milk\", \"Syrup\"] },\n",
        "  { id: 3, customer: \"Charlie\", baseDrink: \"Fruit Juice\", addOns: [\"Ice\"] },\n",
        "];\n",
        "\n",
        "Promise.all(orders.map(processOrder))\n",
        "  .then(() => {\n",
        "    console.log(\"All orders are completed.\");\n",
        "  });"
      ]
    },
    {
      "cell_type": "markdown",
      "metadata": {
        "tags": [
          "pagination"
        ]
      },
      "source": [
        "<div style=\"display: flex; justify-content: space-between;\">\n<a href=\"04 Chains.ipynb\" style=\"float: left;\">← Chains</a>\n</div>"
      ]
    }
  ],
  "metadata": {
    "kernelspec": {
      "display_name": "Deno",
      "language": "typescript",
      "name": "deno"
    },
    "language_info": {
      "codemirror_mode": "typescript",
      "file_extension": ".ts",
      "mimetype": "text/x.typescript",
      "name": "typescript",
      "nbconvert_exporter": "script",
      "pygments_lexer": "typescript",
      "version": "5.6.2"
    }
  },
  "nbformat": 4,
  "nbformat_minor": 2
}