{
 "cells": [
  {
   "cell_type": "markdown",
   "metadata": {},
   "source": [
    "# The Coffee Shop\n",
    "\n",
    "## Syncronous\n",
    "\n",
    "Imagine a coffee shop where the barista handles one order at a time. For example:\n",
    "\n",
    "- A customer orders an espresso latte.\n",
    "- The barista starts the espresso machine.\n",
    "- The barista waits for the espresso machine to finish brewing.\n",
    "- When the espresso machine finishes, the barista, pours the espresso, then starts the milk frother.\n",
    "- When the milk frother finishes, the barista pours it into the espresso, and serves it to the customer.\n",
    "- The barista goes back to waiting to taking orders.\n",
    "- A customer orders a smoothie.\n",
    "- The barista starts the blender.\n",
    "- The barista waits for the blender to finish.\n",
    "- When the blender finishes, the barista pours the smoothie, and serves it to the customer.\n",
    "- The barista goes back to waiting to taking orders.\n",
    "\n",
    "This approach is simple and predictable, but it has a major limitation: **every customer has to wait until the barista completes the previous order before they’re served.**\n",
    "\n",
    "For a busy coffee shop, this would create a long line and frustrated customers!\n",
    "\n",
    "In programming, synchronous tasks are similar: your code handles one task at a time, and other tasks have to wait their turn.\n",
    "\n",
    "## Asynchronous\n",
    "\n",
    "**Asynchronous** programming allows tasks to run in a non-blocking way. This approach is much like a coffee shop where the barista can work on multiple orders at once, keeping things moving efficiently.\n",
    "\n",
    "The barista doesn’t wait for each machine to finish before starting the next task. Instead, they keep multiple tasks going at once:\n",
    "\n",
    "- A customer orders an espresso latte.\n",
    "- The barista starts the espresso machine.\n",
    "- The barista goes back to waiting to taking orders (while the espresso machine is running).\n",
    "- A customer orders a smoothie.\n",
    "- The barista starts the blender (while the espresso machine is running).\n",
    "- The barista goes back to waiting to taking orders (while the espresso machine and blender are running).\n",
    "- When the espresso machine finishes, the barista, pours the espresso, then starts the milk frother.\n",
    "- When the blender finishes, the barista returns to it, pours the smoothie.\n",
    "- The barista serves the smoothie to the customer.\n",
    "- When the milk frother finishes, the barista pours it into the espresso, and serves it to the customer.\n",
    "\n",
    "This approach allows the barista to keep the line moving and make better use of their time. This is exactly how asynchronous programming works in your code: tasks can run independently, and the program doesn't have to wait for one to finish before starting another."
   ]
  }
 ],
 "metadata": {
  "kernelspec": {
   "display_name": "Deno",
   "language": "typescript",
   "name": "deno"
  },
  "language_info": {
   "name": "typescript"
  }
 },
 "nbformat": 4,
 "nbformat_minor": 2
}
