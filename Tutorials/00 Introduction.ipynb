{
  "cells": [
    {
      "cell_type": "markdown",
      "metadata": {},
      "source": [
        "# Introduction\n",
        "\n",
        "## TypeScript\n",
        "\n",
        "**TypeScript** is a programming language developed by [Microsoft](https://www.microsoft.com/) that enhances **JavaScript** by adding some cool features like **static types**, **interfaces**, and **classes**.\n",
        "\n",
        "**Static types** let you define what kind of data (like numbers, strings, etc.) your variables can hold. This helps catch errors during development instead of when your app is running.\n",
        "\n",
        "TypeScript is all about making your code more reliable and easier to maintain, especially for large applications.\n",
        "\n",
        "## Deno\n",
        "\n",
        "**Deno** is a modern **runtime** for JavaScript and TypeScript, created by [Ryan Dahl](https://en.wikipedia.org/wiki/Ryan_Dahl) - the original creator of **Node.js**.\n",
        "\n",
        "But what exactly is a runtime? Think of it as the engine that runs your code, providing an environment where your code can be executed on your machine.\n",
        "\n",
        "Deno stands out because it has built-in support for TypeScript, meaning you don't need extra tools to get started.\n",
        "\n",
        "It also has an enhanced security model and comes with modern development tools like a formatter, linter, and test runner—all built-in!\n",
        "\n",
        "## Tutorial\n",
        "\n",
        "This tutorial is here to help you, as a beginner, explore the fundamentals of TypeScript and see how it works hand-in-hand with Deno.\n",
        "\n",
        "We'll take a practical approach and run through the boring basics as quickly as possible, so you'll get to write code and see how everything fits together.\n",
        "\n",
        "Each section builds on the previous one, so you'll have a solid foundation before moving on.\n",
        "\n",
        "By the end, you'll feel confident in understanding TypeScript's core principles and be ready to use Deno to build secure, scalable, and modern applications.\n",
        "\n",
        "**Ready to get started? Let's dive into the exciting world of TypeScript and Deno!**\n",
        "\n",
        "# Getting Started\n",
        "\n",
        "Before we dive into the tutorial, make sure to read the **README.MD** file to set up your development environment.\n",
        "\n",
        "Once you're all set, head over to the next notebook to start learning TypeScript from the ground up!\n"
      ]
    },
    {
      "cell_type": "markdown",
      "metadata": {
        "tags": [
          "pagination"
        ]
      },
      "source": [
        "<div style=\"display: flex; justify-content: space-between;\">\n<a href=\"01 Core Syntax/00 Overview.ipynb\" style=\"float: right;\">Overview →</a>\n</div>"
      ]
    }
  ],
  "metadata": {
    "kernelspec": {
      "display_name": "Deno",
      "language": "typescript",
      "name": "deno"
    },
    "language_info": {
      "codemirror_mode": "typescript",
      "file_extension": ".ts",
      "mimetype": "text/x.typescript",
      "name": "typescript",
      "nbconvert_exporter": "script",
      "pygments_lexer": "typescript",
      "version": "5.6.2"
    }
  },
  "nbformat": 4,
  "nbformat_minor": 2
}