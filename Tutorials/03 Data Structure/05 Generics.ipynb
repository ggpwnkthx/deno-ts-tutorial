{
  "cells": [
    {
      "cell_type": "markdown",
      "metadata": {},
      "source": [
        "# Generics\n",
        "\n",
        "Generics allow you to write flexible, reusable, and type-safe code by making it possible to work with a variety of types instead of being limited to a single one. Generics act as placeholders for types, enabling you to define components or functions that can work with any data type while maintaining type safety.\n",
        "\n",
        "For example, instead of creating multiple versions of a function or class for different types, you can use a generic to define it once and use it with any type.\n",
        "\n",
        "## Functions\n",
        "\n",
        "Consider a scenario where you want a function to compare two values of any type. Without generics, you might resort to using `any`, which sacrifices type safety:\n"
      ]
    },
    {
      "cell_type": "code",
      "execution_count": 1,
      "metadata": {},
      "outputs": [
        {
          "data": {
            "text/plain": [
              "\u001b[33mfalse\u001b[39m"
            ]
          },
          "execution_count": 1,
          "metadata": {},
          "output_type": "execute_result"
        }
      ],
      "source": [
        "function isEqual(value1: any, value2: any): boolean {\n",
        "  return value1 === value2;\n",
        "}\n",
        "\n",
        "isEqual(42, \"42\"); // Output: false, but TypeScript doesn’t enforce type safety"
      ]
    },
    {
      "cell_type": "markdown",
      "metadata": {},
      "source": [
        "With generics, you can enforce type constraints while maintaining flexibility:\n"
      ]
    },
    {
      "cell_type": "code",
      "execution_count": 2,
      "metadata": {},
      "outputs": [
        {
          "data": {
            "text/plain": [
              "\u001b[33mtrue\u001b[39m"
            ]
          },
          "execution_count": 2,
          "metadata": {},
          "output_type": "execute_result"
        }
      ],
      "source": [
        "function isEqual<T>(value1: T, value2: T): boolean {\n",
        "  return value1 === value2;\n",
        "}\n",
        "\n",
        "isEqual<number>(42, 42); // Output: true, and TypeScript enforces both values are numbers"
      ]
    },
    {
      "cell_type": "markdown",
      "metadata": {},
      "source": [
        "Let’s create a generic function that takes two values and returns the larger one. This function works with numbers, bigints, or any type that supports comparison using a custom comparator function:"
      ]
    },
    {
      "cell_type": "code",
      "execution_count": 3,
      "metadata": {},
      "outputs": [
        {
          "data": {
            "text/plain": [
              "\u001b[33m75\u001b[39m"
            ]
          },
          "execution_count": 3,
          "metadata": {},
          "output_type": "execute_result"
        }
      ],
      "source": [
        "function maxOfTwo<T>(value1: T, value2: T, compare: (a: T, b: T) => number): T {\n",
        "  return compare(value1, value2) > 0 ? value1 : value2;\n",
        "}\n",
        "\n",
        "const largerNumber = maxOfTwo(42, 75, (a, b) => a - b);\n",
        "largerNumber; "
      ]
    },
    {
      "cell_type": "code",
      "execution_count": 4,
      "metadata": {},
      "outputs": [
        {
          "data": {
            "text/plain": [
              "\u001b[33m200n\u001b[39m"
            ]
          },
          "execution_count": 4,
          "metadata": {},
          "output_type": "execute_result"
        }
      ],
      "source": [
        "const largerBigint = maxOfTwo(100n, 200n, (a, b) => Number(a - b));\n",
        "largerBigint;"
      ]
    },
    {
      "cell_type": "markdown",
      "metadata": {},
      "source": [
        "## Classes\n",
        "\n",
        "Generics are not limited to functions. They can also be applied to classes. This allows you to create reusable data structures that work with different types while preserving type safety.\n",
        "\n",
        "Here’s an example of a generic class for managing a pair of values of any type:\n"
      ]
    },
    {
      "cell_type": "code",
      "execution_count": 5,
      "metadata": {},
      "outputs": [
        {
          "data": {
            "text/plain": [
              "\u001b[33m7\u001b[39m"
            ]
          },
          "execution_count": 5,
          "metadata": {},
          "output_type": "execute_result"
        }
      ],
      "source": [
        "// Define a generic class\n",
        "class Pair<T> {\n",
        "  swapped: boolean = false;\n",
        "  constructor(private value1: T, private value2: T) {}\n",
        "\n",
        "  // Swap the two values\n",
        "  swap(): void {\n",
        "    this.swapped = !this.swapped;\n",
        "  }\n",
        "\n",
        "  // Get the first value\n",
        "  getFirst(): T {\n",
        "    if (this.swapped) {\n",
        "      return this.value2;\n",
        "    }\n",
        "    return this.value1;\n",
        "  }\n",
        "\n",
        "  // Get the second value\n",
        "  getSecond(): T {\n",
        "    if (this.swapped) {\n",
        "      return this.value1;\n",
        "    }\n",
        "    return this.value2;\n",
        "  }\n",
        "}\n",
        "\n",
        "const numberPair = new Pair<number>(3, 7);\n",
        "numberPair.swap();\n",
        "numberPair.getFirst();"
      ]
    },
    {
      "cell_type": "code",
      "execution_count": 6,
      "metadata": {},
      "outputs": [
        {
          "data": {
            "text/plain": [
              "\u001b[33m200n\u001b[39m"
            ]
          },
          "execution_count": 6,
          "metadata": {},
          "output_type": "execute_result"
        }
      ],
      "source": [
        "const bigintPair = new Pair<bigint>(100n, 200n);\n",
        "bigintPair.getSecond();"
      ]
    },
    {
      "cell_type": "markdown",
      "metadata": {
        "tags": [
          "pagination"
        ]
      },
      "source": [
        "<div style=\"display: flex; justify-content: space-between;\">\n<a href=\"04 Classes.ipynb\" style=\"float: left;\">← Classes</a><a href=\"06 Arrays.ipynb\" style=\"float: right;\">Arrays →</a>\n</div>"
      ]
    }
  ],
  "metadata": {
    "kernelspec": {
      "display_name": "Deno",
      "language": "typescript",
      "name": "deno"
    },
    "language_info": {
      "codemirror_mode": "typescript",
      "file_extension": ".ts",
      "mimetype": "text/x.typescript",
      "name": "typescript",
      "nbconvert_exporter": "script",
      "pygments_lexer": "typescript",
      "version": "5.6.2"
    }
  },
  "nbformat": 4,
  "nbformat_minor": 2
}