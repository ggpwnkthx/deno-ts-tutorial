{
  "cells": [
    {
      "cell_type": "code",
      "execution_count": 1,
      "metadata": {},
      "outputs": [
        {
          "data": {
            "text/plain": [
              "[\n",
              "  \u001b[32m\"Circle with radius 1 has area 3.14 and circumference 6.28\"\u001b[39m,\n",
              "  \u001b[32m\"Circle with radius 2 has area 12.56 and circumference 12.56\"\u001b[39m,\n",
              "  \u001b[32m\"Circle with radius 3 has area 28.26 and circumference 18.84\"\u001b[39m,\n",
              "  \u001b[32m\"Circle with radius 4 has area 50.24 and circumference 25.12\"\u001b[39m,\n",
              "  \u001b[32m\"Circle with radius 5 has area 78.5 and circumference 31.400000000000002\"\u001b[39m,\n",
              "  \u001b[32m\"First circle with circumference exceeding 30 has radius 5.\"\u001b[39m,\n",
              "  \u001b[32m\"Largest area among circles: 78.5\"\u001b[39m,\n",
              "  \u001b[32m\"Unique circle areas: 3.14, 12.56, 28.26, 50.24, 78.5\"\u001b[39m\n",
              "]"
            ]
          },
          "execution_count": 1,
          "metadata": {},
          "output_type": "execute_result"
        }
      ],
      "source": [
        "/*\n",
        " * A `Circle` class encapsulates data and operations for circles.\n",
        " * Properties:\n",
        " *   - `pi`: Mathematical constant \"pi\"\n",
        " *   - `radius`: The radius of the circle.\n",
        " * Methods:\n",
        " *   - `getArea()`: Calculates the circle's area using the formula π × radius².\n",
        " *   - `getCircumference()`: Calculates the circumference using 2 × π × radius.\n",
        " *   - `describe()`: Provides a text description of the circle.\n",
        " */\n",
        "class Circle {\n",
        "  static pi = 3.14;\n",
        "  constructor(public radius: number) {}\n",
        "  getArea = () => Circle.pi * this.radius ** 2;\n",
        "  getCircumference = () => 2 * Circle.pi * this.radius;\n",
        "  describe = () => `Circle with radius ${this.radius}`;\n",
        "}\n",
        "\n",
        "/*\n",
        " * A generic function `findLargest` returns the largest element in an array.\n",
        " * Parameters:\n",
        " *   - `items`: An array of elements to evaluate.\n",
        " *   - `compare`: A function comparing two elements, returning:\n",
        " *      > 0 if the first is larger,\n",
        " *      < 0 if the second is larger,\n",
        " *      0 if they are equal.\n",
        " * Returns:\n",
        " *   - The largest element based on the comparison logic.\n",
        " */\n",
        "const findLargest = <T>(items: T[], compare: (a: T, b: T) => number): T =>\n",
        "  items.reduce((largest, current) =>\n",
        "    compare(largest, current) > 0 ? largest : current\n",
        "  );\n",
        "\n",
        "try {\n",
        "  const circles = Array.from({ length: 5 }, (_, i) => new Circle(i + 1)); // Create circles with radii 1–5.\n",
        "  const results = circles.map(\n",
        "    (circle) =>\n",
        "      `${circle.describe()} has area ${circle.getArea()} and circumference ${circle.getCircumference()}`\n",
        "  );\n",
        "\n",
        "  const threshold = 30; // Define a circumference threshold.\n",
        "  const firstExceeding = circles.find((c) => c.getCircumference() > threshold);\n",
        "  if (firstExceeding)\n",
        "    results.push(\n",
        "      `First circle with circumference exceeding ${threshold} has radius ${firstExceeding.radius}.`\n",
        "    );\n",
        "\n",
        "  const largestArea = findLargest(\n",
        "    circles.map((c) => c.getArea()),\n",
        "    (a, b) => a - b\n",
        "  );\n",
        "  results.push(`Largest area among circles: ${largestArea}`);\n",
        "\n",
        "  const uniqueAreas = new Set(circles.map((c) => c.getArea()));\n",
        "  results.push(`Unique circle areas: ${[...uniqueAreas].join(\", \")}`);\n",
        "\n",
        "  results;\n",
        "} catch (error) {\n",
        "  [`An error occurred: ${error}`];\n",
        "}\n"
      ]
    },
    {
      "cell_type": "markdown",
      "metadata": {
        "tags": [
          "pagination"
        ]
      },
      "source": [
        "<div style=\"display: flex; justify-content: space-between;\">\n<a href=\"06 Sets.ipynb\" style=\"float: left;\">← Sets</a><a href=\"../04 Modules/00 Overview.ipynb\" style=\"float: right;\">Overview →</a>\n</div>"
      ]
    }
  ],
  "metadata": {
    "kernelspec": {
      "display_name": "Deno",
      "language": "typescript",
      "name": "deno"
    },
    "language_info": {
      "codemirror_mode": "typescript",
      "file_extension": ".ts",
      "mimetype": "text/x.typescript",
      "name": "typescript",
      "nbconvert_exporter": "script",
      "pygments_lexer": "typescript",
      "version": "5.6.2"
    }
  },
  "nbformat": 4,
  "nbformat_minor": 2
}