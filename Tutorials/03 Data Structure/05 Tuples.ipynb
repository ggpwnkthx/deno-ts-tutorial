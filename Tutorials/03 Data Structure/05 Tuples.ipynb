{
  "cells": [
    {
      "cell_type": "markdown",
      "metadata": {},
      "source": [
        "# Tuples\n",
        "\n",
        "A **tuple** is an **array** that holds a fixed number of elements, each with a specific type. Unlike primitive types like `string` or `number`, tuples allow you to group multiple related values together into a single unit, which can represent more complex data. Each position in the tuple has a defined type, and the order matters.\n",
        "\n",
        "Tuples are useful when you need to represent a specific combination of data that goes together. For example, a tuple could store a person's name and their age or the coordinates of a point in space. By grouping related data, tuples make your code more structured and easier to understand."
      ]
    },
    {
      "cell_type": "markdown",
      "metadata": {},
      "source": [
        "## Advantages\n",
        "\n",
        "- Tuples keep related data together, ensuring logical grouping.\n",
        "- They enforce types for each position, helping avoid mistakes.\n",
        "- Tuples are concise and cleaner than using separate variables for related data.\n",
        "\n",
        "For instance, instead of declaring multiple variables like `name` and `age`, you can use a single tuple to represent both:"
      ]
    },
    {
      "cell_type": "code",
      "execution_count": 1,
      "metadata": {},
      "outputs": [
        {
          "data": {
            "text/plain": [
              "[ \u001b[32m\"Alice\"\u001b[39m, \u001b[33m30\u001b[39m ]"
            ]
          },
          "execution_count": 1,
          "metadata": {},
          "output_type": "execute_result"
        }
      ],
      "source": [
        "const person: [string, number] = [\"Alice\", 30];\n",
        "\n",
        "person;"
      ]
    },
    {
      "cell_type": "markdown",
      "metadata": {},
      "source": [
        "## Instantiation\n",
        "\n",
        "Defining a tuple is a lot like using the shorthand for arrays. Specify the types of its elements in order within square brackets `[]`. Then, assign values of the correct types to it.\n"
      ]
    },
    {
      "cell_type": "code",
      "execution_count": 2,
      "metadata": {},
      "outputs": [],
      "source": [
        "const question: [string, number] = [\"What is 2+2?\", 4];\n",
        "const point: [number, number, number] = [1, 2, 3];"
      ]
    },
    {
      "cell_type": "markdown",
      "metadata": {},
      "source": [
        "You can access the values in a tuple using their position, known as its index (starting at `0` for the first element).\n"
      ]
    },
    {
      "cell_type": "code",
      "execution_count": 3,
      "metadata": {},
      "outputs": [
        {
          "data": {
            "text/plain": [
              "\u001b[32m\"Alice\"\u001b[39m"
            ]
          },
          "execution_count": 3,
          "metadata": {},
          "output_type": "execute_result"
        }
      ],
      "source": [
        "person[0];"
      ]
    },
    {
      "cell_type": "markdown",
      "metadata": {},
      "source": [
        "You can update the values in a tuple, but only with values of the correct type for each position.\n"
      ]
    },
    {
      "cell_type": "code",
      "execution_count": 4,
      "metadata": {},
      "outputs": [
        {
          "data": {
            "text/plain": [
              "[ \u001b[32m\"Alice\"\u001b[39m, \u001b[33m35\u001b[39m ]"
            ]
          },
          "execution_count": 4,
          "metadata": {},
          "output_type": "execute_result"
        }
      ],
      "source": [
        "person[1] = 35;\n",
        "\n",
        "person;"
      ]
    },
    {
      "cell_type": "markdown",
      "metadata": {
        "tags": [
          "pagination"
        ]
      },
      "source": [
        "<div style=\"display: flex; justify-content: space-between;\">\n<a href=\"04 Arrays.ipynb\" style=\"float: left;\">← Arrays</a><a href=\"06 Sets.ipynb\" style=\"float: right;\">Sets →</a>\n</div>"
      ]
    }
  ],
  "metadata": {
    "kernelspec": {
      "display_name": "Deno",
      "language": "typescript",
      "name": "deno"
    },
    "language_info": {
      "codemirror_mode": "typescript",
      "file_extension": ".ts",
      "mimetype": "text/x.typescript",
      "name": "typescript",
      "nbconvert_exporter": "script",
      "pygments_lexer": "typescript",
      "version": "5.6.2"
    }
  },
  "nbformat": 4,
  "nbformat_minor": 2
}