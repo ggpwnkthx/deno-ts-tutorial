{
  "cells": [
    {
      "cell_type": "markdown",
      "metadata": {},
      "source": [
        "# Encoding\n",
        "\n",
        "In TypeScript, primitive types are the foundation for building and managing data. To truly understand how TypeScript works with data, it's essential to explore **encoding** and how it relate to variables.\n",
        "\n",
        "All data is a sequences of bits (`0`s and `1`s). The **type** of data determines how these bits should be interpreted."
      ]
    },
    {
      "cell_type": "markdown",
      "metadata": {},
      "source": [
        "## `boolean`\n",
        "\n",
        "- Represents **true** or **false** values.\n",
        "- Stored as a single bit (`0` for `false`, `1` for `true`), though padded to 8 bits for byte alignment.\n",
        "\n",
        "`true` → `00000001`"
      ]
    },
    {
      "cell_type": "markdown",
      "metadata": {},
      "source": [
        "## `string`\n",
        "\n",
        "- Represents sequences of characters encoded using **UTF-16**.\n",
        "- Each character in the Basic Multilingual Plane (BMP) typically requires **2 bytes** (16 bits).\n",
        "- Characters outside the BMP (e.g., emojis or rare symbols) are represented using **surrogate pairs** (4 bytes or 32 bits).\n",
        "\n",
        "The string `'Hello'` is encoded as:\n",
        "```plaintext\n",
        "  H → `01001000 00000000`\n",
        "  e → `01100101 00000000`\n",
        "  l → `01101100 00000000`\n",
        "  l → `01101100 00000000`\n",
        "  o → `01101111 00000000`\n",
        "```\n",
        "\n",
        "For a characters outside the BMP, like an emoji:\n",
        "\n",
        "  😊 → `11011000 00001101 11011111 00111100`\n"
      ]
    },
    {
      "cell_type": "markdown",
      "metadata": {},
      "source": [
        "## `number`\n",
        "\n",
        "- Represents **numeric values**, including integers and floating-point numbers.\n",
        "- Encoded using IEEE 754 format (64 bits):\n",
        "  - **1 bit** for the sign (positive/negative).\n",
        "  - **11 bits** for the exponent.\n",
        "  - **52 bits** for the mantissa.\n",
        "\n",
        "`123` → `0 10000000101 1110110000000000000000000000000000000000000000000000`"
      ]
    },
    {
      "cell_type": "markdown",
      "metadata": {},
      "source": [
        "## `bigint`\n",
        "\n",
        "- `bigint` allows for integers of **arbitrary precision**, unlike `number`, which uses fixed 64-bit IEEE 754 encoding.\n",
        "- A `bigint` value can store extremely large integers, but it comes with performance trade-offs due to its complexity.\n",
        "\n",
        "### Memory Representation\n",
        "Internally, TypeScript engines store `bigint` values in a more complex structure that involves:\n",
        "- **Metadata**:\n",
        "  - A tag indicating the value type (`bigint`).\n",
        "  - The sign of the number (positive or negative).\n",
        "  - A reference to the chunks of memory holding the actual number.\n",
        "- **Chunks of Memory**:\n",
        "  - The number is split into manageable chunks (e.g., 64-bit words), and the engine operates on these chunks to perform arithmetic.\n",
        "\n",
        "### Example: `987654321987654321n`\n",
        "1. Metadata contains:\n",
        "    - Type tag: Indicates it’s a `bigint`.\n",
        "    - Sign: `0` (positive).\n",
        "    - Reference to the memory storing the value.\n",
        "2. The value is stored across multiple chunks in memory:\n",
        "    ```plaintext\n",
        "      Chunk 1: 00001110 10001001 10101010 (part of the number)\n",
        "      Chunk 2: 11010110 11100101 00101101 (continuation)\n",
        "      ...\n",
        "    ```\n",
        "\n",
        "### Notes\n",
        "- `bigint` is abstracted in TypeScript, so developers don’t interact with these details.\n",
        "- Performance can be slower compared to number for operations, especially with very large values."
      ]
    },
    {
      "cell_type": "markdown",
      "metadata": {
        "tags": [
          "pagination"
        ]
      },
      "source": [
        "<div style=\"display: flex; justify-content: space-between;\">\n<a href=\"01 Memory.ipynb\" style=\"float: left;\">← Memory</a><a href=\"03 Objects.ipynb\" style=\"float: right;\">Objects →</a>\n</div>"
      ]
    }
  ],
  "metadata": {
    "kernelspec": {
      "display_name": "Deno",
      "language": "typescript",
      "name": "deno"
    },
    "language_info": {
      "codemirror_mode": "typescript",
      "file_extension": ".ts",
      "mimetype": "text/x.typescript",
      "name": "typescript",
      "nbconvert_exporter": "script",
      "pygments_lexer": "typescript",
      "version": "5.6.2"
    }
  },
  "nbformat": 4,
  "nbformat_minor": 2
}