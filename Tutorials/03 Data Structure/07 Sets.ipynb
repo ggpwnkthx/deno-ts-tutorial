{
  "cells": [
    {
      "cell_type": "markdown",
      "metadata": {},
      "source": [
        "# Sets\n",
        "\n",
        "A `Set` is a data structure that allows you to store unique values, which can be of any type. Unlike arrays, sets automatically prevent duplicates, making them ideal for scenarios where you want to store a collection of unique items.\n",
        "\n",
        "For example, if you want to store a list of unique user IDs or track cities visited, a Set ensures no duplicates and does not maintain a specific order.\n"
      ]
    },
    {
      "cell_type": "markdown",
      "metadata": {},
      "source": [
        "## Use Cases\n",
        "\n",
        "Sets are beneficial when you need a collection of unique items, such as:\n",
        "- Tracking unique visitors to a website\n",
        "- Storing unique tags in a tagging system\n",
        "- Maintaining a list of unique identifiers\n",
        "\n",
        "Using Sets can lead to more efficient code by avoiding duplicate checks manually and is especially useful in situations involving large datasets where duplicate handling is essential."
      ]
    },
    {
      "cell_type": "markdown",
      "metadata": {},
      "source": [
        "## Instantiation\n",
        "\n",
        "In TypeScript, you can create a Set using the `Set` class. "
      ]
    },
    {
      "cell_type": "code",
      "execution_count": 1,
      "metadata": {},
      "outputs": [
        {
          "data": {
            "text/plain": [
              "Set(0) {}"
            ]
          },
          "execution_count": 1,
          "metadata": {},
          "output_type": "execute_result"
        }
      ],
      "source": [
        "const uniqueNumbers = new Set<number>();\n",
        "uniqueNumbers;"
      ]
    },
    {
      "cell_type": "markdown",
      "metadata": {},
      "source": [
        "You can add values by using the `.add()` method with the value of the item you want added as an argument."
      ]
    },
    {
      "cell_type": "code",
      "execution_count": 2,
      "metadata": {},
      "outputs": [
        {
          "data": {
            "text/plain": [
              "Set(4) { \u001b[33m1\u001b[39m, \u001b[33m2\u001b[39m, \u001b[33m3\u001b[39m, \u001b[33m4\u001b[39m }"
            ]
          },
          "execution_count": 2,
          "metadata": {},
          "output_type": "execute_result"
        }
      ],
      "source": [
        "uniqueNumbers.add(1);\n",
        "uniqueNumbers.add(2);\n",
        "uniqueNumbers.add(3);\n",
        "uniqueNumbers.add(4);\n",
        "uniqueNumbers;"
      ]
    },
    {
      "cell_type": "markdown",
      "metadata": {},
      "source": [
        "You can remove values by using the `.delete()` method with the value of the item you want removed as an argument.\n"
      ]
    },
    {
      "cell_type": "code",
      "execution_count": 3,
      "metadata": {},
      "outputs": [
        {
          "data": {
            "text/plain": [
              "Set(3) { \u001b[33m1\u001b[39m, \u001b[33m3\u001b[39m, \u001b[33m4\u001b[39m }"
            ]
          },
          "execution_count": 3,
          "metadata": {},
          "output_type": "execute_result"
        }
      ],
      "source": [
        "uniqueNumbers.delete(2);\n",
        "uniqueNumbers;"
      ]
    },
    {
      "cell_type": "markdown",
      "metadata": {},
      "source": [
        "Use `.has()` to check if a `Set` contains a specific element. This method returns `true` if the item is present and `false` otherwise.\n"
      ]
    },
    {
      "cell_type": "code",
      "execution_count": 4,
      "metadata": {},
      "outputs": [
        {
          "data": {
            "text/plain": [
              "\u001b[33mtrue\u001b[39m"
            ]
          },
          "execution_count": 4,
          "metadata": {},
          "output_type": "execute_result"
        }
      ],
      "source": [
        "uniqueNumbers.has(3);"
      ]
    },
    {
      "cell_type": "markdown",
      "metadata": {},
      "source": [
        "Use `.clear()` to remove all elements from a `Set`, making it empty."
      ]
    },
    {
      "cell_type": "code",
      "execution_count": 5,
      "metadata": {},
      "outputs": [
        {
          "data": {
            "text/plain": [
              "Set(0) {}"
            ]
          },
          "execution_count": 5,
          "metadata": {},
          "output_type": "execute_result"
        }
      ],
      "source": [
        "uniqueNumbers.clear();\n",
        "uniqueNumbers;"
      ]
    },
    {
      "cell_type": "markdown",
      "metadata": {
        "tags": [
          "pagination"
        ]
      },
      "source": [
        "<div style=\"display: flex; justify-content: space-between;\">\n<a href=\"06 Tuples.ipynb\" style=\"float: left;\">← Tuples</a><a href=\"../04 Modules/00 Overview.ipynb\" style=\"float: right;\">Overview →</a>\n</div>"
      ]
    }
  ],
  "metadata": {
    "kernelspec": {
      "display_name": "Deno",
      "language": "typescript",
      "name": "deno"
    },
    "language_info": {
      "codemirror_mode": "typescript",
      "file_extension": ".ts",
      "mimetype": "text/x.typescript",
      "name": "typescript",
      "nbconvert_exporter": "script",
      "pygments_lexer": "typescript",
      "version": "5.6.2"
    }
  },
  "nbformat": 4,
  "nbformat_minor": 2
}