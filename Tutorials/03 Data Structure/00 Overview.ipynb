{
  "cells": [
    {
      "cell_type": "markdown",
      "metadata": {},
      "source": [
        "# Data Structure\n",
        "\n",
        "In software development, data structures serve as the foundation for efficiently storing, organizing, and manipulating information. Whether dealing with a single value, a collection of items, or a complex graph, a solid understanding of data structures is critical for building effective applications. With its built-in static type-checking, TypeScript allows us to enforce rules on data structures, ensuring consistency and reducing runtime errors. This integration significantly reduces the cognitive load on developers, enabling them to focus more on solving problems rather than worrying about unforeseen bugs.\n",
        "\n",
        "## Topics\n",
        "\n",
        "- [Memory](01%20Memory.ipynb)\n",
        "- [Encoding](02%20Encoding.ipynb)\n",
        "- [Objects](03%20Objects.ipynb)\n",
        "- [Classes](04%20Classes.ipynb)\n",
        "- [Generics](05%20Generics.ipynb)\n",
        "- [Arrays](06%20Arrays.ipynb)\n",
        "- [Tuples](07%20Tuples.ipynb)\n",
        "- [Sets](08%20Sets.ipynb)"
      ]
    },
    {
      "cell_type": "markdown",
      "metadata": {
        "tags": [
          "pagination"
        ]
      },
      "source": [
        "<div style=\"display: flex; justify-content: space-between;\">\n<a href=\"../02 Logic and Flow/06 Error Handling.ipynb\" style=\"float: left;\">← Error Handling</a><a href=\"01 Memory.ipynb\" style=\"float: right;\">Memory →</a>\n</div>"
      ]
    }
  ],
  "metadata": {
    "kernelspec": {
      "display_name": "Deno",
      "language": "typescript",
      "name": "deno"
    },
    "language_info": {
      "name": "typescript"
    }
  },
  "nbformat": 4,
  "nbformat_minor": 2
}