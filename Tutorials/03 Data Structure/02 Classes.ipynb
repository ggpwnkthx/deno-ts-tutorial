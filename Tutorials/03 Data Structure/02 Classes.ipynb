{
  "cells": [
    {
      "cell_type": "markdown",
      "metadata": {},
      "source": [
        "# Classes\n",
        "Classes provide a blueprint for creating objects, grouping related data (properties) and behaviors (methods) into reusable structures. They make it easier to manage and scale code effectively.\n",
        "## Defining a Class\n",
        "You can define a class using the `class` keyword. Here's a simple example of a `BankAccount` class:\n"
      ]
    },
    {
      "cell_type": "code",
      "execution_count": 1,
      "metadata": {},
      "outputs": [],
      "source": [
        "class BankAccount {\n",
        "  accountHolder: string;\n",
        "  balance: number;\n",
        "\n",
        "  // The constructor is a special method used to initialize new instances of a class.\n",
        "  // It is called automatically when creating a new object using the `new` keyword.\n",
        "  constructor(accountHolder: string, initialDeposit: number) {\n",
        "    this.accountHolder = accountHolder;\n",
        "    this.balance = initialDeposit;\n",
        "  }\n",
        "\n",
        "  deposit(amount: number): void {\n",
        "    this.balance += amount;\n",
        "  }\n",
        "\n",
        "  withdraw(amount: number): void {\n",
        "    if (amount > this.balance) {\n",
        "      throw new Error(\"Insufficient funds\");\n",
        "    }\n",
        "    this.balance -= amount;\n",
        "  }\n",
        "\n",
        "  getBalance(): number {\n",
        "    return this.balance;\n",
        "  }\n",
        "}"
      ]
    },
    {
      "cell_type": "markdown",
      "metadata": {},
      "source": [
        "## Creating an Object\n",
        "You can create an object (an instance) of a class using the `new` operator:\n"
      ]
    },
    {
      "cell_type": "code",
      "execution_count": null,
      "metadata": {},
      "outputs": [
        {
          "name": "stdout",
          "output_type": "stream",
          "text": [
            "600\n"
          ]
        }
      ],
      "source": [
        "const aliceAccount = new BankAccount(\"Alice\", 500);\n",
        "aliceAccount.deposit(100);\n",
        "console.log(aliceAccount.getBalance());"
      ]
    },
    {
      "cell_type": "markdown",
      "metadata": {},
      "source": [
        "## Static Members\n",
        "Use the `static` keyword to define members that belong to the class itself, rather than any instance:\n"
      ]
    },
    {
      "cell_type": "code",
      "execution_count": 3,
      "metadata": {},
      "outputs": [
        {
          "data": {
            "text/plain": [
              "\u001b[33m30\u001b[39m"
            ]
          },
          "execution_count": 3,
          "metadata": {},
          "output_type": "execute_result"
        }
      ],
      "source": [
        "class Calculator {\n",
        "  static add(a: number, b: number): number {\n",
        "    return a + b;\n",
        "  }\n",
        "}\n",
        "\n",
        "Calculator.add(10, 20);"
      ]
    },
    {
      "cell_type": "markdown",
      "metadata": {},
      "source": [
        "## Extending and Inheritance\n",
        "Classes can extend other classes to inherit properties and methods. Use the `extends` keyword to create a subclass.\n",
        "### Understanding `constructor` and `super`\n",
        "- The `constructor` method in a subclass is used to initialize the new instance, just like in the parent class.\n",
        "- Use `super()` to call the constructor of the parent class. This ensures the parent class's properties and methods are properly initialized.\n"
      ]
    },
    {
      "cell_type": "code",
      "execution_count": 4,
      "metadata": {},
      "outputs": [
        {
          "data": {
            "text/plain": [
              "\u001b[33m1050\u001b[39m"
            ]
          },
          "execution_count": 4,
          "metadata": {},
          "output_type": "execute_result"
        }
      ],
      "source": [
        "class SavingsAccount extends BankAccount {\n",
        "  interestRate: number;\n",
        "\n",
        "  constructor(accountHolder: string, initialDeposit: number, interestRate: number) {\n",
        "    // The `super` keyword calls the constructor of the parent class (BankAccount) to initialize shared properties.\n",
        "    super(accountHolder, initialDeposit);\n",
        "    this.interestRate = interestRate;\n",
        "  }\n",
        "\n",
        "  applyInterest(): void {\n",
        "    this.balance += this.balance * this.interestRate;\n",
        "  }\n",
        "}\n",
        "\n",
        "const bobAccount = new SavingsAccount(\"Bob\", 1000, 0.05);\n",
        "bobAccount.applyInterest();\n",
        "bobAccount.getBalance();"
      ]
    },
    {
      "cell_type": "markdown",
      "metadata": {},
      "source": [
        "## Access Modifiers\n",
        "TypeScript provides keywords to scope access to class members:\n",
        "\n",
        "- `public`: Accessible from anywhere (default).\n",
        "- `private`: Accessible only within the class.\n",
        "- `protected`: Accessible within the class and its subclasses.\n",
        "\n",
        "Here's an example:\n"
      ]
    },
    {
      "cell_type": "code",
      "execution_count": 5,
      "metadata": {},
      "outputs": [],
      "source": [
        "class Employee {\n",
        "  public name: string;\n",
        "  protected department: string;\n",
        "  private salary: number;\n",
        "  private account: SavingsAccount;\n",
        "\n",
        "  constructor(name: string, department: string, salary: number) {\n",
        "    this.name = name;\n",
        "    this.department = department;\n",
        "    this.salary = salary;\n",
        "    this.account = new SavingsAccount(this.name, 0, 0.05);\n",
        "  }\n",
        "\n",
        "  getSalary(): number {\n",
        "    return this.salary;\n",
        "  }\n",
        "\n",
        "  protected sendPay() {\n",
        "    this.account.deposit(this.salary);\n",
        "  }\n",
        "}"
      ]
    },
    {
      "cell_type": "markdown",
      "metadata": {
        "tags": [
          "pagination"
        ]
      },
      "source": [
        "<div style=\"display: flex; justify-content: space-between;\">\n<a href=\"01 Objects.ipynb\" style=\"float: left;\">← Objects</a><a href=\"03 Generics.ipynb\" style=\"float: right;\">Generics →</a>\n</div>"
      ]
    }
  ],
  "metadata": {
    "kernelspec": {
      "display_name": "Deno",
      "language": "typescript",
      "name": "deno"
    },
    "language_info": {
      "codemirror_mode": "typescript",
      "file_extension": ".ts",
      "mimetype": "text/x.typescript",
      "name": "typescript",
      "nbconvert_exporter": "script",
      "pygments_lexer": "typescript",
      "version": "5.6.2"
    }
  },
  "nbformat": 4,
  "nbformat_minor": 2
}