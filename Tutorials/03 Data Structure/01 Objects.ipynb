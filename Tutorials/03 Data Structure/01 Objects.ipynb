{
  "cells": [
    {
      "cell_type": "markdown",
      "metadata": {},
      "source": [
        "# Objects\n",
        "\n",
        "Objects group related data and actions into a structured format of key-value pairs. They are versatile and fundamental to programming in TypeScript. Use `type` to define reusable object shapes, ensuring consistency and catching errors early:\n"
      ]
    },
    {
      "cell_type": "code",
      "execution_count": 1,
      "metadata": {},
      "outputs": [
        {
          "data": {
            "text/plain": [
              "{ title: \u001b[32m\"1984\"\u001b[39m, author: \u001b[32m\"George Orwell\"\u001b[39m, numberOfPages: \u001b[33m328\u001b[39m }"
            ]
          },
          "execution_count": 1,
          "metadata": {},
          "output_type": "execute_result"
        }
      ],
      "source": [
        "type Book = {\n",
        "  title: string;\n",
        "  author: string;\n",
        "  numberOfPages: number;\n",
        "};\n",
        "\n",
        "const myBook: Book = {\n",
        "  title: \"1984\",\n",
        "  author: \"George Orwell\",\n",
        "  numberOfPages: 328\n",
        "};\n",
        "myBook;"
      ]
    },
    {
      "cell_type": "markdown",
      "metadata": {},
      "source": [
        "## Properties\n",
        "\n",
        "Use dot (`.`) or bracket (`[]`) notation to access or modify properties:\n"
      ]
    },
    {
      "cell_type": "code",
      "execution_count": 2,
      "metadata": {},
      "outputs": [
        {
          "data": {
            "text/plain": [
              "{ title: \u001b[32m\"1984\"\u001b[39m, numberOfPages: \u001b[33m350\u001b[39m }"
            ]
          },
          "execution_count": 2,
          "metadata": {},
          "output_type": "execute_result"
        }
      ],
      "source": [
        "myBook[\"numberOfPages\"] = 350; // Update property\n",
        "delete myBook.author;          // Remove property\n",
        "myBook.title;                  // Access property\n",
        "myBook;"
      ]
    },
    {
      "cell_type": "markdown",
      "metadata": {},
      "source": [
        "## Methods\n",
        "\n",
        "Functions that are properties of an objects are call methods. They can perform actions or calculations related to the object itself by using the `this` keyword.\n"
      ]
    },
    {
      "cell_type": "code",
      "execution_count": 3,
      "metadata": {},
      "outputs": [
        {
          "data": {
            "text/plain": [
              "\u001b[32m\"1984 by George Orwell has 328 pages.\"\u001b[39m"
            ]
          },
          "execution_count": 3,
          "metadata": {},
          "output_type": "execute_result"
        }
      ],
      "source": [
        "const bookWithMethods = {\n",
        "  title: \"1984\",\n",
        "  author: \"George Orwell\",\n",
        "  numberOfPages: 328,\n",
        "  getSummary() {\n",
        "    return `${this.title} by ${this.author} has ${this.numberOfPages} pages.`;\n",
        "  }\n",
        "};\n",
        "bookWithMethods.getSummary();"
      ]
    },
    {
      "cell_type": "markdown",
      "metadata": {},
      "source": [
        "## Operators\n",
        "\n",
        "### Access\n",
        "\n",
        "| Operator | Description                     | Example                 | Evaluates As |\n",
        "|----------|---------------------------------|-------------------------|--------------|\n",
        "| `.`      | Returns value of valid property | `myBook.title`          | `\"1984\"`     |\n",
        "| `?.`     | Short circuit accessor          | `otherBook?.title`      | `undefined`  |\n",
        "\n",
        "### Calls\n",
        "\n",
        "| Operator | Description                     | Example                 | Evaluates As |\n",
        "|----------|---------------------------------|-------------------------|--------------|\n",
        "| `[]`     | Computed property accessor      | `myBook.title`          | `\"1984\"`     |\n",
        "\n",
        "### Prefix\n",
        "\n",
        "| Operator     | Description                 | Example                 | Evaluates As |\n",
        "|--------------|-----------------------------|-------------------------|--------------|\n",
        "| `delete`     | Removes a property          | `delete myBook.title`   |              |\n",
        "\n",
        "### Relational\n",
        "\n",
        "| Operator     | Description                | Example                  | Evaluates As |\n",
        "|--------------|----------------------------|--------------------------|--------------|\n",
        "| `in`         | Checks object for property | `'title' in myBook`      | `true`       |\n",
        "| `instanceof` | Checks object type         | `myBook instanceof Book` | `true`       |\n",
        "\n",
        "## Precedence\n",
        "\n",
        "<table>\n",
        "  <thead>\n",
        "    <tr>\n",
        "      <th>Precedence</th>\n",
        "      <th>Operators</th>\n",
        "      <th>Associativity</th>\n",
        "    </tr>\n",
        "  </thead>\n",
        "  <tbody>\n",
        "    <tr>\n",
        "      <td>1</td>\n",
        "      <td><code>()</code> (Grouping)</td>\n",
        "      <td>N/A</td>\n",
        "    </tr>\n",
        "    <tr>\n",
        "      <td>2</td>\n",
        "      <td><code>x.y</code> <code>x?.y</code> (Access)</td>\n",
        "      <td>Left-to-right/td>\n",
        "    </tr>\n",
        "    <tr>\n",
        "      <td>3</td>\n",
        "      <td><code>x[y]</code> <code>x(y)</code> (Calls)</td>\n",
        "      <td>N/A</td>\n",
        "    </tr>\n",
        "    <tr>\n",
        "      <td>4</td>\n",
        "      <td><code>x++</code> <code>x--</code> (Postfix)</td>\n",
        "      <td>N/A</td>\n",
        "    </tr>\n",
        "    <tr>\n",
        "      <td>5</td>\n",
        "      <td><code>++x</code> <code>--x</code> <code>!x</code> <code>delete x.y</code> (Prefix)</td>\n",
        "      <td>N/A</td>\n",
        "    </tr>\n",
        "    <tr>\n",
        "      <td>6</td>\n",
        "      <td><code>**</code> (Exponentiation)</td>\n",
        "      <td>Right-to-left</td>\n",
        "    </tr>\n",
        "    <tr>\n",
        "      <td>7</td>\n",
        "      <td><code>*</code> <code>/</code> <code>%</code> (Multiplicative)</td>\n",
        "      <td>Left-to-right</td>\n",
        "    </tr>\n",
        "    <tr>\n",
        "      <td>8</td>\n",
        "      <td><code>+</code> <code>-</code> (Additive)</td>\n",
        "      <td>Left-to-right</td>\n",
        "    </tr>\n",
        "    <tr>\n",
        "      <td>9</td>\n",
        "      <td><code><</code> <code><=</code> <code>></code> <code>>=</code> <code>in</code> <code>instanceof</code> (Relational)</td>\n",
        "      <td>Left-to-right</td>\n",
        "    </tr>\n",
        "    <tr>\n",
        "      <td>10</td>\n",
        "      <td><code>==</code> <code>!=</code> <code>===</code> <code>!==</code> (Equality)</td>\n",
        "      <td>Left-to-right</td>\n",
        "    </tr>\n",
        "    <tr>\n",
        "      <td>11</td>\n",
        "      <td><code>&&</code> <code>||</code> <code>??</code> (Logical)</td>\n",
        "      <td>Right-to-left</td>\n",
        "    </tr>\n",
        "    <tr>\n",
        "      <td>12</td>\n",
        "      <td><code>=</code> (Assignments)†</td>\n",
        "      <td>Right-to-left</td>\n",
        "    </tr>\n",
        "  </tbody>\n",
        "</table>\n",
        "\n",
        "† *Note: operative precedence still applies (`x = y`, `x **= y`, `x +=y`, ...etc).*\n"
      ]
    },
    {
      "cell_type": "markdown",
      "metadata": {
        "tags": [
          "pagination"
        ]
      },
      "source": [
        "<div style=\"display: flex; justify-content: space-between;\">\n<a href=\"00 Overview.ipynb\" style=\"float: left;\">← Overview</a><a href=\"02 Classes.ipynb\" style=\"float: right;\">Classes →</a>\n</div>"
      ]
    }
  ],
  "metadata": {
    "kernelspec": {
      "display_name": "Deno",
      "language": "typescript",
      "name": "deno"
    },
    "language_info": {
      "codemirror_mode": "typescript",
      "file_extension": ".ts",
      "mimetype": "text/x.typescript",
      "name": "typescript",
      "nbconvert_exporter": "script",
      "pygments_lexer": "typescript",
      "version": "5.6.2"
    }
  },
  "nbformat": 4,
  "nbformat_minor": 2
}