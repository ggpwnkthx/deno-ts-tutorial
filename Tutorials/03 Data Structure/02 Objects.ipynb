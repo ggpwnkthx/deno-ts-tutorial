{
  "cells": [
    {
      "cell_type": "markdown",
      "metadata": {},
      "source": [
        "# Objects\n",
        "\n",
        "Objects are a type of tool that allows you to group related data and behaviors into a single, structured unit. Objects are made up of **key-value pairs**, where the keys are descriptive names and the values are data or functions associated with those keys.\n",
        "\n",
        "## Instantiation\n",
        "\n",
        "For example, consider representing a book. You can use an object to group all relevant details like title, author, and page count into a single entity:\n"
      ]
    },
    {
      "cell_type": "code",
      "execution_count": 1,
      "metadata": {},
      "outputs": [
        {
          "data": {
            "text/plain": [
              "{ title: \u001b[32m\"1984\"\u001b[39m, author: \u001b[32m\"George Orwell\"\u001b[39m, numberOfPages: \u001b[33m328\u001b[39m }"
            ]
          },
          "execution_count": 1,
          "metadata": {},
          "output_type": "execute_result"
        }
      ],
      "source": [
        "const book = {\n",
        "  title: \"1984\",\n",
        "  author: \"George Orwell\",\n",
        "  numberOfPages: 328\n",
        "};\n",
        "book;"
      ]
    },
    {
      "cell_type": "markdown",
      "metadata": {},
      "source": [
        "\n",
        "In this example, `book` is an object with three keys (`title`, `author`, and `numberOfPages`) and inferred data types for value.\n",
        "\n",
        "## Defining Shapes with `type`\n",
        "\n",
        "We can explicitly define a shape that is reusable using the `type` keyword. This ensures that objects you create conform to the specified structure and helps TypeScript catch errors before run time.\n"
      ]
    },
    {
      "cell_type": "code",
      "execution_count": 2,
      "metadata": {},
      "outputs": [
        {
          "data": {
            "text/plain": [
              "{ title: \u001b[32m\"1984\"\u001b[39m, author: \u001b[32m\"George Orwell\"\u001b[39m, numberOfPages: \u001b[33m328\u001b[39m }"
            ]
          },
          "execution_count": 2,
          "metadata": {},
          "output_type": "execute_result"
        }
      ],
      "source": [
        "type Book = {\n",
        "  title: string;\n",
        "  author: string;\n",
        "  numberOfPages: number;\n",
        "};\n",
        "\n",
        "const myBook: Book = {\n",
        "  title: \"1984\",\n",
        "  author: \"George Orwell\",\n",
        "  numberOfPages: 328\n",
        "};\n",
        "\n",
        "myBook;"
      ]
    },
    {
      "cell_type": "markdown",
      "metadata": {},
      "source": [
        "## Properties\n",
        "\n",
        "We use the keys to access the value of an object's **properties** using dot `.` notation or bracket `[]` notation."
      ]
    },
    {
      "cell_type": "code",
      "execution_count": 3,
      "metadata": {},
      "outputs": [
        {
          "data": {
            "text/plain": [
              "\u001b[32m\"1984\"\u001b[39m"
            ]
          },
          "execution_count": 3,
          "metadata": {},
          "output_type": "execute_result"
        }
      ],
      "source": [
        "myBook.title;"
      ]
    },
    {
      "cell_type": "code",
      "execution_count": 4,
      "metadata": {},
      "outputs": [
        {
          "data": {
            "text/plain": [
              "\u001b[33m328\u001b[39m"
            ]
          },
          "execution_count": 4,
          "metadata": {},
          "output_type": "execute_result"
        }
      ],
      "source": [
        "myBook[\"numberOfPages\"];"
      ]
    },
    {
      "cell_type": "markdown",
      "metadata": {},
      "source": [
        "To update a property, assign a new value to it using the same notation."
      ]
    },
    {
      "cell_type": "code",
      "execution_count": 5,
      "metadata": {},
      "outputs": [
        {
          "data": {
            "text/plain": [
              "{ title: \u001b[32m\"1984\"\u001b[39m, author: \u001b[32m\"George Orwell\"\u001b[39m, numberOfPages: \u001b[33m350\u001b[39m }"
            ]
          },
          "execution_count": 5,
          "metadata": {},
          "output_type": "execute_result"
        }
      ],
      "source": [
        "myBook.numberOfPages = 350;\n",
        "\n",
        "myBook;"
      ]
    },
    {
      "cell_type": "markdown",
      "metadata": {},
      "source": [
        "You can add new properties to an object or remove existing ones. Adding new properties dynamically can be useful, but be cautious as it may lead to unexpected results if not properly managed.\n"
      ]
    },
    {
      "cell_type": "code",
      "execution_count": 6,
      "metadata": {},
      "outputs": [
        {
          "data": {
            "text/plain": [
              "{ title: \u001b[32m\"1984\"\u001b[39m, author: \u001b[32m\"George Orwell\"\u001b[39m, genre: \u001b[32m\"Dystopian\"\u001b[39m }"
            ]
          },
          "execution_count": 6,
          "metadata": {},
          "output_type": "execute_result"
        }
      ],
      "source": [
        "// Adding a new property\n",
        "myBook.genre = \"Dystopian\";\n",
        "\n",
        "// Removing a property\n",
        "delete myBook.numberOfPages;\n",
        "\n",
        "myBook;"
      ]
    },
    {
      "cell_type": "markdown",
      "metadata": {},
      "source": [
        "## Methods\n",
        "\n",
        "An object can also contain functions as its properties. These functions are called **methods** and allow the object to perform actions or calculations related to its data. Within a method, you can use the `this` keyword to refer to the object itself."
      ]
    },
    {
      "cell_type": "code",
      "execution_count": 7,
      "metadata": {},
      "outputs": [
        {
          "data": {
            "text/plain": [
              "\u001b[32m\"1984 by George Orwell has 328 pages.\"\u001b[39m"
            ]
          },
          "execution_count": 7,
          "metadata": {},
          "output_type": "execute_result"
        }
      ],
      "source": [
        "type BookWithMethod = {\n",
        "  title: string;\n",
        "  author: string;\n",
        "  numberOfPages: number;\n",
        "  getSummary: () => string;\n",
        "};\n",
        "\n",
        "const detailedBook: BookWithMethod = {\n",
        "  title: \"1984\",\n",
        "  author: \"George Orwell\",\n",
        "  numberOfPages: 328,\n",
        "  getSummary: function () {\n",
        "    return `${this.title} by ${this.author} has ${this.numberOfPages} pages.`;\n",
        "  }\n",
        "};\n",
        "\n",
        "detailedBook.getSummary();"
      ]
    },
    {
      "cell_type": "markdown",
      "metadata": {},
      "source": [
        "## Operators\n",
        "\n",
        "<table>\n",
        "  <tr>\n",
        "    <th>Operator</th>\n",
        "    <th>Description</th>\n",
        "    <th>Example</th>\n",
        "    <th>Evaluates As</th>\n",
        "  </tr>\n",
        "  <tr>\n",
        "    <td><code>instanceof</code></td>\n",
        "    <td>Checks object type</td>\n",
        "    <td><code>myBook instanceof Book</code></td>\n",
        "    <td><code>true</code></td>\n",
        "  </tr>\n",
        "</table>"
      ]
    },
    {
      "cell_type": "markdown",
      "metadata": {
        "tags": [
          "pagination"
        ]
      },
      "source": [
        "<div style=\"display: flex; justify-content: space-between;\">\n<a href=\"01 Encoding.ipynb\" style=\"float: left;\">← Encoding</a><a href=\"03 Classes.ipynb\" style=\"float: right;\">Classes →</a>\n</div>"
      ]
    }
  ],
  "metadata": {
    "kernelspec": {
      "display_name": "Deno",
      "language": "typescript",
      "name": "deno"
    },
    "language_info": {
      "codemirror_mode": "typescript",
      "file_extension": ".ts",
      "mimetype": "text/x.typescript",
      "name": "typescript",
      "nbconvert_exporter": "script",
      "pygments_lexer": "typescript",
      "version": "5.6.2"
    }
  },
  "nbformat": 4,
  "nbformat_minor": 2
}