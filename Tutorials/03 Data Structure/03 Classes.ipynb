{
  "cells": [
    {
      "cell_type": "markdown",
      "metadata": {},
      "source": [
        "# Classes\n",
        "\n",
        "In the previous lesson, we learned about **objects**, which allow us to group related data and actions into key-value pairs. While objects are great for organizing data and methods, they have limitations when it comes to creating multiple similar entities with shared structure and behavior.\n",
        "\n",
        "For example, imagine you're creating a program to manage bank accounts. Using objects, you could create individual account objects:\n",
        "\n",
        "```typescript\n",
        "const account1 = { accountHolder: \"Alice\", balance: 500 }; \n",
        "const account2 = { accountHolder: \"Bob\", balance: 1000 };\n",
        "```\n",
        "\n",
        "But what if you want to ensure all accounts have consistent structure and behavior, like methods for depositing or withdrawing money? Instead of duplicating logic across objects, we can use **classes**.\n",
        "\n",
        "A **class** is like a blueprint for creating objects. It defines the structure (properties) and behavior (methods) that objects created from the class will have. You can think of a class as a factory that produces objects with the same shape and functionality.\n",
        "\n",
        "## Defining\n",
        "\n",
        "To define a class in TypeScript, use the `class` keyword. Here’s an example of a `BankAccount` class that includes properties, a constructor, and methods:"
      ]
    },
    {
      "cell_type": "code",
      "execution_count": 1,
      "metadata": {},
      "outputs": [],
      "source": [
        "class BankAccount {\n",
        "  /**\n",
        "   * The name of the account holder.\n",
        "   */\n",
        "  accountHolder: string;\n",
        "\n",
        "  /**\n",
        "   * The current balance in the account.\n",
        "   */\n",
        "  balance: number;\n",
        "\n",
        "  /**\n",
        "   * Creates a new BankAccount.\n",
        "   * @param accountHolder - The name of the account holder.\n",
        "   * @param initialDeposit - The initial deposit amount.\n",
        "   */\n",
        "  constructor(accountHolder: string, initialDeposit: number) {\n",
        "    this.accountHolder = accountHolder;\n",
        "    this.balance = initialDeposit;\n",
        "  }\n",
        "\n",
        "  /**\n",
        "   * Adds money to the account balance.\n",
        "   * @param amount - The amount to deposit.\n",
        "   */\n",
        "  deposit(amount: number): void {\n",
        "    if (amount <= 0) {\n",
        "      throw Error(\"Deposit amount must be positive.\");\n",
        "    }\n",
        "    this.balance += amount;\n",
        "  }\n",
        "\n",
        "  /**\n",
        "   * Withdraws money from the account balance.\n",
        "   * @param amount - The amount to withdraw.\n",
        "   */\n",
        "  withdraw(amount: number): void {\n",
        "    if (amount > this.balance) {\n",
        "      throw Error (\"Insufficient funds.\");\n",
        "    }\n",
        "    this.balance -= amount;\n",
        "  }\n",
        "\n",
        "  /**\n",
        "   * Retrieves the current account balance.\n",
        "   * @returns The current balance.\n",
        "   */\n",
        "  getBalance(): number {\n",
        "    return this.balance;\n",
        "  }\n",
        "}"
      ]
    },
    {
      "cell_type": "markdown",
      "metadata": {},
      "source": [
        "## Instantiation\n",
        "\n",
        "To create an object from a class, use the `new` keyword. For example, let's create a `BankAccount` for Alice:"
      ]
    },
    {
      "cell_type": "code",
      "execution_count": 2,
      "metadata": {},
      "outputs": [
        {
          "data": {
            "text/plain": [
              "BankAccount { accountHolder: \u001b[32m\"Alice\"\u001b[39m, balance: \u001b[33m500\u001b[39m }"
            ]
          },
          "execution_count": 2,
          "metadata": {},
          "output_type": "execute_result"
        }
      ],
      "source": [
        "const aliceAccount = new BankAccount(\"Alice\", 500);\n",
        "aliceAccount;"
      ]
    },
    {
      "cell_type": "markdown",
      "metadata": {},
      "source": [
        "## Methods in Action\n",
        "\n",
        "Now that we have an instance of `BankAccount`, we can use its methods to interact with it. For example, depositing, withdrawing, and checking the balance:"
      ]
    },
    {
      "cell_type": "code",
      "execution_count": 3,
      "metadata": {},
      "outputs": [
        {
          "data": {
            "text/plain": [
              "\u001b[33m550\u001b[39m"
            ]
          },
          "execution_count": 3,
          "metadata": {},
          "output_type": "execute_result"
        }
      ],
      "source": [
        "aliceAccount.deposit(100);\n",
        "aliceAccount.withdraw(50);\n",
        "aliceAccount.getBalance();"
      ]
    },
    {
      "cell_type": "markdown",
      "metadata": {
        "tags": [
          "pagination"
        ]
      },
      "source": [
        "<div style=\"display: flex; justify-content: space-between;\">\n<a href=\"02 Objects.ipynb\" style=\"float: left;\">← Objects</a><a href=\"04 Generics.ipynb\" style=\"float: right;\">Generics →</a>\n</div>"
      ]
    }
  ],
  "metadata": {
    "kernelspec": {
      "display_name": "Deno",
      "language": "typescript",
      "name": "deno"
    },
    "language_info": {
      "codemirror_mode": "typescript",
      "file_extension": ".ts",
      "mimetype": "text/x.typescript",
      "name": "typescript",
      "nbconvert_exporter": "script",
      "pygments_lexer": "typescript",
      "version": "5.6.2"
    }
  },
  "nbformat": 4,
  "nbformat_minor": 2
}