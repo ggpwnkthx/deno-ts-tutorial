{
 "cells": [
  {
   "cell_type": "markdown",
   "metadata": {},
   "source": [
    "# Memory Addresses and Pointers\n",
    "\n",
    "When you declare a variable in TypeScript, it is stored in your computer's memory. Each piece of memory has an **address**, like a house on a street, and a **pointer** is a way to reference this address. While you don’t have to worry about managing memory directly in TypeScript, understanding this concept helps explain how variables and data interact.\n",
    "\n",
    "Imagine you declare `const x = 5`. This value (`5`) is stored in memory at an address (e.g., `12`). When your code accesses `x`, it knows to use its pointer to look up the actual value at address `12`."
   ]
  },
  {
   "cell_type": "markdown",
   "metadata": {},
   "source": [
    "## `null`\n",
    "\n",
    "- Represents the **intentional absence** of any value.\n",
    "- All variables with this value point to a reserved memory location (`null` address).\n"
   ]
  },
  {
   "cell_type": "markdown",
   "metadata": {},
   "source": [
    "## `undefined`\n",
    "\n",
    "- Represents an **uninitialized state**.\n",
    "- All variables with this vale also point to a reserved memory location, however it's distinct from `null`.\n"
   ]
  }
 ],
 "metadata": {
  "kernelspec": {
   "display_name": "Deno",
   "language": "typescript",
   "name": "deno"
  },
  "language_info": {
   "codemirror_mode": "typescript",
   "file_extension": ".ts",
   "mimetype": "text/x.typescript",
   "name": "typescript",
   "nbconvert_exporter": "script",
   "pygments_lexer": "typescript",
   "version": "5.6.2"
  }
 },
 "nbformat": 4,
 "nbformat_minor": 2
}
