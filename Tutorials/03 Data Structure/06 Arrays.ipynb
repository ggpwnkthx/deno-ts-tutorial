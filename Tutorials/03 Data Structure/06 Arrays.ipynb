{
  "cells": [
    {
      "cell_type": "markdown",
      "metadata": {},
      "source": [
        "# Arrays\n",
        "\n",
        "In TypeScript, an **array** is a type of object that acts as a container for storing multiple values of the same type. Like an object it has properties and methods, but the values that the array contains are not properties. This means you cannot access them with the `.` syntax. Instead, you use the `[]` syntax with an `index`."
      ]
    },
    {
      "cell_type": "markdown",
      "metadata": {},
      "source": [
        "## Instantiation\n",
        "\n",
        "You can create an array using the `Array` class, providing the type of its elements as a generic argument. The `Array` class provides a rich set of methods to work with the collection, such as adding, removing, and iterating over elements.\n"
      ]
    },
    {
      "cell_type": "code",
      "execution_count": 1,
      "metadata": {},
      "outputs": [
        {
          "data": {
            "text/plain": [
              "[ \u001b[33m10\u001b[39m, \u001b[33m20\u001b[39m, \u001b[33m30\u001b[39m ]"
            ]
          },
          "execution_count": 1,
          "metadata": {},
          "output_type": "execute_result"
        }
      ],
      "source": [
        "const numbers: Array<number> = new Array<number>(10, 20, 30);\n",
        "numbers;"
      ]
    },
    {
      "cell_type": "markdown",
      "metadata": {},
      "source": [
        "You can access elements in an array using their **index**, starting from `0` for the first element.\n"
      ]
    },
    {
      "cell_type": "code",
      "execution_count": 2,
      "metadata": {},
      "outputs": [
        {
          "data": {
            "text/plain": [
              "\u001b[33m20\u001b[39m"
            ]
          },
          "execution_count": 2,
          "metadata": {},
          "output_type": "execute_result"
        }
      ],
      "source": [
        "numbers[1];"
      ]
    },
    {
      "cell_type": "markdown",
      "metadata": {},
      "source": [
        "You can update the value at a specific index using an assignment operation. This modifies the array directly.\n"
      ]
    },
    {
      "cell_type": "code",
      "execution_count": 3,
      "metadata": {},
      "outputs": [
        {
          "data": {
            "text/plain": [
              "[ \u001b[33m10\u001b[39m, \u001b[33m40\u001b[39m, \u001b[33m30\u001b[39m ]"
            ]
          },
          "execution_count": 3,
          "metadata": {},
          "output_type": "execute_result"
        }
      ],
      "source": [
        "numbers[1] = 40;\n",
        "numbers;"
      ]
    },
    {
      "cell_type": "markdown",
      "metadata": {},
      "source": [
        "The `Array` class provides methods like `push`, `pop`, `shift`, and `unshift` to add or remove elements dynamically.\n"
      ]
    },
    {
      "cell_type": "code",
      "execution_count": 4,
      "metadata": {},
      "outputs": [
        {
          "data": {
            "text/plain": [
              "[ \u001b[33m50\u001b[39m, \u001b[33m10\u001b[39m, \u001b[33m40\u001b[39m, \u001b[33m30\u001b[39m, \u001b[33m60\u001b[39m ]"
            ]
          },
          "execution_count": 4,
          "metadata": {},
          "output_type": "execute_result"
        }
      ],
      "source": [
        "numbers.unshift(50);\n",
        "numbers.push(60);\n",
        "numbers;"
      ]
    },
    {
      "cell_type": "markdown",
      "metadata": {},
      "source": [
        "## Iteration\n",
        "\n",
        "You can iterate through an array using loops, such as `for`, `for...of`, or `forEach`. This is especially useful for processing all elements in the array."
      ]
    },
    {
      "cell_type": "code",
      "execution_count": 5,
      "metadata": {},
      "outputs": [
        {
          "data": {
            "text/plain": [
              "[ \u001b[33m2500\u001b[39m, \u001b[33m100\u001b[39m, \u001b[33m1600\u001b[39m, \u001b[33m900\u001b[39m, \u001b[33m3600\u001b[39m ]"
            ]
          },
          "execution_count": 5,
          "metadata": {},
          "output_type": "execute_result"
        }
      ],
      "source": [
        "const squares = numbers.map((num) => num ** 2);\n",
        "squares;"
      ]
    },
    {
      "cell_type": "markdown",
      "metadata": {},
      "source": [
        "## Shorthand\n",
        "\n",
        "For convenience, TypeScript provides a shorthand syntax for declaring arrays. Instead of using `Array<T>`, you can use `T[]`, where `T` is the type of elements in the array.\n"
      ]
    },
    {
      "cell_type": "code",
      "execution_count": 6,
      "metadata": {},
      "outputs": [
        {
          "data": {
            "text/plain": [
              "[ \u001b[32m\"apple\"\u001b[39m, \u001b[32m\"banana\"\u001b[39m, \u001b[32m\"cherry\"\u001b[39m ]"
            ]
          },
          "execution_count": 6,
          "metadata": {},
          "output_type": "execute_result"
        }
      ],
      "source": [
        "// Using shorthand syntax\n",
        "const fruits: string[] = [\"apple\", \"banana\", \"cherry\"];\n",
        "fruits;"
      ]
    },
    {
      "cell_type": "markdown",
      "metadata": {},
      "source": [
        "This shorthand is commonly used in TypeScript codebases and is equivalent to using the `Array` class. Choosing one or the other comes down to personal preference between having concise or explicit code. Which ever you choose, keep its use consistent in each of your projects."
      ]
    },
    {
      "cell_type": "markdown",
      "metadata": {
        "tags": [
          "pagination"
        ]
      },
      "source": [
        "<div style=\"display: flex; justify-content: space-between;\">\n<a href=\"05 Generics.ipynb\" style=\"float: left;\">← Generics</a><a href=\"07 Tuples.ipynb\" style=\"float: right;\">Tuples →</a>\n</div>"
      ]
    }
  ],
  "metadata": {
    "kernelspec": {
      "display_name": "Deno",
      "language": "typescript",
      "name": "deno"
    },
    "language_info": {
      "codemirror_mode": "typescript",
      "file_extension": ".ts",
      "mimetype": "text/x.typescript",
      "name": "typescript",
      "nbconvert_exporter": "script",
      "pygments_lexer": "typescript",
      "version": "5.6.2"
    }
  },
  "nbformat": 4,
  "nbformat_minor": 2
}