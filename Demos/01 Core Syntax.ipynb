{
  "cells": [
    {
      "cell_type": "code",
      "execution_count": 1,
      "metadata": {},
      "outputs": [
        {
          "data": {
            "text/plain": [
              "\u001b[32m\"The circumference of a circle with radius 7 is: 43.96\"\u001b[39m"
            ]
          },
          "execution_count": 1,
          "metadata": {},
          "output_type": "execute_result"
        }
      ],
      "source": [
        "/**\n",
        " * This code calculates the circumference of a circle\n",
        " * and demonstrates various TypeScript features, \n",
        " * including logical and comparison operators.\n",
        " */\n",
        "\n",
        "// Type annotations for variables\n",
        "let message: string = \"\";\n",
        "const pi: number = 3.14;\n",
        "\n",
        "// Code block to define the scope\n",
        "{\n",
        "  // Variable with type annotation and block-scoped declaration\n",
        "  const radius: number = 7;\n",
        "\n",
        "  /* \n",
        "   * Expression to calculate the circumference.\n",
        "   * This demonstrates how mathematical operations can be combined \n",
        "   * with constants and variables to compute results dynamically. \n",
        "   * Here, the formula for circumference (2 * pi * radius) is applied.\n",
        "   */\n",
        "  const circumference: number = 2 * pi * radius;\n",
        "\n",
        "  // Logical and comparison operators used for inline validation and checks\n",
        "  const isValidRadius: boolean = radius > 0 && circumference > 0;\n",
        "\n",
        "  // Update the message string using logical evaluation\n",
        "  message += isValidRadius \n",
        "    ? `The circumference of a circle with radius ${radius} is: ${circumference}`\n",
        "    : `Invalid radius: ${radius}`;\n",
        "}\n",
        "\n",
        "// Explicit return of the message\n",
        "message;\n"
      ]
    },
    {
      "cell_type": "markdown",
      "metadata": {
        "tags": [
          "pagination"
        ]
      },
      "source": [
        "<div style=\"display: flex; justify-content: space-between;\">\n<a href=\"../Tutorials/00 Introduction.ipynb\" style=\"float: right;\">Introduction →</a>\n</div>"
      ]
    }
  ],
  "metadata": {
    "kernelspec": {
      "display_name": "Deno",
      "language": "typescript",
      "name": "deno"
    },
    "language_info": {
      "codemirror_mode": "typescript",
      "file_extension": ".ts",
      "mimetype": "text/x.typescript",
      "name": "typescript",
      "nbconvert_exporter": "script",
      "pygments_lexer": "typescript",
      "version": "5.6.2"
    }
  },
  "nbformat": 4,
  "nbformat_minor": 2
}